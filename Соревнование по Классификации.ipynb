{
  "cells": [
    {
      "cell_type": "markdown",
      "source": [
        "# Загрузка и установка приколов"
      ],
      "metadata": {
        "id": "zahW7OAAvyhJ"
      }
    },
    {
      "cell_type": "code",
      "source": [
        "!kaggle competitions download -c urfuaieng2022clf2\n",
        "!pip install catboost\n",
        "!pip install patool\n",
        "!pip install optuna\n",
        "!pip install lazypredict"
      ],
      "outputs": [
        {
          "output_type": "stream",
          "name": "stdout",
          "text": "Traceback (most recent call last):\n  File \"/usr/local/bin/kaggle\", line 5, in <module>\n    from kaggle.cli import main\n  File \"/usr/local/lib/python3.10/dist-packages/kaggle/__init__.py\", line 23, in <module>\n    api.authenticate()\n  File \"/usr/local/lib/python3.10/dist-packages/kaggle/api/kaggle_api_extended.py\", line 164, in authenticate\n    raise IOError('Could not find {}. Make sure it\\'s located in'\nOSError: Could not find kaggle.json. Make sure it's located in /root/.kaggle. Or use the environment method.\nLooking in indexes: https://pypi.org/simple, https://us-python.pkg.dev/colab-wheels/public/simple/\nCollecting catboost\n  Downloading catboost-1.2-cp310-cp310-manylinux2014_x86_64.whl (98.6 MB)\n\u001b[2K     \u001b[90m━━━━━━━━━━━━━━━━━━━━━━━━━━━━━━━━━━━━━━━━\u001b[0m \u001b[32m98.6/98.6 MB\u001b[0m \u001b[31m7.7 MB/s\u001b[0m eta \u001b[36m0:00:00\u001b[0m\n\u001b[?25hRequirement already satisfied: graphviz in /usr/local/lib/python3.10/dist-packages (from catboost) (0.20.1)\nRequirement already satisfied: matplotlib in /usr/local/lib/python3.10/dist-packages (from catboost) (3.7.1)\nRequirement already satisfied: numpy>=1.16.0 in /usr/local/lib/python3.10/dist-packages (from catboost) (1.22.4)\nRequirement already satisfied: pandas>=0.24 in /usr/local/lib/python3.10/dist-packages (from catboost) (1.5.3)\nRequirement already satisfied: scipy in /usr/local/lib/python3.10/dist-packages (from catboost) (1.10.1)\nRequirement already satisfied: plotly in /usr/local/lib/python3.10/dist-packages (from catboost) (5.13.1)\nRequirement already satisfied: six in /usr/local/lib/python3.10/dist-packages (from catboost) (1.16.0)\nRequirement already satisfied: python-dateutil>=2.8.1 in /usr/local/lib/python3.10/dist-packages (from pandas>=0.24->catboost) (2.8.2)\nRequirement already satisfied: pytz>=2020.1 in /usr/local/lib/python3.10/dist-packages (from pandas>=0.24->catboost) (2022.7.1)\nRequirement already satisfied: contourpy>=1.0.1 in /usr/local/lib/python3.10/dist-packages (from matplotlib->catboost) (1.0.7)\nRequirement already satisfied: cycler>=0.10 in /usr/local/lib/python3.10/dist-packages (from matplotlib->catboost) (0.11.0)\nRequirement already satisfied: fonttools>=4.22.0 in /usr/local/lib/python3.10/dist-packages (from matplotlib->catboost) (4.39.3)\nRequirement already satisfied: kiwisolver>=1.0.1 in /usr/local/lib/python3.10/dist-packages (from matplotlib->catboost) (1.4.4)\nRequirement already satisfied: packaging>=20.0 in /usr/local/lib/python3.10/dist-packages (from matplotlib->catboost) (23.1)\nRequirement already satisfied: pillow>=6.2.0 in /usr/local/lib/python3.10/dist-packages (from matplotlib->catboost) (8.4.0)\nRequirement already satisfied: pyparsing>=2.3.1 in /usr/local/lib/python3.10/dist-packages (from matplotlib->catboost) (3.0.9)\nRequirement already satisfied: tenacity>=6.2.0 in /usr/local/lib/python3.10/dist-packages (from plotly->catboost) (8.2.2)\nInstalling collected packages: catboost\nSuccessfully installed catboost-1.2\nLooking in indexes: https://pypi.org/simple, https://us-python.pkg.dev/colab-wheels/public/simple/\nCollecting patool\n  Downloading patool-1.12-py2.py3-none-any.whl (77 kB)\n\u001b[2K     \u001b[90m━━━━━━━━━━━━━━━━━━━━━━━━━━━━━━━━━━━━━━━━\u001b[0m \u001b[32m77.5/77.5 kB\u001b[0m \u001b[31m5.1 MB/s\u001b[0m eta \u001b[36m0:00:00\u001b[0m\n\u001b[?25hInstalling collected packages: patool\nSuccessfully installed patool-1.12\nLooking in indexes: https://pypi.org/simple, https://us-python.pkg.dev/colab-wheels/public/simple/\nCollecting optuna\n  Downloading optuna-3.1.1-py3-none-any.whl (365 kB)\n\u001b[2K     \u001b[90m━━━━━━━━━━━━━━━━━━━━━━━━━━━━━━━━━━━━━━\u001b[0m \u001b[32m365.7/365.7 kB\u001b[0m \u001b[31m11.9 MB/s\u001b[0m eta \u001b[36m0:00:00\u001b[0m\n\u001b[?25hCollecting alembic>=1.5.0 (from optuna)\n  Downloading alembic-1.11.1-py3-none-any.whl (224 kB)\n\u001b[2K     \u001b[90m━━━━━━━━━━━━━━━━━━━━━━━━━━━━━━━━━━━━━━\u001b[0m \u001b[32m224.5/224.5 kB\u001b[0m \u001b[31m26.9 MB/s\u001b[0m eta \u001b[36m0:00:00\u001b[0m\n\u001b[?25hCollecting cmaes>=0.9.1 (from optuna)\n  Downloading cmaes-0.9.1-py3-none-any.whl (21 kB)\nCollecting colorlog (from optuna)\n  Downloading colorlog-6.7.0-py2.py3-none-any.whl (11 kB)\nRequirement already satisfied: numpy in /usr/local/lib/python3.10/dist-packages (from optuna) (1.22.4)\nRequirement already satisfied: packaging>=20.0 in /usr/local/lib/python3.10/dist-packages (from optuna) (23.1)\nRequirement already satisfied: sqlalchemy>=1.3.0 in /usr/local/lib/python3.10/dist-packages (from optuna) (2.0.10)\nRequirement already satisfied: tqdm in /usr/local/lib/python3.10/dist-packages (from optuna) (4.65.0)\nRequirement already satisfied: PyYAML in /usr/local/lib/python3.10/dist-packages (from optuna) (6.0)\nCollecting Mako (from alembic>=1.5.0->optuna)\n  Downloading Mako-1.2.4-py3-none-any.whl (78 kB)\n\u001b[2K     \u001b[90m━━━━━━━━━━━━━━━━━━━━━━━━━━━━━━━━━━━━━━━━\u001b[0m \u001b[32m78.7/78.7 kB\u001b[0m \u001b[31m11.7 MB/s\u001b[0m eta \u001b[36m0:00:00\u001b[0m\n\u001b[?25hRequirement already satisfied: typing-extensions>=4 in /usr/local/lib/python3.10/dist-packages (from alembic>=1.5.0->optuna) (4.5.0)\nRequirement already satisfied: greenlet!=0.4.17 in /usr/local/lib/python3.10/dist-packages (from sqlalchemy>=1.3.0->optuna) (2.0.2)\nRequirement already satisfied: MarkupSafe>=0.9.2 in /usr/local/lib/python3.10/dist-packages (from Mako->alembic>=1.5.0->optuna) (2.1.2)\nInstalling collected packages: Mako, colorlog, cmaes, alembic, optuna\nSuccessfully installed Mako-1.2.4 alembic-1.11.1 cmaes-0.9.1 colorlog-6.7.0 optuna-3.1.1\nLooking in indexes: https://pypi.org/simple, https://us-python.pkg.dev/colab-wheels/public/simple/\nCollecting lazypredict\n  Downloading lazypredict-0.2.12-py2.py3-none-any.whl (12 kB)\nRequirement already satisfied: click in /usr/local/lib/python3.10/dist-packages (from lazypredict) (8.1.3)\nRequirement already satisfied: scikit-learn in /usr/local/lib/python3.10/dist-packages (from lazypredict) (1.2.2)\nRequirement already satisfied: pandas in /usr/local/lib/python3.10/dist-packages (from lazypredict) (1.5.3)\nRequirement already satisfied: tqdm in /usr/local/lib/python3.10/dist-packages (from lazypredict) (4.65.0)\nRequirement already satisfied: joblib in /usr/local/lib/python3.10/dist-packages (from lazypredict) (1.2.0)\nRequirement already satisfied: lightgbm in /usr/local/lib/python3.10/dist-packages (from lazypredict) (3.3.5)\nRequirement already satisfied: xgboost in /usr/local/lib/python3.10/dist-packages (from lazypredict) (1.7.5)\nRequirement already satisfied: wheel in /usr/local/lib/python3.10/dist-packages (from lightgbm->lazypredict) (0.40.0)\nRequirement already satisfied: numpy in /usr/local/lib/python3.10/dist-packages (from lightgbm->lazypredict) (1.22.4)\nRequirement already satisfied: scipy in /usr/local/lib/python3.10/dist-packages (from lightgbm->lazypredict) (1.10.1)\nRequirement already satisfied: threadpoolctl>=2.0.0 in /usr/local/lib/python3.10/dist-packages (from scikit-learn->lazypredict) (3.1.0)\nRequirement already satisfied: python-dateutil>=2.8.1 in /usr/local/lib/python3.10/dist-packages (from pandas->lazypredict) (2.8.2)\nRequirement already satisfied: pytz>=2020.1 in /usr/local/lib/python3.10/dist-packages (from pandas->lazypredict) (2022.7.1)\nRequirement already satisfied: six>=1.5 in /usr/local/lib/python3.10/dist-packages (from python-dateutil>=2.8.1->pandas->lazypredict) (1.16.0)\nInstalling collected packages: lazypredict\nSuccessfully installed lazypredict-0.2.12\n"
        }
      ],
      "execution_count": null,
      "metadata": {
        "colab": {
          "base_uri": "https://localhost:8080/"
        },
        "id": "sr6SZ3ihYfAy",
        "outputId": "5f9b0b44-7624-476b-a90d-4d23bdf8f8db"
      }
    },
    {
      "cell_type": "code",
      "source": [
        "import patoolib\n",
        "\n",
        "import numpy as np\n",
        "import pandas as pd\n",
        "import datetime\n",
        "import re\n",
        "\n",
        "from sklearn.svm import LinearSVC\n",
        "from sklearn.model_selection import StratifiedKFold, cross_val_score, GridSearchCV, RandomizedSearchCV\n",
        "from sklearn.model_selection import StratifiedShuffleSplit\n",
        "from catboost import CatBoostRegressor\n",
        "import optuna\n",
        "from sklearn.model_selection import train_test_split, StratifiedKFold, RandomizedSearchCV\n",
        "from sklearn.linear_model import LogisticRegression\n",
        "from sklearn.cluster import KMeans\n",
        "from sklearn.neural_network import MLPRegressor\n",
        "from sklearn.neighbors import KNeighborsRegressor\n",
        "from sklearn.svm import SVC\n",
        "from lazypredict.Supervised import LazyRegressor\n",
        "from sklearn.gaussian_process import GaussianProcessRegressor\n",
        "from sklearn.tree import DecisionTreeRegressor\n",
        "from sklearn.ensemble import RandomForestRegressor, AdaBoostRegressor\n",
        "from sklearn.naive_bayes import GaussianNB\n",
        "from sklearn.discriminant_analysis import QuadraticDiscriminantAnalysis\n",
        "from xgboost import XGBRegressor\n",
        "from sklearn.metrics import mean_absolute_error,classification_report\n",
        "from sklearn.preprocessing import StandardScaler, Normalizer\n",
        "from sklearn.model_selection import GridSearchCV\n",
        "from sklearn.ensemble import GradientBoostingRegressor\n",
        "from sklearn.model_selection import ShuffleSplit\n",
        "import lazypredict\n",
        "from sklearn.model_selection import cross_validate\n",
        "import joblib\n",
        "from sklearn.svm import LinearSVC\n",
        "from hyperopt import tpe, STATUS_OK, Trials, hp, fmin, STATUS_OK, space_eval\n",
        "import optuna\n",
        "from sklearn.model_selection import StratifiedKFold, cross_val_score, GridSearchCV, RandomizedSearchCV\n",
        "from sklearn.model_selection import StratifiedShuffleSplit\n",
        "from catboost import CatBoostClassifier\n",
        "from sklearn.model_selection import train_test_split, StratifiedKFold, RandomizedSearchCV\n",
        "from sklearn.linear_model import LogisticRegression\n",
        "from sklearn.cluster import KMeans\n",
        "from sklearn.neural_network import MLPClassifier\n",
        "from sklearn.neighbors import KNeighborsClassifier\n",
        "from sklearn.svm import SVC\n",
        "from sklearn.gaussian_process import GaussianProcessClassifier\n",
        "from sklearn.tree import DecisionTreeClassifier\n",
        "from sklearn.ensemble import RandomForestClassifier, AdaBoostClassifier\n",
        "from sklearn.naive_bayes import GaussianNB\n",
        "from sklearn.discriminant_analysis import QuadraticDiscriminantAnalysis\n",
        "from xgboost import XGBClassifier\n",
        "from sklearn.metrics import f1_score, average_precision_score\n",
        "from sklearn.metrics import accuracy_score, f1_score, average_precision_score, roc_auc_score, classification_report, precision_score, recall_score\n",
        "from sklearn.preprocessing import StandardScaler, Normalizer\n",
        "from sklearn.model_selection import GridSearchCV\n",
        "from sklearn.ensemble import GradientBoostingClassifier\n",
        "from sklearn.model_selection import ShuffleSplit\n",
        "from sklearn.model_selection import cross_validate\n",
        "import joblib\n",
        "\n",
        "\n",
        "\n",
        "import matplotlib.pyplot as plt\n",
        "import seaborn as sns\n",
        "\n",
        "from statistics import mean\n",
        "\n",
        "import warnings\n",
        "warnings.filterwarnings(\"ignore\")\n",
        "\n",
        "from sklearn.preprocessing import LabelEncoder\n",
        "\n",
        "%matplotlib inline"
      ],
      "outputs": [],
      "execution_count": null,
      "metadata": {
        "id": "f_p4Y6BBc0H-"
      }
    },
    {
      "cell_type": "markdown",
      "source": [
        "## Загрузка данных"
      ],
      "metadata": {
        "id": "w_sXeCiWwij4"
      }
    },
    {
      "cell_type": "code",
      "source": [
        "patoolib.extract_archive('/content/urfuaieng2022clf2.zip')"
      ],
      "outputs": [
        {
          "output_type": "stream",
          "name": "stdout",
          "text": "patool: Extracting /content/urfuaieng2022clf2.zip ...\npatool: running /usr/bin/7z x -o./Unpack_f8fvmecq -- /content/urfuaieng2022clf2.zip\npatool: ... /content/urfuaieng2022clf2.zip extracted to `urfuaieng2022clf2' (multiple files in root).\n"
        },
        {
          "output_type": "execute_result",
          "execution_count": 3,
          "data": {
            "text/plain": "'urfuaieng2022clf2'",
            "application/vnd.google.colaboratory.intrinsic+json": {
              "type": "string"
            }
          },
          "metadata": {}
        }
      ],
      "execution_count": null,
      "metadata": {
        "colab": {
          "base_uri": "https://localhost:8080/",
          "height": 87
        },
        "id": "RJcsmzN_c_Lm",
        "outputId": "809214d7-da9c-42b8-9f63-1937be6d71fb"
      }
    },
    {
      "cell_type": "code",
      "source": [
        "train_who = pd.read_csv(\"/content/urfuaieng2022clf2/Train_Who.csv\") \n",
        "train_target = pd.read_csv(\"/content/urfuaieng2022clf2/Train_Target_clf.csv\") \n",
        "assessments = pd.read_csv(\"/content/urfuaieng2022clf2/assessments.csv\") \n",
        "courses = pd.read_csv('/content/urfuaieng2022clf2/courses.csv') \n",
        "student_info = pd.read_csv(\"/content/urfuaieng2022clf2/studentInfo.csv\") \n",
        "student_registration = pd.read_csv(\"/content/urfuaieng2022clf2/studentRegistration.csv\") \n",
        "student_vle = pd.read_csv(\"/content/urfuaieng2022clf2/studentVle.csv\")\n",
        "vle = pd.read_csv(\"/content/urfuaieng2022clf2/vle.csv\")\n",
        "test_who = pd.read_csv(\"/content/urfuaieng2022clf2/Test_Who.csv\")\n",
        "\n",
        "\n",
        "\n"
      ],
      "outputs": [],
      "execution_count": null,
      "metadata": {
        "id": "FhDYXEIMdJYO"
      }
    },
    {
      "cell_type": "markdown",
      "source": [
        "# Анализ исходных таблиц"
      ],
      "metadata": {
        "id": "eTdIDEtexW2S"
      }
    },
    {
      "cell_type": "markdown",
      "source": [
        "## train_who"
      ],
      "metadata": {
        "id": "16_EVYV8xbiI"
      }
    },
    {
      "cell_type": "code",
      "source": [
        "train_who.head()"
      ],
      "outputs": [
        {
          "output_type": "execute_result",
          "execution_count": 5,
          "data": {
            "text/plain": "   ID  id_student code_module code_presentation\n0   0      464685         DDD             2014B\n1   1      606593         DDD             2013J\n2   2     1674799         CCC             2014J\n3   3      195246         FFF             2014J\n4   4      582080         FFF             2013J",
            "text/html": "\n  <div id=\"df-e8b75cc0-201d-4cf4-ba04-6c0d9e163fa9\">\n    <div class=\"colab-df-container\">\n      <div>\n<style scoped>\n    .dataframe tbody tr th:only-of-type {\n        vertical-align: middle;\n    }\n\n    .dataframe tbody tr th {\n        vertical-align: top;\n    }\n\n    .dataframe thead th {\n        text-align: right;\n    }\n</style>\n<table border=\"1\" class=\"dataframe\">\n  <thead>\n    <tr style=\"text-align: right;\">\n      <th></th>\n      <th>ID</th>\n      <th>id_student</th>\n      <th>code_module</th>\n      <th>code_presentation</th>\n    </tr>\n  </thead>\n  <tbody>\n    <tr>\n      <th>0</th>\n      <td>0</td>\n      <td>464685</td>\n      <td>DDD</td>\n      <td>2014B</td>\n    </tr>\n    <tr>\n      <th>1</th>\n      <td>1</td>\n      <td>606593</td>\n      <td>DDD</td>\n      <td>2013J</td>\n    </tr>\n    <tr>\n      <th>2</th>\n      <td>2</td>\n      <td>1674799</td>\n      <td>CCC</td>\n      <td>2014J</td>\n    </tr>\n    <tr>\n      <th>3</th>\n      <td>3</td>\n      <td>195246</td>\n      <td>FFF</td>\n      <td>2014J</td>\n    </tr>\n    <tr>\n      <th>4</th>\n      <td>4</td>\n      <td>582080</td>\n      <td>FFF</td>\n      <td>2013J</td>\n    </tr>\n  </tbody>\n</table>\n</div>\n      <button class=\"colab-df-convert\" onclick=\"convertToInteractive('df-e8b75cc0-201d-4cf4-ba04-6c0d9e163fa9')\"\n              title=\"Convert this dataframe to an interactive table.\"\n              style=\"display:none;\">\n        \n  <svg xmlns=\"http://www.w3.org/2000/svg\" height=\"24px\"viewBox=\"0 0 24 24\"\n       width=\"24px\">\n    <path d=\"M0 0h24v24H0V0z\" fill=\"none\"/>\n    <path d=\"M18.56 5.44l.94 2.06.94-2.06 2.06-.94-2.06-.94-.94-2.06-.94 2.06-2.06.94zm-11 1L8.5 8.5l.94-2.06 2.06-.94-2.06-.94L8.5 2.5l-.94 2.06-2.06.94zm10 10l.94 2.06.94-2.06 2.06-.94-2.06-.94-.94-2.06-.94 2.06-2.06.94z\"/><path d=\"M17.41 7.96l-1.37-1.37c-.4-.4-.92-.59-1.43-.59-.52 0-1.04.2-1.43.59L10.3 9.45l-7.72 7.72c-.78.78-.78 2.05 0 2.83L4 21.41c.39.39.9.59 1.41.59.51 0 1.02-.2 1.41-.59l7.78-7.78 2.81-2.81c.8-.78.8-2.07 0-2.86zM5.41 20L4 18.59l7.72-7.72 1.47 1.35L5.41 20z\"/>\n  </svg>\n      </button>\n      \n  <style>\n    .colab-df-container {\n      display:flex;\n      flex-wrap:wrap;\n      gap: 12px;\n    }\n\n    .colab-df-convert {\n      background-color: #E8F0FE;\n      border: none;\n      border-radius: 50%;\n      cursor: pointer;\n      display: none;\n      fill: #1967D2;\n      height: 32px;\n      padding: 0 0 0 0;\n      width: 32px;\n    }\n\n    .colab-df-convert:hover {\n      background-color: #E2EBFA;\n      box-shadow: 0px 1px 2px rgba(60, 64, 67, 0.3), 0px 1px 3px 1px rgba(60, 64, 67, 0.15);\n      fill: #174EA6;\n    }\n\n    [theme=dark] .colab-df-convert {\n      background-color: #3B4455;\n      fill: #D2E3FC;\n    }\n\n    [theme=dark] .colab-df-convert:hover {\n      background-color: #434B5C;\n      box-shadow: 0px 1px 3px 1px rgba(0, 0, 0, 0.15);\n      filter: drop-shadow(0px 1px 2px rgba(0, 0, 0, 0.3));\n      fill: #FFFFFF;\n    }\n  </style>\n\n      <script>\n        const buttonEl =\n          document.querySelector('#df-e8b75cc0-201d-4cf4-ba04-6c0d9e163fa9 button.colab-df-convert');\n        buttonEl.style.display =\n          google.colab.kernel.accessAllowed ? 'block' : 'none';\n\n        async function convertToInteractive(key) {\n          const element = document.querySelector('#df-e8b75cc0-201d-4cf4-ba04-6c0d9e163fa9');\n          const dataTable =\n            await google.colab.kernel.invokeFunction('convertToInteractive',\n                                                     [key], {});\n          if (!dataTable) return;\n\n          const docLinkHtml = 'Like what you see? Visit the ' +\n            '<a target=\"_blank\" href=https://colab.research.google.com/notebooks/data_table.ipynb>data table notebook</a>'\n            + ' to learn more about interactive tables.';\n          element.innerHTML = '';\n          dataTable['output_type'] = 'display_data';\n          await google.colab.output.renderOutput(dataTable, element);\n          const docLink = document.createElement('div');\n          docLink.innerHTML = docLinkHtml;\n          element.appendChild(docLink);\n        }\n      </script>\n    </div>\n  </div>\n  "
          },
          "metadata": {}
        }
      ],
      "execution_count": null,
      "metadata": {
        "colab": {
          "base_uri": "https://localhost:8080/"
        },
        "id": "RACX9RtJxZKO",
        "outputId": "d57ae027-48da-41e1-d5cf-dc6fe2327305"
      }
    },
    {
      "cell_type": "code",
      "source": [
        "train_who.info()"
      ],
      "outputs": [
        {
          "output_type": "stream",
          "name": "stdout",
          "text": "<class 'pandas.core.frame.DataFrame'>\nRangeIndex: 26074 entries, 0 to 26073\nData columns (total 4 columns):\n #   Column             Non-Null Count  Dtype \n---  ------             --------------  ----- \n 0   ID                 26074 non-null  int64 \n 1   id_student         26074 non-null  int64 \n 2   code_module        26074 non-null  object\n 3   code_presentation  26074 non-null  object\ndtypes: int64(2), object(2)\nmemory usage: 814.9+ KB\n"
        }
      ],
      "execution_count": null,
      "metadata": {
        "colab": {
          "base_uri": "https://localhost:8080/"
        },
        "id": "MYJxxNNbxgLP",
        "outputId": "7e1f597e-aacb-44c1-9e52-9069b284af39"
      }
    },
    {
      "cell_type": "code",
      "source": [
        "train_who.duplicated().value_counts()"
      ],
      "outputs": [
        {
          "output_type": "execute_result",
          "execution_count": 7,
          "data": {
            "text/plain": "False    26074\ndtype: int64"
          },
          "metadata": {}
        }
      ],
      "execution_count": null,
      "metadata": {
        "colab": {
          "base_uri": "https://localhost:8080/"
        },
        "id": "QoTsIvzaxuYI",
        "outputId": "0cdff3d9-26f4-4e0d-eb0e-2d7fd87dd656"
      }
    },
    {
      "cell_type": "markdown",
      "source": [
        "Приколов не обнаружено, двигаемся дальше"
      ],
      "metadata": {
        "id": "Kpo2AxhEx1Jw"
      }
    },
    {
      "cell_type": "markdown",
      "source": [
        "## train_target"
      ],
      "metadata": {
        "id": "Xowu9Kcbx93g"
      }
    },
    {
      "cell_type": "code",
      "source": [
        "train_target.head()"
      ],
      "outputs": [
        {
          "output_type": "execute_result",
          "execution_count": 8,
          "data": {
            "text/plain": "   ID  final_result\n0   0             1\n1   1             0\n2   2             1\n3   3             0\n4   4             0",
            "text/html": "\n  <div id=\"df-83fbb6f5-e2e2-4957-856d-cabc3c395d12\">\n    <div class=\"colab-df-container\">\n      <div>\n<style scoped>\n    .dataframe tbody tr th:only-of-type {\n        vertical-align: middle;\n    }\n\n    .dataframe tbody tr th {\n        vertical-align: top;\n    }\n\n    .dataframe thead th {\n        text-align: right;\n    }\n</style>\n<table border=\"1\" class=\"dataframe\">\n  <thead>\n    <tr style=\"text-align: right;\">\n      <th></th>\n      <th>ID</th>\n      <th>final_result</th>\n    </tr>\n  </thead>\n  <tbody>\n    <tr>\n      <th>0</th>\n      <td>0</td>\n      <td>1</td>\n    </tr>\n    <tr>\n      <th>1</th>\n      <td>1</td>\n      <td>0</td>\n    </tr>\n    <tr>\n      <th>2</th>\n      <td>2</td>\n      <td>1</td>\n    </tr>\n    <tr>\n      <th>3</th>\n      <td>3</td>\n      <td>0</td>\n    </tr>\n    <tr>\n      <th>4</th>\n      <td>4</td>\n      <td>0</td>\n    </tr>\n  </tbody>\n</table>\n</div>\n      <button class=\"colab-df-convert\" onclick=\"convertToInteractive('df-83fbb6f5-e2e2-4957-856d-cabc3c395d12')\"\n              title=\"Convert this dataframe to an interactive table.\"\n              style=\"display:none;\">\n        \n  <svg xmlns=\"http://www.w3.org/2000/svg\" height=\"24px\"viewBox=\"0 0 24 24\"\n       width=\"24px\">\n    <path d=\"M0 0h24v24H0V0z\" fill=\"none\"/>\n    <path d=\"M18.56 5.44l.94 2.06.94-2.06 2.06-.94-2.06-.94-.94-2.06-.94 2.06-2.06.94zm-11 1L8.5 8.5l.94-2.06 2.06-.94-2.06-.94L8.5 2.5l-.94 2.06-2.06.94zm10 10l.94 2.06.94-2.06 2.06-.94-2.06-.94-.94-2.06-.94 2.06-2.06.94z\"/><path d=\"M17.41 7.96l-1.37-1.37c-.4-.4-.92-.59-1.43-.59-.52 0-1.04.2-1.43.59L10.3 9.45l-7.72 7.72c-.78.78-.78 2.05 0 2.83L4 21.41c.39.39.9.59 1.41.59.51 0 1.02-.2 1.41-.59l7.78-7.78 2.81-2.81c.8-.78.8-2.07 0-2.86zM5.41 20L4 18.59l7.72-7.72 1.47 1.35L5.41 20z\"/>\n  </svg>\n      </button>\n      \n  <style>\n    .colab-df-container {\n      display:flex;\n      flex-wrap:wrap;\n      gap: 12px;\n    }\n\n    .colab-df-convert {\n      background-color: #E8F0FE;\n      border: none;\n      border-radius: 50%;\n      cursor: pointer;\n      display: none;\n      fill: #1967D2;\n      height: 32px;\n      padding: 0 0 0 0;\n      width: 32px;\n    }\n\n    .colab-df-convert:hover {\n      background-color: #E2EBFA;\n      box-shadow: 0px 1px 2px rgba(60, 64, 67, 0.3), 0px 1px 3px 1px rgba(60, 64, 67, 0.15);\n      fill: #174EA6;\n    }\n\n    [theme=dark] .colab-df-convert {\n      background-color: #3B4455;\n      fill: #D2E3FC;\n    }\n\n    [theme=dark] .colab-df-convert:hover {\n      background-color: #434B5C;\n      box-shadow: 0px 1px 3px 1px rgba(0, 0, 0, 0.15);\n      filter: drop-shadow(0px 1px 2px rgba(0, 0, 0, 0.3));\n      fill: #FFFFFF;\n    }\n  </style>\n\n      <script>\n        const buttonEl =\n          document.querySelector('#df-83fbb6f5-e2e2-4957-856d-cabc3c395d12 button.colab-df-convert');\n        buttonEl.style.display =\n          google.colab.kernel.accessAllowed ? 'block' : 'none';\n\n        async function convertToInteractive(key) {\n          const element = document.querySelector('#df-83fbb6f5-e2e2-4957-856d-cabc3c395d12');\n          const dataTable =\n            await google.colab.kernel.invokeFunction('convertToInteractive',\n                                                     [key], {});\n          if (!dataTable) return;\n\n          const docLinkHtml = 'Like what you see? Visit the ' +\n            '<a target=\"_blank\" href=https://colab.research.google.com/notebooks/data_table.ipynb>data table notebook</a>'\n            + ' to learn more about interactive tables.';\n          element.innerHTML = '';\n          dataTable['output_type'] = 'display_data';\n          await google.colab.output.renderOutput(dataTable, element);\n          const docLink = document.createElement('div');\n          docLink.innerHTML = docLinkHtml;\n          element.appendChild(docLink);\n        }\n      </script>\n    </div>\n  </div>\n  "
          },
          "metadata": {}
        }
      ],
      "execution_count": null,
      "metadata": {
        "colab": {
          "base_uri": "https://localhost:8080/"
        },
        "id": "vF3dt7BLyKOq",
        "outputId": "e79b4c2d-84f0-449e-915c-3d8ae19eaa23"
      }
    },
    {
      "cell_type": "code",
      "source": [
        "train_target.info(), train_target.duplicated().value_counts()"
      ],
      "outputs": [
        {
          "output_type": "stream",
          "name": "stdout",
          "text": "<class 'pandas.core.frame.DataFrame'>\nRangeIndex: 26074 entries, 0 to 26073\nData columns (total 2 columns):\n #   Column        Non-Null Count  Dtype\n---  ------        --------------  -----\n 0   ID            26074 non-null  int64\n 1   final_result  26074 non-null  int64\ndtypes: int64(2)\nmemory usage: 407.5 KB\n"
        },
        {
          "output_type": "execute_result",
          "execution_count": 9,
          "data": {
            "text/plain": "(None,\n False    26074\n dtype: int64)"
          },
          "metadata": {}
        }
      ],
      "execution_count": null,
      "metadata": {
        "colab": {
          "base_uri": "https://localhost:8080/"
        },
        "id": "7wvJY4Qsxwp3",
        "outputId": "2f00d6bf-635d-4b00-f518-cc2f15b3b221"
      }
    },
    {
      "cell_type": "markdown",
      "source": [
        "Аналогично"
      ],
      "metadata": {
        "id": "mN4S9pO0yOk3"
      }
    },
    {
      "cell_type": "markdown",
      "source": [
        "## assessments"
      ],
      "metadata": {
        "id": "FAXLaePryS2B"
      }
    },
    {
      "cell_type": "code",
      "source": [
        "assessments.head()"
      ],
      "outputs": [
        {
          "output_type": "execute_result",
          "execution_count": 10,
          "data": {
            "text/plain": "  code_module code_presentation  id_assessment assessment_type   date  weight\n0         AAA             2013J           1752             TMA  19.00   10.00\n1         AAA             2013J           1753             TMA  54.00   20.00\n2         AAA             2013J           1754             TMA 117.00   20.00\n3         AAA             2013J           1755             TMA 166.00   20.00\n4         AAA             2013J           1756             TMA 215.00   30.00",
            "text/html": "\n  <div id=\"df-442da806-02d5-4792-9682-5d835c2ff939\">\n    <div class=\"colab-df-container\">\n      <div>\n<style scoped>\n    .dataframe tbody tr th:only-of-type {\n        vertical-align: middle;\n    }\n\n    .dataframe tbody tr th {\n        vertical-align: top;\n    }\n\n    .dataframe thead th {\n        text-align: right;\n    }\n</style>\n<table border=\"1\" class=\"dataframe\">\n  <thead>\n    <tr style=\"text-align: right;\">\n      <th></th>\n      <th>code_module</th>\n      <th>code_presentation</th>\n      <th>id_assessment</th>\n      <th>assessment_type</th>\n      <th>date</th>\n      <th>weight</th>\n    </tr>\n  </thead>\n  <tbody>\n    <tr>\n      <th>0</th>\n      <td>AAA</td>\n      <td>2013J</td>\n      <td>1752</td>\n      <td>TMA</td>\n      <td>19.00</td>\n      <td>10.00</td>\n    </tr>\n    <tr>\n      <th>1</th>\n      <td>AAA</td>\n      <td>2013J</td>\n      <td>1753</td>\n      <td>TMA</td>\n      <td>54.00</td>\n      <td>20.00</td>\n    </tr>\n    <tr>\n      <th>2</th>\n      <td>AAA</td>\n      <td>2013J</td>\n      <td>1754</td>\n      <td>TMA</td>\n      <td>117.00</td>\n      <td>20.00</td>\n    </tr>\n    <tr>\n      <th>3</th>\n      <td>AAA</td>\n      <td>2013J</td>\n      <td>1755</td>\n      <td>TMA</td>\n      <td>166.00</td>\n      <td>20.00</td>\n    </tr>\n    <tr>\n      <th>4</th>\n      <td>AAA</td>\n      <td>2013J</td>\n      <td>1756</td>\n      <td>TMA</td>\n      <td>215.00</td>\n      <td>30.00</td>\n    </tr>\n  </tbody>\n</table>\n</div>\n      <button class=\"colab-df-convert\" onclick=\"convertToInteractive('df-442da806-02d5-4792-9682-5d835c2ff939')\"\n              title=\"Convert this dataframe to an interactive table.\"\n              style=\"display:none;\">\n        \n  <svg xmlns=\"http://www.w3.org/2000/svg\" height=\"24px\"viewBox=\"0 0 24 24\"\n       width=\"24px\">\n    <path d=\"M0 0h24v24H0V0z\" fill=\"none\"/>\n    <path d=\"M18.56 5.44l.94 2.06.94-2.06 2.06-.94-2.06-.94-.94-2.06-.94 2.06-2.06.94zm-11 1L8.5 8.5l.94-2.06 2.06-.94-2.06-.94L8.5 2.5l-.94 2.06-2.06.94zm10 10l.94 2.06.94-2.06 2.06-.94-2.06-.94-.94-2.06-.94 2.06-2.06.94z\"/><path d=\"M17.41 7.96l-1.37-1.37c-.4-.4-.92-.59-1.43-.59-.52 0-1.04.2-1.43.59L10.3 9.45l-7.72 7.72c-.78.78-.78 2.05 0 2.83L4 21.41c.39.39.9.59 1.41.59.51 0 1.02-.2 1.41-.59l7.78-7.78 2.81-2.81c.8-.78.8-2.07 0-2.86zM5.41 20L4 18.59l7.72-7.72 1.47 1.35L5.41 20z\"/>\n  </svg>\n      </button>\n      \n  <style>\n    .colab-df-container {\n      display:flex;\n      flex-wrap:wrap;\n      gap: 12px;\n    }\n\n    .colab-df-convert {\n      background-color: #E8F0FE;\n      border: none;\n      border-radius: 50%;\n      cursor: pointer;\n      display: none;\n      fill: #1967D2;\n      height: 32px;\n      padding: 0 0 0 0;\n      width: 32px;\n    }\n\n    .colab-df-convert:hover {\n      background-color: #E2EBFA;\n      box-shadow: 0px 1px 2px rgba(60, 64, 67, 0.3), 0px 1px 3px 1px rgba(60, 64, 67, 0.15);\n      fill: #174EA6;\n    }\n\n    [theme=dark] .colab-df-convert {\n      background-color: #3B4455;\n      fill: #D2E3FC;\n    }\n\n    [theme=dark] .colab-df-convert:hover {\n      background-color: #434B5C;\n      box-shadow: 0px 1px 3px 1px rgba(0, 0, 0, 0.15);\n      filter: drop-shadow(0px 1px 2px rgba(0, 0, 0, 0.3));\n      fill: #FFFFFF;\n    }\n  </style>\n\n      <script>\n        const buttonEl =\n          document.querySelector('#df-442da806-02d5-4792-9682-5d835c2ff939 button.colab-df-convert');\n        buttonEl.style.display =\n          google.colab.kernel.accessAllowed ? 'block' : 'none';\n\n        async function convertToInteractive(key) {\n          const element = document.querySelector('#df-442da806-02d5-4792-9682-5d835c2ff939');\n          const dataTable =\n            await google.colab.kernel.invokeFunction('convertToInteractive',\n                                                     [key], {});\n          if (!dataTable) return;\n\n          const docLinkHtml = 'Like what you see? Visit the ' +\n            '<a target=\"_blank\" href=https://colab.research.google.com/notebooks/data_table.ipynb>data table notebook</a>'\n            + ' to learn more about interactive tables.';\n          element.innerHTML = '';\n          dataTable['output_type'] = 'display_data';\n          await google.colab.output.renderOutput(dataTable, element);\n          const docLink = document.createElement('div');\n          docLink.innerHTML = docLinkHtml;\n          element.appendChild(docLink);\n        }\n      </script>\n    </div>\n  </div>\n  "
          },
          "metadata": {}
        }
      ],
      "execution_count": null,
      "metadata": {
        "colab": {
          "base_uri": "https://localhost:8080/"
        },
        "id": "R64gQBqEyPc4",
        "outputId": "55e547bc-d96a-4b08-d925-a41a22e8a1ab"
      }
    },
    {
      "cell_type": "code",
      "source": [
        "assessments.info()"
      ],
      "outputs": [
        {
          "output_type": "stream",
          "name": "stdout",
          "text": "<class 'pandas.core.frame.DataFrame'>\nRangeIndex: 206 entries, 0 to 205\nData columns (total 6 columns):\n #   Column             Non-Null Count  Dtype  \n---  ------             --------------  -----  \n 0   code_module        206 non-null    object \n 1   code_presentation  206 non-null    object \n 2   id_assessment      206 non-null    int64  \n 3   assessment_type    206 non-null    object \n 4   date               195 non-null    float64\n 5   weight             206 non-null    float64\ndtypes: float64(2), int64(1), object(3)\nmemory usage: 9.8+ KB\n"
        }
      ],
      "execution_count": null,
      "metadata": {
        "colab": {
          "base_uri": "https://localhost:8080/"
        },
        "id": "iKt9FykXyXVh",
        "outputId": "1a4ddfb6-667c-4835-fe42-c73eea724e1f"
      }
    },
    {
      "cell_type": "markdown",
      "source": [
        "Не досчитались дат, смотрим"
      ],
      "metadata": {
        "id": "xPxcQaVCyzGp"
      }
    },
    {
      "cell_type": "code",
      "source": [
        "assessments[assessments.date.isnull()]"
      ],
      "outputs": [
        {
          "output_type": "execute_result",
          "execution_count": 12,
          "data": {
            "text/plain": "    code_module code_presentation  id_assessment assessment_type  date  weight\n5           AAA             2013J           1757            Exam   NaN  100.00\n11          AAA             2014J           1763            Exam   NaN  100.00\n23          BBB             2013B          14990            Exam   NaN  100.00\n35          BBB             2013J          15002            Exam   NaN  100.00\n47          BBB             2014B          15014            Exam   NaN  100.00\n53          BBB             2014J          15025            Exam   NaN  100.00\n62          CCC             2014B          24290            Exam   NaN  100.00\n63          CCC             2014B          40087            Exam   NaN  100.00\n72          CCC             2014J          24299            Exam   NaN  100.00\n73          CCC             2014J          40088            Exam   NaN  100.00\n108         DDD             2014J          25368            Exam   NaN  100.00",
            "text/html": "\n  <div id=\"df-da0b7fba-8b74-41ad-88ed-a54533c1fd82\">\n    <div class=\"colab-df-container\">\n      <div>\n<style scoped>\n    .dataframe tbody tr th:only-of-type {\n        vertical-align: middle;\n    }\n\n    .dataframe tbody tr th {\n        vertical-align: top;\n    }\n\n    .dataframe thead th {\n        text-align: right;\n    }\n</style>\n<table border=\"1\" class=\"dataframe\">\n  <thead>\n    <tr style=\"text-align: right;\">\n      <th></th>\n      <th>code_module</th>\n      <th>code_presentation</th>\n      <th>id_assessment</th>\n      <th>assessment_type</th>\n      <th>date</th>\n      <th>weight</th>\n    </tr>\n  </thead>\n  <tbody>\n    <tr>\n      <th>5</th>\n      <td>AAA</td>\n      <td>2013J</td>\n      <td>1757</td>\n      <td>Exam</td>\n      <td>NaN</td>\n      <td>100.00</td>\n    </tr>\n    <tr>\n      <th>11</th>\n      <td>AAA</td>\n      <td>2014J</td>\n      <td>1763</td>\n      <td>Exam</td>\n      <td>NaN</td>\n      <td>100.00</td>\n    </tr>\n    <tr>\n      <th>23</th>\n      <td>BBB</td>\n      <td>2013B</td>\n      <td>14990</td>\n      <td>Exam</td>\n      <td>NaN</td>\n      <td>100.00</td>\n    </tr>\n    <tr>\n      <th>35</th>\n      <td>BBB</td>\n      <td>2013J</td>\n      <td>15002</td>\n      <td>Exam</td>\n      <td>NaN</td>\n      <td>100.00</td>\n    </tr>\n    <tr>\n      <th>47</th>\n      <td>BBB</td>\n      <td>2014B</td>\n      <td>15014</td>\n      <td>Exam</td>\n      <td>NaN</td>\n      <td>100.00</td>\n    </tr>\n    <tr>\n      <th>53</th>\n      <td>BBB</td>\n      <td>2014J</td>\n      <td>15025</td>\n      <td>Exam</td>\n      <td>NaN</td>\n      <td>100.00</td>\n    </tr>\n    <tr>\n      <th>62</th>\n      <td>CCC</td>\n      <td>2014B</td>\n      <td>24290</td>\n      <td>Exam</td>\n      <td>NaN</td>\n      <td>100.00</td>\n    </tr>\n    <tr>\n      <th>63</th>\n      <td>CCC</td>\n      <td>2014B</td>\n      <td>40087</td>\n      <td>Exam</td>\n      <td>NaN</td>\n      <td>100.00</td>\n    </tr>\n    <tr>\n      <th>72</th>\n      <td>CCC</td>\n      <td>2014J</td>\n      <td>24299</td>\n      <td>Exam</td>\n      <td>NaN</td>\n      <td>100.00</td>\n    </tr>\n    <tr>\n      <th>73</th>\n      <td>CCC</td>\n      <td>2014J</td>\n      <td>40088</td>\n      <td>Exam</td>\n      <td>NaN</td>\n      <td>100.00</td>\n    </tr>\n    <tr>\n      <th>108</th>\n      <td>DDD</td>\n      <td>2014J</td>\n      <td>25368</td>\n      <td>Exam</td>\n      <td>NaN</td>\n      <td>100.00</td>\n    </tr>\n  </tbody>\n</table>\n</div>\n      <button class=\"colab-df-convert\" onclick=\"convertToInteractive('df-da0b7fba-8b74-41ad-88ed-a54533c1fd82')\"\n              title=\"Convert this dataframe to an interactive table.\"\n              style=\"display:none;\">\n        \n  <svg xmlns=\"http://www.w3.org/2000/svg\" height=\"24px\"viewBox=\"0 0 24 24\"\n       width=\"24px\">\n    <path d=\"M0 0h24v24H0V0z\" fill=\"none\"/>\n    <path d=\"M18.56 5.44l.94 2.06.94-2.06 2.06-.94-2.06-.94-.94-2.06-.94 2.06-2.06.94zm-11 1L8.5 8.5l.94-2.06 2.06-.94-2.06-.94L8.5 2.5l-.94 2.06-2.06.94zm10 10l.94 2.06.94-2.06 2.06-.94-2.06-.94-.94-2.06-.94 2.06-2.06.94z\"/><path d=\"M17.41 7.96l-1.37-1.37c-.4-.4-.92-.59-1.43-.59-.52 0-1.04.2-1.43.59L10.3 9.45l-7.72 7.72c-.78.78-.78 2.05 0 2.83L4 21.41c.39.39.9.59 1.41.59.51 0 1.02-.2 1.41-.59l7.78-7.78 2.81-2.81c.8-.78.8-2.07 0-2.86zM5.41 20L4 18.59l7.72-7.72 1.47 1.35L5.41 20z\"/>\n  </svg>\n      </button>\n      \n  <style>\n    .colab-df-container {\n      display:flex;\n      flex-wrap:wrap;\n      gap: 12px;\n    }\n\n    .colab-df-convert {\n      background-color: #E8F0FE;\n      border: none;\n      border-radius: 50%;\n      cursor: pointer;\n      display: none;\n      fill: #1967D2;\n      height: 32px;\n      padding: 0 0 0 0;\n      width: 32px;\n    }\n\n    .colab-df-convert:hover {\n      background-color: #E2EBFA;\n      box-shadow: 0px 1px 2px rgba(60, 64, 67, 0.3), 0px 1px 3px 1px rgba(60, 64, 67, 0.15);\n      fill: #174EA6;\n    }\n\n    [theme=dark] .colab-df-convert {\n      background-color: #3B4455;\n      fill: #D2E3FC;\n    }\n\n    [theme=dark] .colab-df-convert:hover {\n      background-color: #434B5C;\n      box-shadow: 0px 1px 3px 1px rgba(0, 0, 0, 0.15);\n      filter: drop-shadow(0px 1px 2px rgba(0, 0, 0, 0.3));\n      fill: #FFFFFF;\n    }\n  </style>\n\n      <script>\n        const buttonEl =\n          document.querySelector('#df-da0b7fba-8b74-41ad-88ed-a54533c1fd82 button.colab-df-convert');\n        buttonEl.style.display =\n          google.colab.kernel.accessAllowed ? 'block' : 'none';\n\n        async function convertToInteractive(key) {\n          const element = document.querySelector('#df-da0b7fba-8b74-41ad-88ed-a54533c1fd82');\n          const dataTable =\n            await google.colab.kernel.invokeFunction('convertToInteractive',\n                                                     [key], {});\n          if (!dataTable) return;\n\n          const docLinkHtml = 'Like what you see? Visit the ' +\n            '<a target=\"_blank\" href=https://colab.research.google.com/notebooks/data_table.ipynb>data table notebook</a>'\n            + ' to learn more about interactive tables.';\n          element.innerHTML = '';\n          dataTable['output_type'] = 'display_data';\n          await google.colab.output.renderOutput(dataTable, element);\n          const docLink = document.createElement('div');\n          docLink.innerHTML = docLinkHtml;\n          element.appendChild(docLink);\n        }\n      </script>\n    </div>\n  </div>\n  "
          },
          "metadata": {}
        }
      ],
      "execution_count": null,
      "metadata": {
        "colab": {
          "base_uri": "https://localhost:8080/"
        },
        "id": "XAF0K0hsybV2",
        "outputId": "7862adde-4be5-4fc1-95ca-b6efd601881e"
      }
    },
    {
      "cell_type": "markdown",
      "source": [
        "Пока не понятно, что с этим делать"
      ],
      "metadata": {
        "id": "pIG6VU7YzHYA"
      }
    },
    {
      "cell_type": "markdown",
      "source": [
        "## courses"
      ],
      "metadata": {
        "id": "dvj9rSJLzJYo"
      }
    },
    {
      "cell_type": "code",
      "source": [
        "courses.head()"
      ],
      "outputs": [
        {
          "output_type": "execute_result",
          "execution_count": 13,
          "data": {
            "text/plain": "  code_module code_presentation  module_presentation_length\n0         AAA             2013J                         268\n1         AAA             2014J                         269\n2         BBB             2013J                         268\n3         BBB             2014J                         262\n4         BBB             2013B                         240",
            "text/html": "\n  <div id=\"df-55c953d9-c466-4373-ab8d-2db04a453c82\">\n    <div class=\"colab-df-container\">\n      <div>\n<style scoped>\n    .dataframe tbody tr th:only-of-type {\n        vertical-align: middle;\n    }\n\n    .dataframe tbody tr th {\n        vertical-align: top;\n    }\n\n    .dataframe thead th {\n        text-align: right;\n    }\n</style>\n<table border=\"1\" class=\"dataframe\">\n  <thead>\n    <tr style=\"text-align: right;\">\n      <th></th>\n      <th>code_module</th>\n      <th>code_presentation</th>\n      <th>module_presentation_length</th>\n    </tr>\n  </thead>\n  <tbody>\n    <tr>\n      <th>0</th>\n      <td>AAA</td>\n      <td>2013J</td>\n      <td>268</td>\n    </tr>\n    <tr>\n      <th>1</th>\n      <td>AAA</td>\n      <td>2014J</td>\n      <td>269</td>\n    </tr>\n    <tr>\n      <th>2</th>\n      <td>BBB</td>\n      <td>2013J</td>\n      <td>268</td>\n    </tr>\n    <tr>\n      <th>3</th>\n      <td>BBB</td>\n      <td>2014J</td>\n      <td>262</td>\n    </tr>\n    <tr>\n      <th>4</th>\n      <td>BBB</td>\n      <td>2013B</td>\n      <td>240</td>\n    </tr>\n  </tbody>\n</table>\n</div>\n      <button class=\"colab-df-convert\" onclick=\"convertToInteractive('df-55c953d9-c466-4373-ab8d-2db04a453c82')\"\n              title=\"Convert this dataframe to an interactive table.\"\n              style=\"display:none;\">\n        \n  <svg xmlns=\"http://www.w3.org/2000/svg\" height=\"24px\"viewBox=\"0 0 24 24\"\n       width=\"24px\">\n    <path d=\"M0 0h24v24H0V0z\" fill=\"none\"/>\n    <path d=\"M18.56 5.44l.94 2.06.94-2.06 2.06-.94-2.06-.94-.94-2.06-.94 2.06-2.06.94zm-11 1L8.5 8.5l.94-2.06 2.06-.94-2.06-.94L8.5 2.5l-.94 2.06-2.06.94zm10 10l.94 2.06.94-2.06 2.06-.94-2.06-.94-.94-2.06-.94 2.06-2.06.94z\"/><path d=\"M17.41 7.96l-1.37-1.37c-.4-.4-.92-.59-1.43-.59-.52 0-1.04.2-1.43.59L10.3 9.45l-7.72 7.72c-.78.78-.78 2.05 0 2.83L4 21.41c.39.39.9.59 1.41.59.51 0 1.02-.2 1.41-.59l7.78-7.78 2.81-2.81c.8-.78.8-2.07 0-2.86zM5.41 20L4 18.59l7.72-7.72 1.47 1.35L5.41 20z\"/>\n  </svg>\n      </button>\n      \n  <style>\n    .colab-df-container {\n      display:flex;\n      flex-wrap:wrap;\n      gap: 12px;\n    }\n\n    .colab-df-convert {\n      background-color: #E8F0FE;\n      border: none;\n      border-radius: 50%;\n      cursor: pointer;\n      display: none;\n      fill: #1967D2;\n      height: 32px;\n      padding: 0 0 0 0;\n      width: 32px;\n    }\n\n    .colab-df-convert:hover {\n      background-color: #E2EBFA;\n      box-shadow: 0px 1px 2px rgba(60, 64, 67, 0.3), 0px 1px 3px 1px rgba(60, 64, 67, 0.15);\n      fill: #174EA6;\n    }\n\n    [theme=dark] .colab-df-convert {\n      background-color: #3B4455;\n      fill: #D2E3FC;\n    }\n\n    [theme=dark] .colab-df-convert:hover {\n      background-color: #434B5C;\n      box-shadow: 0px 1px 3px 1px rgba(0, 0, 0, 0.15);\n      filter: drop-shadow(0px 1px 2px rgba(0, 0, 0, 0.3));\n      fill: #FFFFFF;\n    }\n  </style>\n\n      <script>\n        const buttonEl =\n          document.querySelector('#df-55c953d9-c466-4373-ab8d-2db04a453c82 button.colab-df-convert');\n        buttonEl.style.display =\n          google.colab.kernel.accessAllowed ? 'block' : 'none';\n\n        async function convertToInteractive(key) {\n          const element = document.querySelector('#df-55c953d9-c466-4373-ab8d-2db04a453c82');\n          const dataTable =\n            await google.colab.kernel.invokeFunction('convertToInteractive',\n                                                     [key], {});\n          if (!dataTable) return;\n\n          const docLinkHtml = 'Like what you see? Visit the ' +\n            '<a target=\"_blank\" href=https://colab.research.google.com/notebooks/data_table.ipynb>data table notebook</a>'\n            + ' to learn more about interactive tables.';\n          element.innerHTML = '';\n          dataTable['output_type'] = 'display_data';\n          await google.colab.output.renderOutput(dataTable, element);\n          const docLink = document.createElement('div');\n          docLink.innerHTML = docLinkHtml;\n          element.appendChild(docLink);\n        }\n      </script>\n    </div>\n  </div>\n  "
          },
          "metadata": {}
        }
      ],
      "execution_count": null,
      "metadata": {
        "colab": {
          "base_uri": "https://localhost:8080/"
        },
        "id": "sJja97lEymcH",
        "outputId": "d3243f68-6525-454d-c119-06e0d138367e"
      }
    },
    {
      "cell_type": "code",
      "source": [
        "courses.info()"
      ],
      "outputs": [
        {
          "output_type": "stream",
          "name": "stdout",
          "text": "<class 'pandas.core.frame.DataFrame'>\nRangeIndex: 22 entries, 0 to 21\nData columns (total 3 columns):\n #   Column                      Non-Null Count  Dtype \n---  ------                      --------------  ----- \n 0   code_module                 22 non-null     object\n 1   code_presentation           22 non-null     object\n 2   module_presentation_length  22 non-null     int64 \ndtypes: int64(1), object(2)\nmemory usage: 656.0+ bytes\n"
        }
      ],
      "execution_count": null,
      "metadata": {
        "colab": {
          "base_uri": "https://localhost:8080/"
        },
        "id": "VoKlNevfzjAR",
        "outputId": "dbb79edd-7459-42e0-83e8-1d9e0fe9133a"
      }
    },
    {
      "cell_type": "markdown",
      "source": [
        "## student_info"
      ],
      "metadata": {
        "id": "I4CdNGIrz1lm"
      }
    },
    {
      "cell_type": "code",
      "source": [
        "student_info.head()"
      ],
      "outputs": [
        {
          "output_type": "execute_result",
          "execution_count": 15,
          "data": {
            "text/plain": "  code_module code_presentation  id_student gender                region  \\\n0         AAA             2013J       11391      M   East Anglian Region   \n1         AAA             2013J       28400      F              Scotland   \n2         AAA             2013J       30268      F  North Western Region   \n3         AAA             2013J       31604      F     South East Region   \n4         AAA             2013J       32885      F  West Midlands Region   \n\n       highest_education imd_band age_band  num_of_prev_attempts  \\\n0       HE Qualification  90-100%     55<=                     0   \n1       HE Qualification   20-30%    35-55                     0   \n2  A Level or Equivalent   30-40%    35-55                     0   \n3  A Level or Equivalent   50-60%    35-55                     0   \n4     Lower Than A Level   50-60%     0-35                     0   \n\n   studied_credits disability  \n0              240          N  \n1               60          N  \n2               60          Y  \n3               60          N  \n4               60          N  ",
            "text/html": "\n  <div id=\"df-a8d59c48-3ff6-4087-9b54-a2b0e3d3acc5\">\n    <div class=\"colab-df-container\">\n      <div>\n<style scoped>\n    .dataframe tbody tr th:only-of-type {\n        vertical-align: middle;\n    }\n\n    .dataframe tbody tr th {\n        vertical-align: top;\n    }\n\n    .dataframe thead th {\n        text-align: right;\n    }\n</style>\n<table border=\"1\" class=\"dataframe\">\n  <thead>\n    <tr style=\"text-align: right;\">\n      <th></th>\n      <th>code_module</th>\n      <th>code_presentation</th>\n      <th>id_student</th>\n      <th>gender</th>\n      <th>region</th>\n      <th>highest_education</th>\n      <th>imd_band</th>\n      <th>age_band</th>\n      <th>num_of_prev_attempts</th>\n      <th>studied_credits</th>\n      <th>disability</th>\n    </tr>\n  </thead>\n  <tbody>\n    <tr>\n      <th>0</th>\n      <td>AAA</td>\n      <td>2013J</td>\n      <td>11391</td>\n      <td>M</td>\n      <td>East Anglian Region</td>\n      <td>HE Qualification</td>\n      <td>90-100%</td>\n      <td>55&lt;=</td>\n      <td>0</td>\n      <td>240</td>\n      <td>N</td>\n    </tr>\n    <tr>\n      <th>1</th>\n      <td>AAA</td>\n      <td>2013J</td>\n      <td>28400</td>\n      <td>F</td>\n      <td>Scotland</td>\n      <td>HE Qualification</td>\n      <td>20-30%</td>\n      <td>35-55</td>\n      <td>0</td>\n      <td>60</td>\n      <td>N</td>\n    </tr>\n    <tr>\n      <th>2</th>\n      <td>AAA</td>\n      <td>2013J</td>\n      <td>30268</td>\n      <td>F</td>\n      <td>North Western Region</td>\n      <td>A Level or Equivalent</td>\n      <td>30-40%</td>\n      <td>35-55</td>\n      <td>0</td>\n      <td>60</td>\n      <td>Y</td>\n    </tr>\n    <tr>\n      <th>3</th>\n      <td>AAA</td>\n      <td>2013J</td>\n      <td>31604</td>\n      <td>F</td>\n      <td>South East Region</td>\n      <td>A Level or Equivalent</td>\n      <td>50-60%</td>\n      <td>35-55</td>\n      <td>0</td>\n      <td>60</td>\n      <td>N</td>\n    </tr>\n    <tr>\n      <th>4</th>\n      <td>AAA</td>\n      <td>2013J</td>\n      <td>32885</td>\n      <td>F</td>\n      <td>West Midlands Region</td>\n      <td>Lower Than A Level</td>\n      <td>50-60%</td>\n      <td>0-35</td>\n      <td>0</td>\n      <td>60</td>\n      <td>N</td>\n    </tr>\n  </tbody>\n</table>\n</div>\n      <button class=\"colab-df-convert\" onclick=\"convertToInteractive('df-a8d59c48-3ff6-4087-9b54-a2b0e3d3acc5')\"\n              title=\"Convert this dataframe to an interactive table.\"\n              style=\"display:none;\">\n        \n  <svg xmlns=\"http://www.w3.org/2000/svg\" height=\"24px\"viewBox=\"0 0 24 24\"\n       width=\"24px\">\n    <path d=\"M0 0h24v24H0V0z\" fill=\"none\"/>\n    <path d=\"M18.56 5.44l.94 2.06.94-2.06 2.06-.94-2.06-.94-.94-2.06-.94 2.06-2.06.94zm-11 1L8.5 8.5l.94-2.06 2.06-.94-2.06-.94L8.5 2.5l-.94 2.06-2.06.94zm10 10l.94 2.06.94-2.06 2.06-.94-2.06-.94-.94-2.06-.94 2.06-2.06.94z\"/><path d=\"M17.41 7.96l-1.37-1.37c-.4-.4-.92-.59-1.43-.59-.52 0-1.04.2-1.43.59L10.3 9.45l-7.72 7.72c-.78.78-.78 2.05 0 2.83L4 21.41c.39.39.9.59 1.41.59.51 0 1.02-.2 1.41-.59l7.78-7.78 2.81-2.81c.8-.78.8-2.07 0-2.86zM5.41 20L4 18.59l7.72-7.72 1.47 1.35L5.41 20z\"/>\n  </svg>\n      </button>\n      \n  <style>\n    .colab-df-container {\n      display:flex;\n      flex-wrap:wrap;\n      gap: 12px;\n    }\n\n    .colab-df-convert {\n      background-color: #E8F0FE;\n      border: none;\n      border-radius: 50%;\n      cursor: pointer;\n      display: none;\n      fill: #1967D2;\n      height: 32px;\n      padding: 0 0 0 0;\n      width: 32px;\n    }\n\n    .colab-df-convert:hover {\n      background-color: #E2EBFA;\n      box-shadow: 0px 1px 2px rgba(60, 64, 67, 0.3), 0px 1px 3px 1px rgba(60, 64, 67, 0.15);\n      fill: #174EA6;\n    }\n\n    [theme=dark] .colab-df-convert {\n      background-color: #3B4455;\n      fill: #D2E3FC;\n    }\n\n    [theme=dark] .colab-df-convert:hover {\n      background-color: #434B5C;\n      box-shadow: 0px 1px 3px 1px rgba(0, 0, 0, 0.15);\n      filter: drop-shadow(0px 1px 2px rgba(0, 0, 0, 0.3));\n      fill: #FFFFFF;\n    }\n  </style>\n\n      <script>\n        const buttonEl =\n          document.querySelector('#df-a8d59c48-3ff6-4087-9b54-a2b0e3d3acc5 button.colab-df-convert');\n        buttonEl.style.display =\n          google.colab.kernel.accessAllowed ? 'block' : 'none';\n\n        async function convertToInteractive(key) {\n          const element = document.querySelector('#df-a8d59c48-3ff6-4087-9b54-a2b0e3d3acc5');\n          const dataTable =\n            await google.colab.kernel.invokeFunction('convertToInteractive',\n                                                     [key], {});\n          if (!dataTable) return;\n\n          const docLinkHtml = 'Like what you see? Visit the ' +\n            '<a target=\"_blank\" href=https://colab.research.google.com/notebooks/data_table.ipynb>data table notebook</a>'\n            + ' to learn more about interactive tables.';\n          element.innerHTML = '';\n          dataTable['output_type'] = 'display_data';\n          await google.colab.output.renderOutput(dataTable, element);\n          const docLink = document.createElement('div');\n          docLink.innerHTML = docLinkHtml;\n          element.appendChild(docLink);\n        }\n      </script>\n    </div>\n  </div>\n  "
          },
          "metadata": {}
        }
      ],
      "execution_count": null,
      "metadata": {
        "colab": {
          "base_uri": "https://localhost:8080/"
        },
        "id": "emUFc844z6fL",
        "outputId": "43259365-7147-4c90-c7bd-4fce3b373dec"
      }
    },
    {
      "cell_type": "code",
      "source": [
        "student_info.info()"
      ],
      "outputs": [
        {
          "output_type": "stream",
          "name": "stdout",
          "text": "<class 'pandas.core.frame.DataFrame'>\nRangeIndex: 32593 entries, 0 to 32592\nData columns (total 11 columns):\n #   Column                Non-Null Count  Dtype \n---  ------                --------------  ----- \n 0   code_module           32593 non-null  object\n 1   code_presentation     32593 non-null  object\n 2   id_student            32593 non-null  int64 \n 3   gender                32593 non-null  object\n 4   region                32593 non-null  object\n 5   highest_education     32593 non-null  object\n 6   imd_band              31482 non-null  object\n 7   age_band              32593 non-null  object\n 8   num_of_prev_attempts  32593 non-null  int64 \n 9   studied_credits       32593 non-null  int64 \n 10  disability            32593 non-null  object\ndtypes: int64(3), object(8)\nmemory usage: 2.7+ MB\n"
        }
      ],
      "execution_count": null,
      "metadata": {
        "colab": {
          "base_uri": "https://localhost:8080/"
        },
        "id": "aImqNXLPz8qN",
        "outputId": "8c0d2767-8254-46b2-c893-0c92b131a1c8"
      }
    },
    {
      "cell_type": "markdown",
      "source": [
        "Видны пропуски в imd_band, айда заполнять"
      ],
      "metadata": {
        "id": "RFn8qVankqqd"
      }
    },
    {
      "cell_type": "markdown",
      "source": [
        "### Заполнение пропусков imd_band"
      ],
      "metadata": {
        "id": "HtMrKXG0k8M9"
      }
    },
    {
      "cell_type": "code",
      "source": [
        "student_info_nans = student_info[['code_module', 'code_presentation', 'gender', 'region', 'highest_education', 'age_band', 'imd_band', 'id_student']]\n",
        "student_info_nans = student_info_nans[student_info_nans.imd_band.isnull()]\n",
        "student_info_nans  # создаем датафрейм в которых imd_band == NaN"
      ],
      "outputs": [
        {
          "output_type": "execute_result",
          "execution_count": 17,
          "data": {
            "text/plain": "      code_module code_presentation gender                region  \\\n9             AAA             2013J      M          North Region   \n17            AAA             2013J      M               Ireland   \n28            AAA             2013J      M               Ireland   \n34            AAA             2013J      F          North Region   \n65            AAA             2013J      M               Ireland   \n...           ...               ...    ...                   ...   \n30552         GGG             2013J      M          North Region   \n31170         GGG             2014B      F  North Western Region   \n31389         GGG             2014B      F     South West Region   \n31777         GGG             2014B      F          South Region   \n32397         GGG             2014J      F          North Region   \n\n                 highest_education age_band imd_band  id_student  \n9      Post Graduate Qualification     55<=      NaN       53025  \n17                HE Qualification    35-55      NaN       71361  \n28     Post Graduate Qualification    35-55      NaN      104476  \n34     Post Graduate Qualification    35-55      NaN      114017  \n65                HE Qualification    35-55      NaN      172112  \n...                            ...      ...      ...         ...  \n30552           Lower Than A Level     0-35      NaN      589914  \n31170           Lower Than A Level     0-35      NaN      575199  \n31389           Lower Than A Level     0-35      NaN      617889  \n31777        A Level or Equivalent     0-35      NaN      634470  \n32397           Lower Than A Level     0-35      NaN      683974  \n\n[1111 rows x 8 columns]",
            "text/html": "\n  <div id=\"df-00aa2c85-506e-4281-841b-6a736166b260\">\n    <div class=\"colab-df-container\">\n      <div>\n<style scoped>\n    .dataframe tbody tr th:only-of-type {\n        vertical-align: middle;\n    }\n\n    .dataframe tbody tr th {\n        vertical-align: top;\n    }\n\n    .dataframe thead th {\n        text-align: right;\n    }\n</style>\n<table border=\"1\" class=\"dataframe\">\n  <thead>\n    <tr style=\"text-align: right;\">\n      <th></th>\n      <th>code_module</th>\n      <th>code_presentation</th>\n      <th>gender</th>\n      <th>region</th>\n      <th>highest_education</th>\n      <th>age_band</th>\n      <th>imd_band</th>\n      <th>id_student</th>\n    </tr>\n  </thead>\n  <tbody>\n    <tr>\n      <th>9</th>\n      <td>AAA</td>\n      <td>2013J</td>\n      <td>M</td>\n      <td>North Region</td>\n      <td>Post Graduate Qualification</td>\n      <td>55&lt;=</td>\n      <td>NaN</td>\n      <td>53025</td>\n    </tr>\n    <tr>\n      <th>17</th>\n      <td>AAA</td>\n      <td>2013J</td>\n      <td>M</td>\n      <td>Ireland</td>\n      <td>HE Qualification</td>\n      <td>35-55</td>\n      <td>NaN</td>\n      <td>71361</td>\n    </tr>\n    <tr>\n      <th>28</th>\n      <td>AAA</td>\n      <td>2013J</td>\n      <td>M</td>\n      <td>Ireland</td>\n      <td>Post Graduate Qualification</td>\n      <td>35-55</td>\n      <td>NaN</td>\n      <td>104476</td>\n    </tr>\n    <tr>\n      <th>34</th>\n      <td>AAA</td>\n      <td>2013J</td>\n      <td>F</td>\n      <td>North Region</td>\n      <td>Post Graduate Qualification</td>\n      <td>35-55</td>\n      <td>NaN</td>\n      <td>114017</td>\n    </tr>\n    <tr>\n      <th>65</th>\n      <td>AAA</td>\n      <td>2013J</td>\n      <td>M</td>\n      <td>Ireland</td>\n      <td>HE Qualification</td>\n      <td>35-55</td>\n      <td>NaN</td>\n      <td>172112</td>\n    </tr>\n    <tr>\n      <th>...</th>\n      <td>...</td>\n      <td>...</td>\n      <td>...</td>\n      <td>...</td>\n      <td>...</td>\n      <td>...</td>\n      <td>...</td>\n      <td>...</td>\n    </tr>\n    <tr>\n      <th>30552</th>\n      <td>GGG</td>\n      <td>2013J</td>\n      <td>M</td>\n      <td>North Region</td>\n      <td>Lower Than A Level</td>\n      <td>0-35</td>\n      <td>NaN</td>\n      <td>589914</td>\n    </tr>\n    <tr>\n      <th>31170</th>\n      <td>GGG</td>\n      <td>2014B</td>\n      <td>F</td>\n      <td>North Western Region</td>\n      <td>Lower Than A Level</td>\n      <td>0-35</td>\n      <td>NaN</td>\n      <td>575199</td>\n    </tr>\n    <tr>\n      <th>31389</th>\n      <td>GGG</td>\n      <td>2014B</td>\n      <td>F</td>\n      <td>South West Region</td>\n      <td>Lower Than A Level</td>\n      <td>0-35</td>\n      <td>NaN</td>\n      <td>617889</td>\n    </tr>\n    <tr>\n      <th>31777</th>\n      <td>GGG</td>\n      <td>2014B</td>\n      <td>F</td>\n      <td>South Region</td>\n      <td>A Level or Equivalent</td>\n      <td>0-35</td>\n      <td>NaN</td>\n      <td>634470</td>\n    </tr>\n    <tr>\n      <th>32397</th>\n      <td>GGG</td>\n      <td>2014J</td>\n      <td>F</td>\n      <td>North Region</td>\n      <td>Lower Than A Level</td>\n      <td>0-35</td>\n      <td>NaN</td>\n      <td>683974</td>\n    </tr>\n  </tbody>\n</table>\n<p>1111 rows × 8 columns</p>\n</div>\n      <button class=\"colab-df-convert\" onclick=\"convertToInteractive('df-00aa2c85-506e-4281-841b-6a736166b260')\"\n              title=\"Convert this dataframe to an interactive table.\"\n              style=\"display:none;\">\n        \n  <svg xmlns=\"http://www.w3.org/2000/svg\" height=\"24px\"viewBox=\"0 0 24 24\"\n       width=\"24px\">\n    <path d=\"M0 0h24v24H0V0z\" fill=\"none\"/>\n    <path d=\"M18.56 5.44l.94 2.06.94-2.06 2.06-.94-2.06-.94-.94-2.06-.94 2.06-2.06.94zm-11 1L8.5 8.5l.94-2.06 2.06-.94-2.06-.94L8.5 2.5l-.94 2.06-2.06.94zm10 10l.94 2.06.94-2.06 2.06-.94-2.06-.94-.94-2.06-.94 2.06-2.06.94z\"/><path d=\"M17.41 7.96l-1.37-1.37c-.4-.4-.92-.59-1.43-.59-.52 0-1.04.2-1.43.59L10.3 9.45l-7.72 7.72c-.78.78-.78 2.05 0 2.83L4 21.41c.39.39.9.59 1.41.59.51 0 1.02-.2 1.41-.59l7.78-7.78 2.81-2.81c.8-.78.8-2.07 0-2.86zM5.41 20L4 18.59l7.72-7.72 1.47 1.35L5.41 20z\"/>\n  </svg>\n      </button>\n      \n  <style>\n    .colab-df-container {\n      display:flex;\n      flex-wrap:wrap;\n      gap: 12px;\n    }\n\n    .colab-df-convert {\n      background-color: #E8F0FE;\n      border: none;\n      border-radius: 50%;\n      cursor: pointer;\n      display: none;\n      fill: #1967D2;\n      height: 32px;\n      padding: 0 0 0 0;\n      width: 32px;\n    }\n\n    .colab-df-convert:hover {\n      background-color: #E2EBFA;\n      box-shadow: 0px 1px 2px rgba(60, 64, 67, 0.3), 0px 1px 3px 1px rgba(60, 64, 67, 0.15);\n      fill: #174EA6;\n    }\n\n    [theme=dark] .colab-df-convert {\n      background-color: #3B4455;\n      fill: #D2E3FC;\n    }\n\n    [theme=dark] .colab-df-convert:hover {\n      background-color: #434B5C;\n      box-shadow: 0px 1px 3px 1px rgba(0, 0, 0, 0.15);\n      filter: drop-shadow(0px 1px 2px rgba(0, 0, 0, 0.3));\n      fill: #FFFFFF;\n    }\n  </style>\n\n      <script>\n        const buttonEl =\n          document.querySelector('#df-00aa2c85-506e-4281-841b-6a736166b260 button.colab-df-convert');\n        buttonEl.style.display =\n          google.colab.kernel.accessAllowed ? 'block' : 'none';\n\n        async function convertToInteractive(key) {\n          const element = document.querySelector('#df-00aa2c85-506e-4281-841b-6a736166b260');\n          const dataTable =\n            await google.colab.kernel.invokeFunction('convertToInteractive',\n                                                     [key], {});\n          if (!dataTable) return;\n\n          const docLinkHtml = 'Like what you see? Visit the ' +\n            '<a target=\"_blank\" href=https://colab.research.google.com/notebooks/data_table.ipynb>data table notebook</a>'\n            + ' to learn more about interactive tables.';\n          element.innerHTML = '';\n          dataTable['output_type'] = 'display_data';\n          await google.colab.output.renderOutput(dataTable, element);\n          const docLink = document.createElement('div');\n          docLink.innerHTML = docLinkHtml;\n          element.appendChild(docLink);\n        }\n      </script>\n    </div>\n  </div>\n  "
          },
          "metadata": {}
        }
      ],
      "execution_count": null,
      "metadata": {
        "colab": {
          "base_uri": "https://localhost:8080/"
        },
        "id": "pDrqQyKRSdPT",
        "outputId": "26f1f68c-8cea-487c-8bb8-6fee177f14b4"
      }
    },
    {
      "cell_type": "code",
      "source": [
        "student_info_without_nans = student_info[['code_module', 'code_presentation', 'gender', 'region', 'highest_education', 'age_band', 'imd_band', 'id_student']].dropna()\n",
        "student_info_without_nans #Создаем датафрейм без нанов, из которого будем извлекать информацию для заполнения"
      ],
      "outputs": [
        {
          "output_type": "execute_result",
          "execution_count": 18,
          "data": {
            "text/plain": "      code_module code_presentation gender                region  \\\n0             AAA             2013J      M   East Anglian Region   \n1             AAA             2013J      F              Scotland   \n2             AAA             2013J      F  North Western Region   \n3             AAA             2013J      F     South East Region   \n4             AAA             2013J      F  West Midlands Region   \n...           ...               ...    ...                   ...   \n32588         GGG             2014J      F                 Wales   \n32589         GGG             2014J      F   East Anglian Region   \n32590         GGG             2014J      F          South Region   \n32591         GGG             2014J      F     South East Region   \n32592         GGG             2014J      F      Yorkshire Region   \n\n           highest_education age_band imd_band  id_student  \n0           HE Qualification     55<=  90-100%       11391  \n1           HE Qualification    35-55   20-30%       28400  \n2      A Level or Equivalent    35-55   30-40%       30268  \n3      A Level or Equivalent    35-55   50-60%       31604  \n4         Lower Than A Level     0-35   50-60%       32885  \n...                      ...      ...      ...         ...  \n32588     Lower Than A Level     0-35    10-20     2640965  \n32589     Lower Than A Level    35-55   40-50%     2645731  \n32590  A Level or Equivalent     0-35   20-30%     2648187  \n32591     Lower Than A Level    35-55  90-100%     2679821  \n32592       HE Qualification    35-55   50-60%     2684003  \n\n[31482 rows x 8 columns]",
            "text/html": "\n  <div id=\"df-e3c8d06d-f51a-40b9-89cb-da78fac93bdb\">\n    <div class=\"colab-df-container\">\n      <div>\n<style scoped>\n    .dataframe tbody tr th:only-of-type {\n        vertical-align: middle;\n    }\n\n    .dataframe tbody tr th {\n        vertical-align: top;\n    }\n\n    .dataframe thead th {\n        text-align: right;\n    }\n</style>\n<table border=\"1\" class=\"dataframe\">\n  <thead>\n    <tr style=\"text-align: right;\">\n      <th></th>\n      <th>code_module</th>\n      <th>code_presentation</th>\n      <th>gender</th>\n      <th>region</th>\n      <th>highest_education</th>\n      <th>age_band</th>\n      <th>imd_band</th>\n      <th>id_student</th>\n    </tr>\n  </thead>\n  <tbody>\n    <tr>\n      <th>0</th>\n      <td>AAA</td>\n      <td>2013J</td>\n      <td>M</td>\n      <td>East Anglian Region</td>\n      <td>HE Qualification</td>\n      <td>55&lt;=</td>\n      <td>90-100%</td>\n      <td>11391</td>\n    </tr>\n    <tr>\n      <th>1</th>\n      <td>AAA</td>\n      <td>2013J</td>\n      <td>F</td>\n      <td>Scotland</td>\n      <td>HE Qualification</td>\n      <td>35-55</td>\n      <td>20-30%</td>\n      <td>28400</td>\n    </tr>\n    <tr>\n      <th>2</th>\n      <td>AAA</td>\n      <td>2013J</td>\n      <td>F</td>\n      <td>North Western Region</td>\n      <td>A Level or Equivalent</td>\n      <td>35-55</td>\n      <td>30-40%</td>\n      <td>30268</td>\n    </tr>\n    <tr>\n      <th>3</th>\n      <td>AAA</td>\n      <td>2013J</td>\n      <td>F</td>\n      <td>South East Region</td>\n      <td>A Level or Equivalent</td>\n      <td>35-55</td>\n      <td>50-60%</td>\n      <td>31604</td>\n    </tr>\n    <tr>\n      <th>4</th>\n      <td>AAA</td>\n      <td>2013J</td>\n      <td>F</td>\n      <td>West Midlands Region</td>\n      <td>Lower Than A Level</td>\n      <td>0-35</td>\n      <td>50-60%</td>\n      <td>32885</td>\n    </tr>\n    <tr>\n      <th>...</th>\n      <td>...</td>\n      <td>...</td>\n      <td>...</td>\n      <td>...</td>\n      <td>...</td>\n      <td>...</td>\n      <td>...</td>\n      <td>...</td>\n    </tr>\n    <tr>\n      <th>32588</th>\n      <td>GGG</td>\n      <td>2014J</td>\n      <td>F</td>\n      <td>Wales</td>\n      <td>Lower Than A Level</td>\n      <td>0-35</td>\n      <td>10-20</td>\n      <td>2640965</td>\n    </tr>\n    <tr>\n      <th>32589</th>\n      <td>GGG</td>\n      <td>2014J</td>\n      <td>F</td>\n      <td>East Anglian Region</td>\n      <td>Lower Than A Level</td>\n      <td>35-55</td>\n      <td>40-50%</td>\n      <td>2645731</td>\n    </tr>\n    <tr>\n      <th>32590</th>\n      <td>GGG</td>\n      <td>2014J</td>\n      <td>F</td>\n      <td>South Region</td>\n      <td>A Level or Equivalent</td>\n      <td>0-35</td>\n      <td>20-30%</td>\n      <td>2648187</td>\n    </tr>\n    <tr>\n      <th>32591</th>\n      <td>GGG</td>\n      <td>2014J</td>\n      <td>F</td>\n      <td>South East Region</td>\n      <td>Lower Than A Level</td>\n      <td>35-55</td>\n      <td>90-100%</td>\n      <td>2679821</td>\n    </tr>\n    <tr>\n      <th>32592</th>\n      <td>GGG</td>\n      <td>2014J</td>\n      <td>F</td>\n      <td>Yorkshire Region</td>\n      <td>HE Qualification</td>\n      <td>35-55</td>\n      <td>50-60%</td>\n      <td>2684003</td>\n    </tr>\n  </tbody>\n</table>\n<p>31482 rows × 8 columns</p>\n</div>\n      <button class=\"colab-df-convert\" onclick=\"convertToInteractive('df-e3c8d06d-f51a-40b9-89cb-da78fac93bdb')\"\n              title=\"Convert this dataframe to an interactive table.\"\n              style=\"display:none;\">\n        \n  <svg xmlns=\"http://www.w3.org/2000/svg\" height=\"24px\"viewBox=\"0 0 24 24\"\n       width=\"24px\">\n    <path d=\"M0 0h24v24H0V0z\" fill=\"none\"/>\n    <path d=\"M18.56 5.44l.94 2.06.94-2.06 2.06-.94-2.06-.94-.94-2.06-.94 2.06-2.06.94zm-11 1L8.5 8.5l.94-2.06 2.06-.94-2.06-.94L8.5 2.5l-.94 2.06-2.06.94zm10 10l.94 2.06.94-2.06 2.06-.94-2.06-.94-.94-2.06-.94 2.06-2.06.94z\"/><path d=\"M17.41 7.96l-1.37-1.37c-.4-.4-.92-.59-1.43-.59-.52 0-1.04.2-1.43.59L10.3 9.45l-7.72 7.72c-.78.78-.78 2.05 0 2.83L4 21.41c.39.39.9.59 1.41.59.51 0 1.02-.2 1.41-.59l7.78-7.78 2.81-2.81c.8-.78.8-2.07 0-2.86zM5.41 20L4 18.59l7.72-7.72 1.47 1.35L5.41 20z\"/>\n  </svg>\n      </button>\n      \n  <style>\n    .colab-df-container {\n      display:flex;\n      flex-wrap:wrap;\n      gap: 12px;\n    }\n\n    .colab-df-convert {\n      background-color: #E8F0FE;\n      border: none;\n      border-radius: 50%;\n      cursor: pointer;\n      display: none;\n      fill: #1967D2;\n      height: 32px;\n      padding: 0 0 0 0;\n      width: 32px;\n    }\n\n    .colab-df-convert:hover {\n      background-color: #E2EBFA;\n      box-shadow: 0px 1px 2px rgba(60, 64, 67, 0.3), 0px 1px 3px 1px rgba(60, 64, 67, 0.15);\n      fill: #174EA6;\n    }\n\n    [theme=dark] .colab-df-convert {\n      background-color: #3B4455;\n      fill: #D2E3FC;\n    }\n\n    [theme=dark] .colab-df-convert:hover {\n      background-color: #434B5C;\n      box-shadow: 0px 1px 3px 1px rgba(0, 0, 0, 0.15);\n      filter: drop-shadow(0px 1px 2px rgba(0, 0, 0, 0.3));\n      fill: #FFFFFF;\n    }\n  </style>\n\n      <script>\n        const buttonEl =\n          document.querySelector('#df-e3c8d06d-f51a-40b9-89cb-da78fac93bdb button.colab-df-convert');\n        buttonEl.style.display =\n          google.colab.kernel.accessAllowed ? 'block' : 'none';\n\n        async function convertToInteractive(key) {\n          const element = document.querySelector('#df-e3c8d06d-f51a-40b9-89cb-da78fac93bdb');\n          const dataTable =\n            await google.colab.kernel.invokeFunction('convertToInteractive',\n                                                     [key], {});\n          if (!dataTable) return;\n\n          const docLinkHtml = 'Like what you see? Visit the ' +\n            '<a target=\"_blank\" href=https://colab.research.google.com/notebooks/data_table.ipynb>data table notebook</a>'\n            + ' to learn more about interactive tables.';\n          element.innerHTML = '';\n          dataTable['output_type'] = 'display_data';\n          await google.colab.output.renderOutput(dataTable, element);\n          const docLink = document.createElement('div');\n          docLink.innerHTML = docLinkHtml;\n          element.appendChild(docLink);\n        }\n      </script>\n    </div>\n  </div>\n  "
          },
          "metadata": {}
        }
      ],
      "execution_count": null,
      "metadata": {
        "colab": {
          "base_uri": "https://localhost:8080/"
        },
        "id": "MTc4jb0kQ5dB",
        "outputId": "28bc7d3f-972d-45f8-954d-9f7efdb0b449"
      }
    },
    {
      "cell_type": "markdown",
      "source": [
        "Принцип следующий: берем кортеж, в котором есть NaN, ищем такой же в таблице, где imd_band заполнен"
      ],
      "metadata": {
        "id": "345soxr5lTDW"
      }
    },
    {
      "cell_type": "code",
      "source": [
        "student_info_nans.iloc[1]"
      ],
      "outputs": [
        {
          "output_type": "execute_result",
          "execution_count": 19,
          "data": {
            "text/plain": "code_module                       AAA\ncode_presentation               2013J\ngender                              M\nregion                        Ireland\nhighest_education    HE Qualification\nage_band                        35-55\nimd_band                          NaN\nid_student                      71361\nName: 17, dtype: object"
          },
          "metadata": {}
        }
      ],
      "execution_count": null,
      "metadata": {
        "colab": {
          "base_uri": "https://localhost:8080/"
        },
        "id": "iPdnwCe_lhQY",
        "outputId": "27fcba7d-a027-4e41-b6c7-a971412fe93f"
      }
    },
    {
      "cell_type": "code",
      "source": [
        "student_info_without_nans[(student_info_without_nans.code_module == student_info_nans.iloc[1][0])\n",
        "                          & (student_info_without_nans.code_presentation == student_info_nans.iloc[1][1])\n",
        "                          & (student_info_without_nans.gender == student_info_nans.iloc[1][2])\n",
        "                          & (student_info_without_nans.region == student_info_nans.iloc[1][3])\n",
        "                          & (student_info_without_nans.highest_education == student_info_nans.iloc[1][4])\n",
        "                          & (student_info_without_nans.age_band == student_info_nans.iloc[1][5])]"
      ],
      "outputs": [
        {
          "output_type": "execute_result",
          "execution_count": 20,
          "data": {
            "text/plain": "    code_module code_presentation gender   region highest_education age_band  \\\n164         AAA             2013J      M  Ireland  HE Qualification    35-55   \n\n    imd_band  id_student  \n164   70-80%      343446  ",
            "text/html": "\n  <div id=\"df-e1b4f59d-3bbb-494c-ae88-d33719cea32e\">\n    <div class=\"colab-df-container\">\n      <div>\n<style scoped>\n    .dataframe tbody tr th:only-of-type {\n        vertical-align: middle;\n    }\n\n    .dataframe tbody tr th {\n        vertical-align: top;\n    }\n\n    .dataframe thead th {\n        text-align: right;\n    }\n</style>\n<table border=\"1\" class=\"dataframe\">\n  <thead>\n    <tr style=\"text-align: right;\">\n      <th></th>\n      <th>code_module</th>\n      <th>code_presentation</th>\n      <th>gender</th>\n      <th>region</th>\n      <th>highest_education</th>\n      <th>age_band</th>\n      <th>imd_band</th>\n      <th>id_student</th>\n    </tr>\n  </thead>\n  <tbody>\n    <tr>\n      <th>164</th>\n      <td>AAA</td>\n      <td>2013J</td>\n      <td>M</td>\n      <td>Ireland</td>\n      <td>HE Qualification</td>\n      <td>35-55</td>\n      <td>70-80%</td>\n      <td>343446</td>\n    </tr>\n  </tbody>\n</table>\n</div>\n      <button class=\"colab-df-convert\" onclick=\"convertToInteractive('df-e1b4f59d-3bbb-494c-ae88-d33719cea32e')\"\n              title=\"Convert this dataframe to an interactive table.\"\n              style=\"display:none;\">\n        \n  <svg xmlns=\"http://www.w3.org/2000/svg\" height=\"24px\"viewBox=\"0 0 24 24\"\n       width=\"24px\">\n    <path d=\"M0 0h24v24H0V0z\" fill=\"none\"/>\n    <path d=\"M18.56 5.44l.94 2.06.94-2.06 2.06-.94-2.06-.94-.94-2.06-.94 2.06-2.06.94zm-11 1L8.5 8.5l.94-2.06 2.06-.94-2.06-.94L8.5 2.5l-.94 2.06-2.06.94zm10 10l.94 2.06.94-2.06 2.06-.94-2.06-.94-.94-2.06-.94 2.06-2.06.94z\"/><path d=\"M17.41 7.96l-1.37-1.37c-.4-.4-.92-.59-1.43-.59-.52 0-1.04.2-1.43.59L10.3 9.45l-7.72 7.72c-.78.78-.78 2.05 0 2.83L4 21.41c.39.39.9.59 1.41.59.51 0 1.02-.2 1.41-.59l7.78-7.78 2.81-2.81c.8-.78.8-2.07 0-2.86zM5.41 20L4 18.59l7.72-7.72 1.47 1.35L5.41 20z\"/>\n  </svg>\n      </button>\n      \n  <style>\n    .colab-df-container {\n      display:flex;\n      flex-wrap:wrap;\n      gap: 12px;\n    }\n\n    .colab-df-convert {\n      background-color: #E8F0FE;\n      border: none;\n      border-radius: 50%;\n      cursor: pointer;\n      display: none;\n      fill: #1967D2;\n      height: 32px;\n      padding: 0 0 0 0;\n      width: 32px;\n    }\n\n    .colab-df-convert:hover {\n      background-color: #E2EBFA;\n      box-shadow: 0px 1px 2px rgba(60, 64, 67, 0.3), 0px 1px 3px 1px rgba(60, 64, 67, 0.15);\n      fill: #174EA6;\n    }\n\n    [theme=dark] .colab-df-convert {\n      background-color: #3B4455;\n      fill: #D2E3FC;\n    }\n\n    [theme=dark] .colab-df-convert:hover {\n      background-color: #434B5C;\n      box-shadow: 0px 1px 3px 1px rgba(0, 0, 0, 0.15);\n      filter: drop-shadow(0px 1px 2px rgba(0, 0, 0, 0.3));\n      fill: #FFFFFF;\n    }\n  </style>\n\n      <script>\n        const buttonEl =\n          document.querySelector('#df-e1b4f59d-3bbb-494c-ae88-d33719cea32e button.colab-df-convert');\n        buttonEl.style.display =\n          google.colab.kernel.accessAllowed ? 'block' : 'none';\n\n        async function convertToInteractive(key) {\n          const element = document.querySelector('#df-e1b4f59d-3bbb-494c-ae88-d33719cea32e');\n          const dataTable =\n            await google.colab.kernel.invokeFunction('convertToInteractive',\n                                                     [key], {});\n          if (!dataTable) return;\n\n          const docLinkHtml = 'Like what you see? Visit the ' +\n            '<a target=\"_blank\" href=https://colab.research.google.com/notebooks/data_table.ipynb>data table notebook</a>'\n            + ' to learn more about interactive tables.';\n          element.innerHTML = '';\n          dataTable['output_type'] = 'display_data';\n          await google.colab.output.renderOutput(dataTable, element);\n          const docLink = document.createElement('div');\n          docLink.innerHTML = docLinkHtml;\n          element.appendChild(docLink);\n        }\n      </script>\n    </div>\n  </div>\n  "
          },
          "metadata": {}
        }
      ],
      "execution_count": null,
      "metadata": {
        "colab": {
          "base_uri": "https://localhost:8080/"
        },
        "id": "324zZG61ln0F",
        "outputId": "97c3aef2-a3b5-40aa-d695-e202668055b1"
      }
    },
    {
      "cell_type": "code",
      "source": [
        "def get_neighbor(series,id): #Функция для автоматизации, которая возвращаем series с imd_band или без него(необходимо будет обработать IndexError)\n",
        "  return student_info_without_nans[(student_info_without_nans.code_module == series.iloc[id][0])\n",
        "                          & (student_info_without_nans.code_presentation == series.iloc[id][1])\n",
        "                          & (student_info_without_nans.gender == series.iloc[id][2])\n",
        "                          & (student_info_without_nans.region == series.iloc[id][3])\n",
        "                          & (student_info_without_nans.highest_education == series.iloc[id][4])\n",
        "                          & (student_info_without_nans.age_band == series.iloc[id][5])].imd_band\n",
        "            \n"
      ],
      "outputs": [],
      "execution_count": null,
      "metadata": {
        "id": "RfwjD-V2WwUA"
      }
    },
    {
      "cell_type": "code",
      "source": [
        "for i in range(student_info_nans.shape[0]):\n",
        "  try:\n",
        "     student_info_nans.iat[i,6] = get_neighbor(student_info_nans,i).values[0]\n",
        "  except IndexError:\n",
        "    continue #Если в найденном кортеже нет значения imd_band, пропускаем и идём дальше"
      ],
      "outputs": [],
      "execution_count": null,
      "metadata": {
        "id": "5sNgRynDfmDM"
      }
    },
    {
      "cell_type": "code",
      "source": [
        "student_info_nans[student_info_nans.imd_band.isnull()]"
      ],
      "outputs": [
        {
          "output_type": "execute_result",
          "execution_count": 23,
          "data": {
            "text/plain": "      code_module code_presentation gender        region  \\\n9             AAA             2013J      M  North Region   \n28            AAA             2013J      M       Ireland   \n34            AAA             2013J      F  North Region   \n66            AAA             2013J      F       Ireland   \n68            AAA             2013J      M  North Region   \n...           ...               ...    ...           ...   \n28360         FFF             2014J      M       Ireland   \n28370         FFF             2014J      M  North Region   \n29724         FFF             2014J      F       Ireland   \n29766         FFF             2014J      M  North Region   \n29932         FFF             2014J      M  North Region   \n\n                 highest_education age_band imd_band  id_student  \n9      Post Graduate Qualification     55<=      NaN       53025  \n28     Post Graduate Qualification    35-55      NaN      104476  \n34     Post Graduate Qualification    35-55      NaN      114017  \n66           A Level or Equivalent    35-55      NaN      172797  \n68                HE Qualification    35-55      NaN      175392  \n...                            ...      ...      ...         ...  \n28360  Post Graduate Qualification     0-35      NaN      598308  \n28370  Post Graduate Qualification    35-55      NaN      600071  \n29724             HE Qualification     0-35      NaN      693345  \n29766             HE Qualification    35-55      NaN      695449  \n29932             HE Qualification     55<=      NaN     2107747  \n\n[242 rows x 8 columns]",
            "text/html": "\n  <div id=\"df-16b86626-bd35-4751-83d3-4feda43f6d1a\">\n    <div class=\"colab-df-container\">\n      <div>\n<style scoped>\n    .dataframe tbody tr th:only-of-type {\n        vertical-align: middle;\n    }\n\n    .dataframe tbody tr th {\n        vertical-align: top;\n    }\n\n    .dataframe thead th {\n        text-align: right;\n    }\n</style>\n<table border=\"1\" class=\"dataframe\">\n  <thead>\n    <tr style=\"text-align: right;\">\n      <th></th>\n      <th>code_module</th>\n      <th>code_presentation</th>\n      <th>gender</th>\n      <th>region</th>\n      <th>highest_education</th>\n      <th>age_band</th>\n      <th>imd_band</th>\n      <th>id_student</th>\n    </tr>\n  </thead>\n  <tbody>\n    <tr>\n      <th>9</th>\n      <td>AAA</td>\n      <td>2013J</td>\n      <td>M</td>\n      <td>North Region</td>\n      <td>Post Graduate Qualification</td>\n      <td>55&lt;=</td>\n      <td>NaN</td>\n      <td>53025</td>\n    </tr>\n    <tr>\n      <th>28</th>\n      <td>AAA</td>\n      <td>2013J</td>\n      <td>M</td>\n      <td>Ireland</td>\n      <td>Post Graduate Qualification</td>\n      <td>35-55</td>\n      <td>NaN</td>\n      <td>104476</td>\n    </tr>\n    <tr>\n      <th>34</th>\n      <td>AAA</td>\n      <td>2013J</td>\n      <td>F</td>\n      <td>North Region</td>\n      <td>Post Graduate Qualification</td>\n      <td>35-55</td>\n      <td>NaN</td>\n      <td>114017</td>\n    </tr>\n    <tr>\n      <th>66</th>\n      <td>AAA</td>\n      <td>2013J</td>\n      <td>F</td>\n      <td>Ireland</td>\n      <td>A Level or Equivalent</td>\n      <td>35-55</td>\n      <td>NaN</td>\n      <td>172797</td>\n    </tr>\n    <tr>\n      <th>68</th>\n      <td>AAA</td>\n      <td>2013J</td>\n      <td>M</td>\n      <td>North Region</td>\n      <td>HE Qualification</td>\n      <td>35-55</td>\n      <td>NaN</td>\n      <td>175392</td>\n    </tr>\n    <tr>\n      <th>...</th>\n      <td>...</td>\n      <td>...</td>\n      <td>...</td>\n      <td>...</td>\n      <td>...</td>\n      <td>...</td>\n      <td>...</td>\n      <td>...</td>\n    </tr>\n    <tr>\n      <th>28360</th>\n      <td>FFF</td>\n      <td>2014J</td>\n      <td>M</td>\n      <td>Ireland</td>\n      <td>Post Graduate Qualification</td>\n      <td>0-35</td>\n      <td>NaN</td>\n      <td>598308</td>\n    </tr>\n    <tr>\n      <th>28370</th>\n      <td>FFF</td>\n      <td>2014J</td>\n      <td>M</td>\n      <td>North Region</td>\n      <td>Post Graduate Qualification</td>\n      <td>35-55</td>\n      <td>NaN</td>\n      <td>600071</td>\n    </tr>\n    <tr>\n      <th>29724</th>\n      <td>FFF</td>\n      <td>2014J</td>\n      <td>F</td>\n      <td>Ireland</td>\n      <td>HE Qualification</td>\n      <td>0-35</td>\n      <td>NaN</td>\n      <td>693345</td>\n    </tr>\n    <tr>\n      <th>29766</th>\n      <td>FFF</td>\n      <td>2014J</td>\n      <td>M</td>\n      <td>North Region</td>\n      <td>HE Qualification</td>\n      <td>35-55</td>\n      <td>NaN</td>\n      <td>695449</td>\n    </tr>\n    <tr>\n      <th>29932</th>\n      <td>FFF</td>\n      <td>2014J</td>\n      <td>M</td>\n      <td>North Region</td>\n      <td>HE Qualification</td>\n      <td>55&lt;=</td>\n      <td>NaN</td>\n      <td>2107747</td>\n    </tr>\n  </tbody>\n</table>\n<p>242 rows × 8 columns</p>\n</div>\n      <button class=\"colab-df-convert\" onclick=\"convertToInteractive('df-16b86626-bd35-4751-83d3-4feda43f6d1a')\"\n              title=\"Convert this dataframe to an interactive table.\"\n              style=\"display:none;\">\n        \n  <svg xmlns=\"http://www.w3.org/2000/svg\" height=\"24px\"viewBox=\"0 0 24 24\"\n       width=\"24px\">\n    <path d=\"M0 0h24v24H0V0z\" fill=\"none\"/>\n    <path d=\"M18.56 5.44l.94 2.06.94-2.06 2.06-.94-2.06-.94-.94-2.06-.94 2.06-2.06.94zm-11 1L8.5 8.5l.94-2.06 2.06-.94-2.06-.94L8.5 2.5l-.94 2.06-2.06.94zm10 10l.94 2.06.94-2.06 2.06-.94-2.06-.94-.94-2.06-.94 2.06-2.06.94z\"/><path d=\"M17.41 7.96l-1.37-1.37c-.4-.4-.92-.59-1.43-.59-.52 0-1.04.2-1.43.59L10.3 9.45l-7.72 7.72c-.78.78-.78 2.05 0 2.83L4 21.41c.39.39.9.59 1.41.59.51 0 1.02-.2 1.41-.59l7.78-7.78 2.81-2.81c.8-.78.8-2.07 0-2.86zM5.41 20L4 18.59l7.72-7.72 1.47 1.35L5.41 20z\"/>\n  </svg>\n      </button>\n      \n  <style>\n    .colab-df-container {\n      display:flex;\n      flex-wrap:wrap;\n      gap: 12px;\n    }\n\n    .colab-df-convert {\n      background-color: #E8F0FE;\n      border: none;\n      border-radius: 50%;\n      cursor: pointer;\n      display: none;\n      fill: #1967D2;\n      height: 32px;\n      padding: 0 0 0 0;\n      width: 32px;\n    }\n\n    .colab-df-convert:hover {\n      background-color: #E2EBFA;\n      box-shadow: 0px 1px 2px rgba(60, 64, 67, 0.3), 0px 1px 3px 1px rgba(60, 64, 67, 0.15);\n      fill: #174EA6;\n    }\n\n    [theme=dark] .colab-df-convert {\n      background-color: #3B4455;\n      fill: #D2E3FC;\n    }\n\n    [theme=dark] .colab-df-convert:hover {\n      background-color: #434B5C;\n      box-shadow: 0px 1px 3px 1px rgba(0, 0, 0, 0.15);\n      filter: drop-shadow(0px 1px 2px rgba(0, 0, 0, 0.3));\n      fill: #FFFFFF;\n    }\n  </style>\n\n      <script>\n        const buttonEl =\n          document.querySelector('#df-16b86626-bd35-4751-83d3-4feda43f6d1a button.colab-df-convert');\n        buttonEl.style.display =\n          google.colab.kernel.accessAllowed ? 'block' : 'none';\n\n        async function convertToInteractive(key) {\n          const element = document.querySelector('#df-16b86626-bd35-4751-83d3-4feda43f6d1a');\n          const dataTable =\n            await google.colab.kernel.invokeFunction('convertToInteractive',\n                                                     [key], {});\n          if (!dataTable) return;\n\n          const docLinkHtml = 'Like what you see? Visit the ' +\n            '<a target=\"_blank\" href=https://colab.research.google.com/notebooks/data_table.ipynb>data table notebook</a>'\n            + ' to learn more about interactive tables.';\n          element.innerHTML = '';\n          dataTable['output_type'] = 'display_data';\n          await google.colab.output.renderOutput(dataTable, element);\n          const docLink = document.createElement('div');\n          docLink.innerHTML = docLinkHtml;\n          element.appendChild(docLink);\n        }\n      </script>\n    </div>\n  </div>\n  "
          },
          "metadata": {}
        }
      ],
      "execution_count": null,
      "metadata": {
        "colab": {
          "base_uri": "https://localhost:8080/"
        },
        "id": "EUwPZrEEiMlV",
        "outputId": "fcd725c4-7a27-4196-b915-a517a347746e"
      }
    },
    {
      "cell_type": "markdown",
      "source": [
        "1111 - 242 = 869 заполнили дофига значений точными значениями, неплохо!"
      ],
      "metadata": {
        "id": "s4gQTmOKmgqZ"
      }
    },
    {
      "cell_type": "markdown",
      "source": [
        "Вставляем заполненные строки в исходный датафрейм"
      ],
      "metadata": {
        "id": "9zg0HRfv0Gn3"
      }
    },
    {
      "cell_type": "code",
      "source": [
        "student_info.info()"
      ],
      "outputs": [
        {
          "output_type": "stream",
          "name": "stdout",
          "text": "<class 'pandas.core.frame.DataFrame'>\nRangeIndex: 32593 entries, 0 to 32592\nData columns (total 11 columns):\n #   Column                Non-Null Count  Dtype \n---  ------                --------------  ----- \n 0   code_module           32593 non-null  object\n 1   code_presentation     32593 non-null  object\n 2   id_student            32593 non-null  int64 \n 3   gender                32593 non-null  object\n 4   region                32593 non-null  object\n 5   highest_education     32593 non-null  object\n 6   imd_band              31482 non-null  object\n 7   age_band              32593 non-null  object\n 8   num_of_prev_attempts  32593 non-null  int64 \n 9   studied_credits       32593 non-null  int64 \n 10  disability            32593 non-null  object\ndtypes: int64(3), object(8)\nmemory usage: 2.7+ MB\n"
        }
      ],
      "execution_count": null,
      "metadata": {
        "colab": {
          "base_uri": "https://localhost:8080/"
        },
        "id": "a5H972H90OFW",
        "outputId": "e6cb70e9-ba92-4ea7-af56-3db1df27d96b"
      }
    },
    {
      "cell_type": "code",
      "source": [
        "student_info.loc[student_info.id_student.isin(student_info_nans.id_student), ['imd_band']] = student_info_nans[['imd_band']]"
      ],
      "outputs": [],
      "execution_count": null,
      "metadata": {
        "id": "67FdvIHEyC7l"
      }
    },
    {
      "cell_type": "code",
      "source": [
        "student_info.info()"
      ],
      "outputs": [
        {
          "output_type": "stream",
          "name": "stdout",
          "text": "<class 'pandas.core.frame.DataFrame'>\nRangeIndex: 32593 entries, 0 to 32592\nData columns (total 11 columns):\n #   Column                Non-Null Count  Dtype \n---  ------                --------------  ----- \n 0   code_module           32593 non-null  object\n 1   code_presentation     32593 non-null  object\n 2   id_student            32593 non-null  int64 \n 3   gender                32593 non-null  object\n 4   region                32593 non-null  object\n 5   highest_education     32593 non-null  object\n 6   imd_band              32351 non-null  object\n 7   age_band              32593 non-null  object\n 8   num_of_prev_attempts  32593 non-null  int64 \n 9   studied_credits       32593 non-null  int64 \n 10  disability            32593 non-null  object\ndtypes: int64(3), object(8)\nmemory usage: 2.7+ MB\n"
        }
      ],
      "execution_count": null,
      "metadata": {
        "colab": {
          "base_uri": "https://localhost:8080/"
        },
        "id": "efBJs_qIyo2E",
        "outputId": "4494391e-b046-4c15-f1d3-acb8cb60c068"
      }
    },
    {
      "cell_type": "markdown",
      "source": [
        "пересоздаем student_info_nans для дальнейшего заполнения пропусков"
      ],
      "metadata": {
        "id": "lPNB2aWIHYFM"
      }
    },
    {
      "cell_type": "code",
      "source": [
        "student_info_nans = student_info[['code_module', 'code_presentation', 'gender', 'region', 'highest_education', 'age_band', 'imd_band', 'id_student']]\n",
        "student_info_nans = student_info_nans[student_info_nans.imd_band.isnull()]\n",
        "student_info_nans  # создаем датафрейм в которых imd_band == NaN"
      ],
      "outputs": [
        {
          "output_type": "execute_result",
          "execution_count": 27,
          "data": {
            "text/plain": "      code_module code_presentation gender        region  \\\n9             AAA             2013J      M  North Region   \n28            AAA             2013J      M       Ireland   \n34            AAA             2013J      F  North Region   \n66            AAA             2013J      F       Ireland   \n68            AAA             2013J      M  North Region   \n...           ...               ...    ...           ...   \n28360         FFF             2014J      M       Ireland   \n28370         FFF             2014J      M  North Region   \n29724         FFF             2014J      F       Ireland   \n29766         FFF             2014J      M  North Region   \n29932         FFF             2014J      M  North Region   \n\n                 highest_education age_band imd_band  id_student  \n9      Post Graduate Qualification     55<=      NaN       53025  \n28     Post Graduate Qualification    35-55      NaN      104476  \n34     Post Graduate Qualification    35-55      NaN      114017  \n66           A Level or Equivalent    35-55      NaN      172797  \n68                HE Qualification    35-55      NaN      175392  \n...                            ...      ...      ...         ...  \n28360  Post Graduate Qualification     0-35      NaN      598308  \n28370  Post Graduate Qualification    35-55      NaN      600071  \n29724             HE Qualification     0-35      NaN      693345  \n29766             HE Qualification    35-55      NaN      695449  \n29932             HE Qualification     55<=      NaN     2107747  \n\n[242 rows x 8 columns]",
            "text/html": "\n  <div id=\"df-3184cb98-f0c2-4acf-b1d8-492892d80e8f\">\n    <div class=\"colab-df-container\">\n      <div>\n<style scoped>\n    .dataframe tbody tr th:only-of-type {\n        vertical-align: middle;\n    }\n\n    .dataframe tbody tr th {\n        vertical-align: top;\n    }\n\n    .dataframe thead th {\n        text-align: right;\n    }\n</style>\n<table border=\"1\" class=\"dataframe\">\n  <thead>\n    <tr style=\"text-align: right;\">\n      <th></th>\n      <th>code_module</th>\n      <th>code_presentation</th>\n      <th>gender</th>\n      <th>region</th>\n      <th>highest_education</th>\n      <th>age_band</th>\n      <th>imd_band</th>\n      <th>id_student</th>\n    </tr>\n  </thead>\n  <tbody>\n    <tr>\n      <th>9</th>\n      <td>AAA</td>\n      <td>2013J</td>\n      <td>M</td>\n      <td>North Region</td>\n      <td>Post Graduate Qualification</td>\n      <td>55&lt;=</td>\n      <td>NaN</td>\n      <td>53025</td>\n    </tr>\n    <tr>\n      <th>28</th>\n      <td>AAA</td>\n      <td>2013J</td>\n      <td>M</td>\n      <td>Ireland</td>\n      <td>Post Graduate Qualification</td>\n      <td>35-55</td>\n      <td>NaN</td>\n      <td>104476</td>\n    </tr>\n    <tr>\n      <th>34</th>\n      <td>AAA</td>\n      <td>2013J</td>\n      <td>F</td>\n      <td>North Region</td>\n      <td>Post Graduate Qualification</td>\n      <td>35-55</td>\n      <td>NaN</td>\n      <td>114017</td>\n    </tr>\n    <tr>\n      <th>66</th>\n      <td>AAA</td>\n      <td>2013J</td>\n      <td>F</td>\n      <td>Ireland</td>\n      <td>A Level or Equivalent</td>\n      <td>35-55</td>\n      <td>NaN</td>\n      <td>172797</td>\n    </tr>\n    <tr>\n      <th>68</th>\n      <td>AAA</td>\n      <td>2013J</td>\n      <td>M</td>\n      <td>North Region</td>\n      <td>HE Qualification</td>\n      <td>35-55</td>\n      <td>NaN</td>\n      <td>175392</td>\n    </tr>\n    <tr>\n      <th>...</th>\n      <td>...</td>\n      <td>...</td>\n      <td>...</td>\n      <td>...</td>\n      <td>...</td>\n      <td>...</td>\n      <td>...</td>\n      <td>...</td>\n    </tr>\n    <tr>\n      <th>28360</th>\n      <td>FFF</td>\n      <td>2014J</td>\n      <td>M</td>\n      <td>Ireland</td>\n      <td>Post Graduate Qualification</td>\n      <td>0-35</td>\n      <td>NaN</td>\n      <td>598308</td>\n    </tr>\n    <tr>\n      <th>28370</th>\n      <td>FFF</td>\n      <td>2014J</td>\n      <td>M</td>\n      <td>North Region</td>\n      <td>Post Graduate Qualification</td>\n      <td>35-55</td>\n      <td>NaN</td>\n      <td>600071</td>\n    </tr>\n    <tr>\n      <th>29724</th>\n      <td>FFF</td>\n      <td>2014J</td>\n      <td>F</td>\n      <td>Ireland</td>\n      <td>HE Qualification</td>\n      <td>0-35</td>\n      <td>NaN</td>\n      <td>693345</td>\n    </tr>\n    <tr>\n      <th>29766</th>\n      <td>FFF</td>\n      <td>2014J</td>\n      <td>M</td>\n      <td>North Region</td>\n      <td>HE Qualification</td>\n      <td>35-55</td>\n      <td>NaN</td>\n      <td>695449</td>\n    </tr>\n    <tr>\n      <th>29932</th>\n      <td>FFF</td>\n      <td>2014J</td>\n      <td>M</td>\n      <td>North Region</td>\n      <td>HE Qualification</td>\n      <td>55&lt;=</td>\n      <td>NaN</td>\n      <td>2107747</td>\n    </tr>\n  </tbody>\n</table>\n<p>242 rows × 8 columns</p>\n</div>\n      <button class=\"colab-df-convert\" onclick=\"convertToInteractive('df-3184cb98-f0c2-4acf-b1d8-492892d80e8f')\"\n              title=\"Convert this dataframe to an interactive table.\"\n              style=\"display:none;\">\n        \n  <svg xmlns=\"http://www.w3.org/2000/svg\" height=\"24px\"viewBox=\"0 0 24 24\"\n       width=\"24px\">\n    <path d=\"M0 0h24v24H0V0z\" fill=\"none\"/>\n    <path d=\"M18.56 5.44l.94 2.06.94-2.06 2.06-.94-2.06-.94-.94-2.06-.94 2.06-2.06.94zm-11 1L8.5 8.5l.94-2.06 2.06-.94-2.06-.94L8.5 2.5l-.94 2.06-2.06.94zm10 10l.94 2.06.94-2.06 2.06-.94-2.06-.94-.94-2.06-.94 2.06-2.06.94z\"/><path d=\"M17.41 7.96l-1.37-1.37c-.4-.4-.92-.59-1.43-.59-.52 0-1.04.2-1.43.59L10.3 9.45l-7.72 7.72c-.78.78-.78 2.05 0 2.83L4 21.41c.39.39.9.59 1.41.59.51 0 1.02-.2 1.41-.59l7.78-7.78 2.81-2.81c.8-.78.8-2.07 0-2.86zM5.41 20L4 18.59l7.72-7.72 1.47 1.35L5.41 20z\"/>\n  </svg>\n      </button>\n      \n  <style>\n    .colab-df-container {\n      display:flex;\n      flex-wrap:wrap;\n      gap: 12px;\n    }\n\n    .colab-df-convert {\n      background-color: #E8F0FE;\n      border: none;\n      border-radius: 50%;\n      cursor: pointer;\n      display: none;\n      fill: #1967D2;\n      height: 32px;\n      padding: 0 0 0 0;\n      width: 32px;\n    }\n\n    .colab-df-convert:hover {\n      background-color: #E2EBFA;\n      box-shadow: 0px 1px 2px rgba(60, 64, 67, 0.3), 0px 1px 3px 1px rgba(60, 64, 67, 0.15);\n      fill: #174EA6;\n    }\n\n    [theme=dark] .colab-df-convert {\n      background-color: #3B4455;\n      fill: #D2E3FC;\n    }\n\n    [theme=dark] .colab-df-convert:hover {\n      background-color: #434B5C;\n      box-shadow: 0px 1px 3px 1px rgba(0, 0, 0, 0.15);\n      filter: drop-shadow(0px 1px 2px rgba(0, 0, 0, 0.3));\n      fill: #FFFFFF;\n    }\n  </style>\n\n      <script>\n        const buttonEl =\n          document.querySelector('#df-3184cb98-f0c2-4acf-b1d8-492892d80e8f button.colab-df-convert');\n        buttonEl.style.display =\n          google.colab.kernel.accessAllowed ? 'block' : 'none';\n\n        async function convertToInteractive(key) {\n          const element = document.querySelector('#df-3184cb98-f0c2-4acf-b1d8-492892d80e8f');\n          const dataTable =\n            await google.colab.kernel.invokeFunction('convertToInteractive',\n                                                     [key], {});\n          if (!dataTable) return;\n\n          const docLinkHtml = 'Like what you see? Visit the ' +\n            '<a target=\"_blank\" href=https://colab.research.google.com/notebooks/data_table.ipynb>data table notebook</a>'\n            + ' to learn more about interactive tables.';\n          element.innerHTML = '';\n          dataTable['output_type'] = 'display_data';\n          await google.colab.output.renderOutput(dataTable, element);\n          const docLink = document.createElement('div');\n          docLink.innerHTML = docLinkHtml;\n          element.appendChild(docLink);\n        }\n      </script>\n    </div>\n  </div>\n  "
          },
          "metadata": {}
        }
      ],
      "execution_count": null,
      "metadata": {
        "colab": {
          "base_uri": "https://localhost:8080/"
        },
        "id": "_XpDrn1H8A42",
        "outputId": "92dfbebc-d2ef-4869-cdd9-5af26b58f66e"
      }
    },
    {
      "cell_type": "markdown",
      "source": [
        "считаем статистику для более точного заполнения"
      ],
      "metadata": {
        "id": "B9At3w_dJ-Jg"
      }
    },
    {
      "cell_type": "code",
      "source": [
        "list_of_regions = []\n",
        "for i in range(student_info_nans.shape[0]):\n",
        "  list_of_regions.append(student_info_nans.iloc[i].region + ' ' + student_info_nans.iloc[i].age_band)\n",
        "list_of_regions = set(list_of_regions)"
      ],
      "outputs": [],
      "execution_count": null,
      "metadata": {
        "id": "68Wzku0W8A1e"
      }
    },
    {
      "cell_type": "code",
      "source": [
        "list_of_regions"
      ],
      "outputs": [
        {
          "output_type": "execute_result",
          "execution_count": 29,
          "data": {
            "text/plain": "{'Ireland 0-35',\n 'Ireland 35-55',\n 'North Region 0-35',\n 'North Region 35-55',\n 'North Region 55<='}"
          },
          "metadata": {}
        }
      ],
      "execution_count": null,
      "metadata": {
        "colab": {
          "base_uri": "https://localhost:8080/"
        },
        "id": "NV1WpMtc8Ayf",
        "outputId": "f8789ba3-0a1c-48a0-82fe-94f567494e2d"
      }
    },
    {
      "cell_type": "code",
      "source": [
        "student_info[(student_info.region =='Ireland') & (student_info.age_band == '0-35')].imd_band.mode()[0]"
      ],
      "outputs": [
        {
          "output_type": "execute_result",
          "execution_count": 30,
          "data": {
            "text/plain": "'0-10%'",
            "application/vnd.google.colaboratory.intrinsic+json": {
              "type": "string"
            }
          },
          "metadata": {}
        }
      ],
      "execution_count": null,
      "metadata": {
        "colab": {
          "base_uri": "https://localhost:8080/"
        },
        "id": "yV2zogFC8Au-",
        "outputId": "88f61c5c-1d96-4ce6-a0c2-b647c5311831"
      }
    },
    {
      "cell_type": "code",
      "source": [
        "for i in range(student_info_nans.shape[0]):\n",
        "   if student_info_nans.iloc[i].region == 'Ireland' and student_info_nans.iloc[i].age_band == '0-35':\n",
        "     student_info_nans.iat[i,6] = student_info[(student_info.region =='Ireland') & (student_info.age_band == '0-35')].imd_band.mode()[0]\n",
        "student_info_nans[student_info_nans.imd_band.isnull()].shape[0]"
      ],
      "outputs": [
        {
          "output_type": "execute_result",
          "execution_count": 31,
          "data": {
            "text/plain": "207"
          },
          "metadata": {}
        }
      ],
      "execution_count": null,
      "metadata": {
        "colab": {
          "base_uri": "https://localhost:8080/"
        },
        "id": "P2z4-qi8XJdn",
        "outputId": "04a3767e-9443-46f8-c021-2ad98d6dddf9"
      }
    },
    {
      "cell_type": "code",
      "source": [
        "student_info[(student_info.region =='Ireland') & (student_info.age_band == '35-55')].imd_band.mode()[0]"
      ],
      "outputs": [
        {
          "output_type": "execute_result",
          "execution_count": 32,
          "data": {
            "text/plain": "'30-40%'",
            "application/vnd.google.colaboratory.intrinsic+json": {
              "type": "string"
            }
          },
          "metadata": {}
        }
      ],
      "execution_count": null,
      "metadata": {
        "colab": {
          "base_uri": "https://localhost:8080/"
        },
        "id": "iD8q1uVMLj9I",
        "outputId": "60b429ea-6b25-47ee-e3c6-ce2e9e8e8f2d"
      }
    },
    {
      "cell_type": "code",
      "source": [
        "for i in range(student_info_nans.shape[0]):\n",
        "   if student_info_nans.iloc[i].region == 'Ireland' and student_info_nans.iloc[i].age_band == '35-55':\n",
        "     student_info_nans.iat[i,6] = student_info[(student_info.region =='Ireland') & (student_info.age_band == '35-55')].imd_band.mode()[0]\n",
        "student_info_nans[student_info_nans.imd_band.isnull()].shape[0]"
      ],
      "outputs": [
        {
          "output_type": "execute_result",
          "execution_count": 33,
          "data": {
            "text/plain": "172"
          },
          "metadata": {}
        }
      ],
      "execution_count": null,
      "metadata": {
        "colab": {
          "base_uri": "https://localhost:8080/"
        },
        "id": "hxyFjuWaaWay",
        "outputId": "59e31e9e-2acf-4ee2-9fc4-62860c889a4b"
      }
    },
    {
      "cell_type": "code",
      "source": [
        "student_info[(student_info.region =='North Region') & (student_info.age_band == '0-35')].imd_band.mode()[0]"
      ],
      "outputs": [
        {
          "output_type": "execute_result",
          "execution_count": 34,
          "data": {
            "text/plain": "'10-20'",
            "application/vnd.google.colaboratory.intrinsic+json": {
              "type": "string"
            }
          },
          "metadata": {}
        }
      ],
      "execution_count": null,
      "metadata": {
        "colab": {
          "base_uri": "https://localhost:8080/"
        },
        "id": "CAiMnyLxLor_",
        "outputId": "607680a7-0d0e-49db-9f52-f9649c7c30a4"
      }
    },
    {
      "cell_type": "code",
      "source": [
        "for i in range(student_info_nans.shape[0]):\n",
        "   if student_info_nans.iloc[i].region == 'North Region' and student_info_nans.iloc[i].age_band == '0-35':\n",
        "     student_info_nans.iat[i,6] = student_info[(student_info.region =='North Region') & (student_info.age_band == '0-35')].imd_band.mode()[0]\n",
        "student_info_nans[student_info_nans.imd_band.isnull()].shape[0]"
      ],
      "outputs": [
        {
          "output_type": "execute_result",
          "execution_count": 35,
          "data": {
            "text/plain": "103"
          },
          "metadata": {}
        }
      ],
      "execution_count": null,
      "metadata": {
        "colab": {
          "base_uri": "https://localhost:8080/"
        },
        "id": "fZtTjK3-aohr",
        "outputId": "29102607-676e-412d-ae0e-d4ba28f7ef3c"
      }
    },
    {
      "cell_type": "code",
      "source": [
        "student_info[(student_info.region =='North Region') & (student_info.age_band == '35-55')].imd_band.mode()[0]"
      ],
      "outputs": [
        {
          "output_type": "execute_result",
          "execution_count": 36,
          "data": {
            "text/plain": "'10-20'",
            "application/vnd.google.colaboratory.intrinsic+json": {
              "type": "string"
            }
          },
          "metadata": {}
        }
      ],
      "execution_count": null,
      "metadata": {
        "colab": {
          "base_uri": "https://localhost:8080/"
        },
        "id": "siLBt9bWLvu8",
        "outputId": "f277de9e-7f32-4d8e-f922-9e6eadea740e"
      }
    },
    {
      "cell_type": "code",
      "source": [
        "for i in range(student_info_nans.shape[0]):\n",
        "   if student_info_nans.iloc[i].region == 'North Region' and student_info_nans.iloc[i].age_band == '35-55':\n",
        "     student_info_nans.iat[i,6] = student_info[(student_info.region =='North Region') & (student_info.age_band == '35-55')].imd_band.mode()[0]\n",
        "student_info_nans[student_info_nans.imd_band.isnull()].shape[0]"
      ],
      "outputs": [
        {
          "output_type": "execute_result",
          "execution_count": 37,
          "data": {
            "text/plain": "15"
          },
          "metadata": {}
        }
      ],
      "execution_count": null,
      "metadata": {
        "colab": {
          "base_uri": "https://localhost:8080/"
        },
        "id": "bkgH2Gx4fZa7",
        "outputId": "f5e20598-3d03-40c1-d31a-d0297b0ee88b"
      }
    },
    {
      "cell_type": "code",
      "source": [
        "student_info_nans[student_info_nans.imd_band.isnull()].shape[0]"
      ],
      "outputs": [
        {
          "output_type": "execute_result",
          "execution_count": 38,
          "data": {
            "text/plain": "15"
          },
          "metadata": {}
        }
      ],
      "execution_count": null,
      "metadata": {
        "colab": {
          "base_uri": "https://localhost:8080/"
        },
        "id": "jWsRd9vWfg2s",
        "outputId": "041a0cb4-8392-4bd9-e2c0-df1cd7839efa"
      }
    },
    {
      "cell_type": "code",
      "source": [
        "student_info[(student_info.region =='North Region') & (student_info.age_band == '55<=')]"
      ],
      "outputs": [
        {
          "output_type": "execute_result",
          "execution_count": 39,
          "data": {
            "text/plain": "      code_module code_presentation  id_student gender        region  \\\n9             AAA             2013J       53025      M  North Region   \n223           AAA             2013J      603861      M  North Region   \n619           AAA             2014J      603861      M  North Region   \n8954          CCC             2014B      383347      M  North Region   \n10010         CCC             2014B      622302      M  North Region   \n10431         CCC             2014B     1937511      F  North Region   \n11985         CCC             2014J      628034      F  North Region   \n12916         CCC             2014J     1937511      F  North Region   \n13321         DDD             2013B      347210      M  North Region   \n13367         DDD             2013B      383347      M  North Region   \n13828         DDD             2013B      538131      M  North Region   \n14640         DDD             2013J      331404      F  North Region   \n17908         DDD             2014J      488941      M  North Region   \n27273         FFF             2014B      628034      F  North Region   \n29932         FFF             2014J     2107747      M  North Region   \n\n                 highest_education imd_band age_band  num_of_prev_attempts  \\\n9      Post Graduate Qualification      NaN     55<=                     0   \n223               HE Qualification      NaN     55<=                     0   \n619               HE Qualification      NaN     55<=                     1   \n8954   Post Graduate Qualification      NaN     55<=                     0   \n10010  Post Graduate Qualification      NaN     55<=                     0   \n10431             HE Qualification      NaN     55<=                     0   \n11985             HE Qualification      NaN     55<=                     0   \n12916             HE Qualification      NaN     55<=                     1   \n13321             HE Qualification      NaN     55<=                     0   \n13367  Post Graduate Qualification      NaN     55<=                     0   \n13828             HE Qualification      NaN     55<=                     0   \n14640             HE Qualification      NaN     55<=                     0   \n17908  Post Graduate Qualification      NaN     55<=                     0   \n27273             HE Qualification      NaN     55<=                     0   \n29932             HE Qualification      NaN     55<=                     0   \n\n       studied_credits disability  \n9                   60          N  \n223                 60          N  \n619                 60          N  \n8954                60          N  \n10010               30          N  \n10431              150          N  \n11985               60          N  \n12916              270          N  \n13321               90          N  \n13367               60          N  \n13828               60          N  \n14640               60          N  \n17908              120          N  \n27273               60          N  \n29932               60          N  ",
            "text/html": "\n  <div id=\"df-4563d95a-298b-444f-82e0-a9765ecb02b7\">\n    <div class=\"colab-df-container\">\n      <div>\n<style scoped>\n    .dataframe tbody tr th:only-of-type {\n        vertical-align: middle;\n    }\n\n    .dataframe tbody tr th {\n        vertical-align: top;\n    }\n\n    .dataframe thead th {\n        text-align: right;\n    }\n</style>\n<table border=\"1\" class=\"dataframe\">\n  <thead>\n    <tr style=\"text-align: right;\">\n      <th></th>\n      <th>code_module</th>\n      <th>code_presentation</th>\n      <th>id_student</th>\n      <th>gender</th>\n      <th>region</th>\n      <th>highest_education</th>\n      <th>imd_band</th>\n      <th>age_band</th>\n      <th>num_of_prev_attempts</th>\n      <th>studied_credits</th>\n      <th>disability</th>\n    </tr>\n  </thead>\n  <tbody>\n    <tr>\n      <th>9</th>\n      <td>AAA</td>\n      <td>2013J</td>\n      <td>53025</td>\n      <td>M</td>\n      <td>North Region</td>\n      <td>Post Graduate Qualification</td>\n      <td>NaN</td>\n      <td>55&lt;=</td>\n      <td>0</td>\n      <td>60</td>\n      <td>N</td>\n    </tr>\n    <tr>\n      <th>223</th>\n      <td>AAA</td>\n      <td>2013J</td>\n      <td>603861</td>\n      <td>M</td>\n      <td>North Region</td>\n      <td>HE Qualification</td>\n      <td>NaN</td>\n      <td>55&lt;=</td>\n      <td>0</td>\n      <td>60</td>\n      <td>N</td>\n    </tr>\n    <tr>\n      <th>619</th>\n      <td>AAA</td>\n      <td>2014J</td>\n      <td>603861</td>\n      <td>M</td>\n      <td>North Region</td>\n      <td>HE Qualification</td>\n      <td>NaN</td>\n      <td>55&lt;=</td>\n      <td>1</td>\n      <td>60</td>\n      <td>N</td>\n    </tr>\n    <tr>\n      <th>8954</th>\n      <td>CCC</td>\n      <td>2014B</td>\n      <td>383347</td>\n      <td>M</td>\n      <td>North Region</td>\n      <td>Post Graduate Qualification</td>\n      <td>NaN</td>\n      <td>55&lt;=</td>\n      <td>0</td>\n      <td>60</td>\n      <td>N</td>\n    </tr>\n    <tr>\n      <th>10010</th>\n      <td>CCC</td>\n      <td>2014B</td>\n      <td>622302</td>\n      <td>M</td>\n      <td>North Region</td>\n      <td>Post Graduate Qualification</td>\n      <td>NaN</td>\n      <td>55&lt;=</td>\n      <td>0</td>\n      <td>30</td>\n      <td>N</td>\n    </tr>\n    <tr>\n      <th>10431</th>\n      <td>CCC</td>\n      <td>2014B</td>\n      <td>1937511</td>\n      <td>F</td>\n      <td>North Region</td>\n      <td>HE Qualification</td>\n      <td>NaN</td>\n      <td>55&lt;=</td>\n      <td>0</td>\n      <td>150</td>\n      <td>N</td>\n    </tr>\n    <tr>\n      <th>11985</th>\n      <td>CCC</td>\n      <td>2014J</td>\n      <td>628034</td>\n      <td>F</td>\n      <td>North Region</td>\n      <td>HE Qualification</td>\n      <td>NaN</td>\n      <td>55&lt;=</td>\n      <td>0</td>\n      <td>60</td>\n      <td>N</td>\n    </tr>\n    <tr>\n      <th>12916</th>\n      <td>CCC</td>\n      <td>2014J</td>\n      <td>1937511</td>\n      <td>F</td>\n      <td>North Region</td>\n      <td>HE Qualification</td>\n      <td>NaN</td>\n      <td>55&lt;=</td>\n      <td>1</td>\n      <td>270</td>\n      <td>N</td>\n    </tr>\n    <tr>\n      <th>13321</th>\n      <td>DDD</td>\n      <td>2013B</td>\n      <td>347210</td>\n      <td>M</td>\n      <td>North Region</td>\n      <td>HE Qualification</td>\n      <td>NaN</td>\n      <td>55&lt;=</td>\n      <td>0</td>\n      <td>90</td>\n      <td>N</td>\n    </tr>\n    <tr>\n      <th>13367</th>\n      <td>DDD</td>\n      <td>2013B</td>\n      <td>383347</td>\n      <td>M</td>\n      <td>North Region</td>\n      <td>Post Graduate Qualification</td>\n      <td>NaN</td>\n      <td>55&lt;=</td>\n      <td>0</td>\n      <td>60</td>\n      <td>N</td>\n    </tr>\n    <tr>\n      <th>13828</th>\n      <td>DDD</td>\n      <td>2013B</td>\n      <td>538131</td>\n      <td>M</td>\n      <td>North Region</td>\n      <td>HE Qualification</td>\n      <td>NaN</td>\n      <td>55&lt;=</td>\n      <td>0</td>\n      <td>60</td>\n      <td>N</td>\n    </tr>\n    <tr>\n      <th>14640</th>\n      <td>DDD</td>\n      <td>2013J</td>\n      <td>331404</td>\n      <td>F</td>\n      <td>North Region</td>\n      <td>HE Qualification</td>\n      <td>NaN</td>\n      <td>55&lt;=</td>\n      <td>0</td>\n      <td>60</td>\n      <td>N</td>\n    </tr>\n    <tr>\n      <th>17908</th>\n      <td>DDD</td>\n      <td>2014J</td>\n      <td>488941</td>\n      <td>M</td>\n      <td>North Region</td>\n      <td>Post Graduate Qualification</td>\n      <td>NaN</td>\n      <td>55&lt;=</td>\n      <td>0</td>\n      <td>120</td>\n      <td>N</td>\n    </tr>\n    <tr>\n      <th>27273</th>\n      <td>FFF</td>\n      <td>2014B</td>\n      <td>628034</td>\n      <td>F</td>\n      <td>North Region</td>\n      <td>HE Qualification</td>\n      <td>NaN</td>\n      <td>55&lt;=</td>\n      <td>0</td>\n      <td>60</td>\n      <td>N</td>\n    </tr>\n    <tr>\n      <th>29932</th>\n      <td>FFF</td>\n      <td>2014J</td>\n      <td>2107747</td>\n      <td>M</td>\n      <td>North Region</td>\n      <td>HE Qualification</td>\n      <td>NaN</td>\n      <td>55&lt;=</td>\n      <td>0</td>\n      <td>60</td>\n      <td>N</td>\n    </tr>\n  </tbody>\n</table>\n</div>\n      <button class=\"colab-df-convert\" onclick=\"convertToInteractive('df-4563d95a-298b-444f-82e0-a9765ecb02b7')\"\n              title=\"Convert this dataframe to an interactive table.\"\n              style=\"display:none;\">\n        \n  <svg xmlns=\"http://www.w3.org/2000/svg\" height=\"24px\"viewBox=\"0 0 24 24\"\n       width=\"24px\">\n    <path d=\"M0 0h24v24H0V0z\" fill=\"none\"/>\n    <path d=\"M18.56 5.44l.94 2.06.94-2.06 2.06-.94-2.06-.94-.94-2.06-.94 2.06-2.06.94zm-11 1L8.5 8.5l.94-2.06 2.06-.94-2.06-.94L8.5 2.5l-.94 2.06-2.06.94zm10 10l.94 2.06.94-2.06 2.06-.94-2.06-.94-.94-2.06-.94 2.06-2.06.94z\"/><path d=\"M17.41 7.96l-1.37-1.37c-.4-.4-.92-.59-1.43-.59-.52 0-1.04.2-1.43.59L10.3 9.45l-7.72 7.72c-.78.78-.78 2.05 0 2.83L4 21.41c.39.39.9.59 1.41.59.51 0 1.02-.2 1.41-.59l7.78-7.78 2.81-2.81c.8-.78.8-2.07 0-2.86zM5.41 20L4 18.59l7.72-7.72 1.47 1.35L5.41 20z\"/>\n  </svg>\n      </button>\n      \n  <style>\n    .colab-df-container {\n      display:flex;\n      flex-wrap:wrap;\n      gap: 12px;\n    }\n\n    .colab-df-convert {\n      background-color: #E8F0FE;\n      border: none;\n      border-radius: 50%;\n      cursor: pointer;\n      display: none;\n      fill: #1967D2;\n      height: 32px;\n      padding: 0 0 0 0;\n      width: 32px;\n    }\n\n    .colab-df-convert:hover {\n      background-color: #E2EBFA;\n      box-shadow: 0px 1px 2px rgba(60, 64, 67, 0.3), 0px 1px 3px 1px rgba(60, 64, 67, 0.15);\n      fill: #174EA6;\n    }\n\n    [theme=dark] .colab-df-convert {\n      background-color: #3B4455;\n      fill: #D2E3FC;\n    }\n\n    [theme=dark] .colab-df-convert:hover {\n      background-color: #434B5C;\n      box-shadow: 0px 1px 3px 1px rgba(0, 0, 0, 0.15);\n      filter: drop-shadow(0px 1px 2px rgba(0, 0, 0, 0.3));\n      fill: #FFFFFF;\n    }\n  </style>\n\n      <script>\n        const buttonEl =\n          document.querySelector('#df-4563d95a-298b-444f-82e0-a9765ecb02b7 button.colab-df-convert');\n        buttonEl.style.display =\n          google.colab.kernel.accessAllowed ? 'block' : 'none';\n\n        async function convertToInteractive(key) {\n          const element = document.querySelector('#df-4563d95a-298b-444f-82e0-a9765ecb02b7');\n          const dataTable =\n            await google.colab.kernel.invokeFunction('convertToInteractive',\n                                                     [key], {});\n          if (!dataTable) return;\n\n          const docLinkHtml = 'Like what you see? Visit the ' +\n            '<a target=\"_blank\" href=https://colab.research.google.com/notebooks/data_table.ipynb>data table notebook</a>'\n            + ' to learn more about interactive tables.';\n          element.innerHTML = '';\n          dataTable['output_type'] = 'display_data';\n          await google.colab.output.renderOutput(dataTable, element);\n          const docLink = document.createElement('div');\n          docLink.innerHTML = docLinkHtml;\n          element.appendChild(docLink);\n        }\n      </script>\n    </div>\n  </div>\n  "
          },
          "metadata": {}
        }
      ],
      "execution_count": null,
      "metadata": {
        "colab": {
          "base_uri": "https://localhost:8080/"
        },
        "id": "3wZIfFYpL1X_",
        "outputId": "bed613f3-dbec-4e5a-c655-e1f25ae3006e"
      }
    },
    {
      "cell_type": "markdown",
      "source": [
        "анлак, значений в исходном датафрейме нет даже для анализа, поэтому берем ближайшее по возрасту - 35-55 : '10-20'"
      ],
      "metadata": {
        "id": "4hHne50aMk_i"
      }
    },
    {
      "cell_type": "code",
      "source": [
        "for i in range(student_info_nans.shape[0]):\n",
        "   if student_info_nans.iloc[i].region == 'North Region' and student_info_nans.iloc[i].age_band == '55<=':\n",
        "     student_info_nans.iat[i,6] = student_info[(student_info.region =='North Region') & (student_info.age_band == '35-55')].imd_band.mode()[0]\n",
        "student_info_nans[student_info_nans.imd_band.isnull()].shape[0]"
      ],
      "outputs": [
        {
          "output_type": "execute_result",
          "execution_count": 40,
          "data": {
            "text/plain": "0"
          },
          "metadata": {}
        }
      ],
      "execution_count": null,
      "metadata": {
        "colab": {
          "base_uri": "https://localhost:8080/"
        },
        "id": "_nxUkHSGfmnk",
        "outputId": "56e04f22-fd53-4ff0-8601-89e28d4ae70b"
      }
    },
    {
      "cell_type": "markdown",
      "source": [
        "Пропуски побеждены, го вставлять в исходную"
      ],
      "metadata": {
        "id": "A4ewySa0fsyG"
      }
    },
    {
      "cell_type": "code",
      "source": [
        "student_info_nans[student_info_nans.imd_band.isnull()]"
      ],
      "outputs": [
        {
          "output_type": "execute_result",
          "execution_count": 41,
          "data": {
            "text/plain": "Empty DataFrame\nColumns: [code_module, code_presentation, gender, region, highest_education, age_band, imd_band, id_student]\nIndex: []",
            "text/html": "\n  <div id=\"df-6190822c-5fe1-44de-821f-153c3f9e403c\">\n    <div class=\"colab-df-container\">\n      <div>\n<style scoped>\n    .dataframe tbody tr th:only-of-type {\n        vertical-align: middle;\n    }\n\n    .dataframe tbody tr th {\n        vertical-align: top;\n    }\n\n    .dataframe thead th {\n        text-align: right;\n    }\n</style>\n<table border=\"1\" class=\"dataframe\">\n  <thead>\n    <tr style=\"text-align: right;\">\n      <th></th>\n      <th>code_module</th>\n      <th>code_presentation</th>\n      <th>gender</th>\n      <th>region</th>\n      <th>highest_education</th>\n      <th>age_band</th>\n      <th>imd_band</th>\n      <th>id_student</th>\n    </tr>\n  </thead>\n  <tbody>\n  </tbody>\n</table>\n</div>\n      <button class=\"colab-df-convert\" onclick=\"convertToInteractive('df-6190822c-5fe1-44de-821f-153c3f9e403c')\"\n              title=\"Convert this dataframe to an interactive table.\"\n              style=\"display:none;\">\n        \n  <svg xmlns=\"http://www.w3.org/2000/svg\" height=\"24px\"viewBox=\"0 0 24 24\"\n       width=\"24px\">\n    <path d=\"M0 0h24v24H0V0z\" fill=\"none\"/>\n    <path d=\"M18.56 5.44l.94 2.06.94-2.06 2.06-.94-2.06-.94-.94-2.06-.94 2.06-2.06.94zm-11 1L8.5 8.5l.94-2.06 2.06-.94-2.06-.94L8.5 2.5l-.94 2.06-2.06.94zm10 10l.94 2.06.94-2.06 2.06-.94-2.06-.94-.94-2.06-.94 2.06-2.06.94z\"/><path d=\"M17.41 7.96l-1.37-1.37c-.4-.4-.92-.59-1.43-.59-.52 0-1.04.2-1.43.59L10.3 9.45l-7.72 7.72c-.78.78-.78 2.05 0 2.83L4 21.41c.39.39.9.59 1.41.59.51 0 1.02-.2 1.41-.59l7.78-7.78 2.81-2.81c.8-.78.8-2.07 0-2.86zM5.41 20L4 18.59l7.72-7.72 1.47 1.35L5.41 20z\"/>\n  </svg>\n      </button>\n      \n  <style>\n    .colab-df-container {\n      display:flex;\n      flex-wrap:wrap;\n      gap: 12px;\n    }\n\n    .colab-df-convert {\n      background-color: #E8F0FE;\n      border: none;\n      border-radius: 50%;\n      cursor: pointer;\n      display: none;\n      fill: #1967D2;\n      height: 32px;\n      padding: 0 0 0 0;\n      width: 32px;\n    }\n\n    .colab-df-convert:hover {\n      background-color: #E2EBFA;\n      box-shadow: 0px 1px 2px rgba(60, 64, 67, 0.3), 0px 1px 3px 1px rgba(60, 64, 67, 0.15);\n      fill: #174EA6;\n    }\n\n    [theme=dark] .colab-df-convert {\n      background-color: #3B4455;\n      fill: #D2E3FC;\n    }\n\n    [theme=dark] .colab-df-convert:hover {\n      background-color: #434B5C;\n      box-shadow: 0px 1px 3px 1px rgba(0, 0, 0, 0.15);\n      filter: drop-shadow(0px 1px 2px rgba(0, 0, 0, 0.3));\n      fill: #FFFFFF;\n    }\n  </style>\n\n      <script>\n        const buttonEl =\n          document.querySelector('#df-6190822c-5fe1-44de-821f-153c3f9e403c button.colab-df-convert');\n        buttonEl.style.display =\n          google.colab.kernel.accessAllowed ? 'block' : 'none';\n\n        async function convertToInteractive(key) {\n          const element = document.querySelector('#df-6190822c-5fe1-44de-821f-153c3f9e403c');\n          const dataTable =\n            await google.colab.kernel.invokeFunction('convertToInteractive',\n                                                     [key], {});\n          if (!dataTable) return;\n\n          const docLinkHtml = 'Like what you see? Visit the ' +\n            '<a target=\"_blank\" href=https://colab.research.google.com/notebooks/data_table.ipynb>data table notebook</a>'\n            + ' to learn more about interactive tables.';\n          element.innerHTML = '';\n          dataTable['output_type'] = 'display_data';\n          await google.colab.output.renderOutput(dataTable, element);\n          const docLink = document.createElement('div');\n          docLink.innerHTML = docLinkHtml;\n          element.appendChild(docLink);\n        }\n      </script>\n    </div>\n  </div>\n  "
          },
          "metadata": {}
        }
      ],
      "execution_count": null,
      "metadata": {
        "colab": {
          "base_uri": "https://localhost:8080/"
        },
        "id": "J_Ard-SzgKir",
        "outputId": "12103000-5f4b-4ad4-ca6b-ce89dfd8dd1f"
      }
    },
    {
      "cell_type": "code",
      "source": [
        "student_info.loc[student_info.id_student.isin(student_info_nans.id_student), ['imd_band']] = student_info_nans[['imd_band']]\n",
        "student_info.info()"
      ],
      "outputs": [
        {
          "output_type": "stream",
          "name": "stdout",
          "text": "<class 'pandas.core.frame.DataFrame'>\nRangeIndex: 32593 entries, 0 to 32592\nData columns (total 11 columns):\n #   Column                Non-Null Count  Dtype \n---  ------                --------------  ----- \n 0   code_module           32593 non-null  object\n 1   code_presentation     32593 non-null  object\n 2   id_student            32593 non-null  int64 \n 3   gender                32593 non-null  object\n 4   region                32593 non-null  object\n 5   highest_education     32593 non-null  object\n 6   imd_band              32581 non-null  object\n 7   age_band              32593 non-null  object\n 8   num_of_prev_attempts  32593 non-null  int64 \n 9   studied_credits       32593 non-null  int64 \n 10  disability            32593 non-null  object\ndtypes: int64(3), object(8)\nmemory usage: 2.7+ MB\n"
        }
      ],
      "execution_count": null,
      "metadata": {
        "colab": {
          "base_uri": "https://localhost:8080/"
        },
        "id": "YnpV8J3_f36L",
        "outputId": "34d95ad8-b429-41b3-a47e-412050bc9c70"
      }
    },
    {
      "cell_type": "code",
      "source": [
        "student_info[student_info.imd_band.isnull()]"
      ],
      "outputs": [
        {
          "output_type": "execute_result",
          "execution_count": 43,
          "data": {
            "text/plain": "      code_module code_presentation  id_student gender        region  \\\n9527          CCC             2014B      575745      F  North Region   \n10508         CCC             2014B     2418732      F  North Region   \n10691         CCC             2014J      185057      M       Ireland   \n10727         CCC             2014J      259641      M  North Region   \n11719         CCC             2014J      601735      M  North Region   \n12638         CCC             2014J      686058      F  North Region   \n12932         CCC             2014J     2026585      M       Ireland   \n13686         DDD             2013B      516398      M  North Region   \n16356         DDD             2014B       84605      M  North Region   \n23303         FFF             2013B      543785      M  North Region   \n27992         FFF             2014J      438644      F  North Region   \n29907         FFF             2014J     1948159      F  North Region   \n\n           highest_education imd_band age_band  num_of_prev_attempts  \\\n9527        HE Qualification      NaN    35-55                     0   \n10508       HE Qualification      NaN    35-55                     0   \n10691       HE Qualification      NaN    35-55                     0   \n10727  A Level or Equivalent      NaN    35-55                     0   \n11719     Lower Than A Level      NaN    35-55                     0   \n12638     Lower Than A Level      NaN    35-55                     0   \n12932       HE Qualification      NaN    35-55                     0   \n13686       HE Qualification      NaN    35-55                     0   \n16356  A Level or Equivalent      NaN    35-55                     1   \n23303     Lower Than A Level      NaN     0-35                     0   \n27992  A Level or Equivalent      NaN    35-55                     3   \n29907  A Level or Equivalent      NaN    35-55                     1   \n\n       studied_credits disability  \n9527               130          N  \n10508               60          N  \n10691               90          N  \n10727              120          N  \n11719               60          N  \n12638              120          N  \n12932               60          N  \n13686               60          N  \n16356              120          N  \n23303               90          N  \n27992               60          N  \n29907               60          N  ",
            "text/html": "\n  <div id=\"df-28e898e6-636f-41fe-bb47-fcb026bead97\">\n    <div class=\"colab-df-container\">\n      <div>\n<style scoped>\n    .dataframe tbody tr th:only-of-type {\n        vertical-align: middle;\n    }\n\n    .dataframe tbody tr th {\n        vertical-align: top;\n    }\n\n    .dataframe thead th {\n        text-align: right;\n    }\n</style>\n<table border=\"1\" class=\"dataframe\">\n  <thead>\n    <tr style=\"text-align: right;\">\n      <th></th>\n      <th>code_module</th>\n      <th>code_presentation</th>\n      <th>id_student</th>\n      <th>gender</th>\n      <th>region</th>\n      <th>highest_education</th>\n      <th>imd_band</th>\n      <th>age_band</th>\n      <th>num_of_prev_attempts</th>\n      <th>studied_credits</th>\n      <th>disability</th>\n    </tr>\n  </thead>\n  <tbody>\n    <tr>\n      <th>9527</th>\n      <td>CCC</td>\n      <td>2014B</td>\n      <td>575745</td>\n      <td>F</td>\n      <td>North Region</td>\n      <td>HE Qualification</td>\n      <td>NaN</td>\n      <td>35-55</td>\n      <td>0</td>\n      <td>130</td>\n      <td>N</td>\n    </tr>\n    <tr>\n      <th>10508</th>\n      <td>CCC</td>\n      <td>2014B</td>\n      <td>2418732</td>\n      <td>F</td>\n      <td>North Region</td>\n      <td>HE Qualification</td>\n      <td>NaN</td>\n      <td>35-55</td>\n      <td>0</td>\n      <td>60</td>\n      <td>N</td>\n    </tr>\n    <tr>\n      <th>10691</th>\n      <td>CCC</td>\n      <td>2014J</td>\n      <td>185057</td>\n      <td>M</td>\n      <td>Ireland</td>\n      <td>HE Qualification</td>\n      <td>NaN</td>\n      <td>35-55</td>\n      <td>0</td>\n      <td>90</td>\n      <td>N</td>\n    </tr>\n    <tr>\n      <th>10727</th>\n      <td>CCC</td>\n      <td>2014J</td>\n      <td>259641</td>\n      <td>M</td>\n      <td>North Region</td>\n      <td>A Level or Equivalent</td>\n      <td>NaN</td>\n      <td>35-55</td>\n      <td>0</td>\n      <td>120</td>\n      <td>N</td>\n    </tr>\n    <tr>\n      <th>11719</th>\n      <td>CCC</td>\n      <td>2014J</td>\n      <td>601735</td>\n      <td>M</td>\n      <td>North Region</td>\n      <td>Lower Than A Level</td>\n      <td>NaN</td>\n      <td>35-55</td>\n      <td>0</td>\n      <td>60</td>\n      <td>N</td>\n    </tr>\n    <tr>\n      <th>12638</th>\n      <td>CCC</td>\n      <td>2014J</td>\n      <td>686058</td>\n      <td>F</td>\n      <td>North Region</td>\n      <td>Lower Than A Level</td>\n      <td>NaN</td>\n      <td>35-55</td>\n      <td>0</td>\n      <td>120</td>\n      <td>N</td>\n    </tr>\n    <tr>\n      <th>12932</th>\n      <td>CCC</td>\n      <td>2014J</td>\n      <td>2026585</td>\n      <td>M</td>\n      <td>Ireland</td>\n      <td>HE Qualification</td>\n      <td>NaN</td>\n      <td>35-55</td>\n      <td>0</td>\n      <td>60</td>\n      <td>N</td>\n    </tr>\n    <tr>\n      <th>13686</th>\n      <td>DDD</td>\n      <td>2013B</td>\n      <td>516398</td>\n      <td>M</td>\n      <td>North Region</td>\n      <td>HE Qualification</td>\n      <td>NaN</td>\n      <td>35-55</td>\n      <td>0</td>\n      <td>60</td>\n      <td>N</td>\n    </tr>\n    <tr>\n      <th>16356</th>\n      <td>DDD</td>\n      <td>2014B</td>\n      <td>84605</td>\n      <td>M</td>\n      <td>North Region</td>\n      <td>A Level or Equivalent</td>\n      <td>NaN</td>\n      <td>35-55</td>\n      <td>1</td>\n      <td>120</td>\n      <td>N</td>\n    </tr>\n    <tr>\n      <th>23303</th>\n      <td>FFF</td>\n      <td>2013B</td>\n      <td>543785</td>\n      <td>M</td>\n      <td>North Region</td>\n      <td>Lower Than A Level</td>\n      <td>NaN</td>\n      <td>0-35</td>\n      <td>0</td>\n      <td>90</td>\n      <td>N</td>\n    </tr>\n    <tr>\n      <th>27992</th>\n      <td>FFF</td>\n      <td>2014J</td>\n      <td>438644</td>\n      <td>F</td>\n      <td>North Region</td>\n      <td>A Level or Equivalent</td>\n      <td>NaN</td>\n      <td>35-55</td>\n      <td>3</td>\n      <td>60</td>\n      <td>N</td>\n    </tr>\n    <tr>\n      <th>29907</th>\n      <td>FFF</td>\n      <td>2014J</td>\n      <td>1948159</td>\n      <td>F</td>\n      <td>North Region</td>\n      <td>A Level or Equivalent</td>\n      <td>NaN</td>\n      <td>35-55</td>\n      <td>1</td>\n      <td>60</td>\n      <td>N</td>\n    </tr>\n  </tbody>\n</table>\n</div>\n      <button class=\"colab-df-convert\" onclick=\"convertToInteractive('df-28e898e6-636f-41fe-bb47-fcb026bead97')\"\n              title=\"Convert this dataframe to an interactive table.\"\n              style=\"display:none;\">\n        \n  <svg xmlns=\"http://www.w3.org/2000/svg\" height=\"24px\"viewBox=\"0 0 24 24\"\n       width=\"24px\">\n    <path d=\"M0 0h24v24H0V0z\" fill=\"none\"/>\n    <path d=\"M18.56 5.44l.94 2.06.94-2.06 2.06-.94-2.06-.94-.94-2.06-.94 2.06-2.06.94zm-11 1L8.5 8.5l.94-2.06 2.06-.94-2.06-.94L8.5 2.5l-.94 2.06-2.06.94zm10 10l.94 2.06.94-2.06 2.06-.94-2.06-.94-.94-2.06-.94 2.06-2.06.94z\"/><path d=\"M17.41 7.96l-1.37-1.37c-.4-.4-.92-.59-1.43-.59-.52 0-1.04.2-1.43.59L10.3 9.45l-7.72 7.72c-.78.78-.78 2.05 0 2.83L4 21.41c.39.39.9.59 1.41.59.51 0 1.02-.2 1.41-.59l7.78-7.78 2.81-2.81c.8-.78.8-2.07 0-2.86zM5.41 20L4 18.59l7.72-7.72 1.47 1.35L5.41 20z\"/>\n  </svg>\n      </button>\n      \n  <style>\n    .colab-df-container {\n      display:flex;\n      flex-wrap:wrap;\n      gap: 12px;\n    }\n\n    .colab-df-convert {\n      background-color: #E8F0FE;\n      border: none;\n      border-radius: 50%;\n      cursor: pointer;\n      display: none;\n      fill: #1967D2;\n      height: 32px;\n      padding: 0 0 0 0;\n      width: 32px;\n    }\n\n    .colab-df-convert:hover {\n      background-color: #E2EBFA;\n      box-shadow: 0px 1px 2px rgba(60, 64, 67, 0.3), 0px 1px 3px 1px rgba(60, 64, 67, 0.15);\n      fill: #174EA6;\n    }\n\n    [theme=dark] .colab-df-convert {\n      background-color: #3B4455;\n      fill: #D2E3FC;\n    }\n\n    [theme=dark] .colab-df-convert:hover {\n      background-color: #434B5C;\n      box-shadow: 0px 1px 3px 1px rgba(0, 0, 0, 0.15);\n      filter: drop-shadow(0px 1px 2px rgba(0, 0, 0, 0.3));\n      fill: #FFFFFF;\n    }\n  </style>\n\n      <script>\n        const buttonEl =\n          document.querySelector('#df-28e898e6-636f-41fe-bb47-fcb026bead97 button.colab-df-convert');\n        buttonEl.style.display =\n          google.colab.kernel.accessAllowed ? 'block' : 'none';\n\n        async function convertToInteractive(key) {\n          const element = document.querySelector('#df-28e898e6-636f-41fe-bb47-fcb026bead97');\n          const dataTable =\n            await google.colab.kernel.invokeFunction('convertToInteractive',\n                                                     [key], {});\n          if (!dataTable) return;\n\n          const docLinkHtml = 'Like what you see? Visit the ' +\n            '<a target=\"_blank\" href=https://colab.research.google.com/notebooks/data_table.ipynb>data table notebook</a>'\n            + ' to learn more about interactive tables.';\n          element.innerHTML = '';\n          dataTable['output_type'] = 'display_data';\n          await google.colab.output.renderOutput(dataTable, element);\n          const docLink = document.createElement('div');\n          docLink.innerHTML = docLinkHtml;\n          element.appendChild(docLink);\n        }\n      </script>\n    </div>\n  </div>\n  "
          },
          "metadata": {}
        }
      ],
      "execution_count": null,
      "metadata": {
        "colab": {
          "base_uri": "https://localhost:8080/"
        },
        "id": "6BZdhe4jgQ5i",
        "outputId": "a4b514ec-ee45-4c5c-cbab-282192e08758"
      }
    },
    {
      "cell_type": "markdown",
      "source": [
        "Осталось 12 значений, добьем вручную"
      ],
      "metadata": {
        "id": "6D0uGRCCO9Lq"
      }
    },
    {
      "cell_type": "code",
      "source": [
        "def get_imd_band_mode(series,id):\n",
        "  list_with_values = student_info.iloc[id].values\n",
        "  return student_info[(student_info.code_module == list_with_values[0])\n",
        "                          & (student_info.code_presentation == list_with_values[1])\n",
        "                          & (student_info.gender == list_with_values[3])\n",
        "                          & (student_info.region == list_with_values[4])\n",
        "                          & (student_info.highest_education == list_with_values[5])].imd_band.mode()"
      ],
      "outputs": [],
      "execution_count": null,
      "metadata": {
        "id": "XeksKJMbN-y_"
      }
    },
    {
      "cell_type": "markdown",
      "source": [
        "Добить вручную"
      ],
      "metadata": {
        "id": "fU13HKxfjd99"
      }
    },
    {
      "cell_type": "code",
      "source": [
        "list_of_lasts_nans = student_info[student_info.imd_band.isnull()].index\n",
        "list_of_lasts_nans"
      ],
      "outputs": [
        {
          "output_type": "execute_result",
          "execution_count": 45,
          "data": {
            "text/plain": "Int64Index([ 9527, 10508, 10691, 10727, 11719, 12638, 12932, 13686, 16356,\n            23303, 27992, 29907],\n           dtype='int64')"
          },
          "metadata": {}
        }
      ],
      "execution_count": null,
      "metadata": {
        "colab": {
          "base_uri": "https://localhost:8080/"
        },
        "id": "Srw-HnFgPWQb",
        "outputId": "11fe0e56-8d98-4d23-9528-2c0e52a0d577"
      }
    },
    {
      "cell_type": "code",
      "source": [
        "get_imd_band_mode(student_info,9527)[0]"
      ],
      "outputs": [
        {
          "output_type": "execute_result",
          "execution_count": 46,
          "data": {
            "text/plain": "'20-30%'",
            "application/vnd.google.colaboratory.intrinsic+json": {
              "type": "string"
            }
          },
          "metadata": {}
        }
      ],
      "execution_count": null,
      "metadata": {
        "colab": {
          "base_uri": "https://localhost:8080/"
        },
        "id": "Ma4BYqFcOTo4",
        "outputId": "2774023c-a86d-475b-f673-721273a62c03"
      }
    },
    {
      "cell_type": "code",
      "source": [
        "for id in list_of_lasts_nans:\n",
        "  try:\n",
        "     student_info.iat[id,6] = get_imd_band_mode(student_info,id)[0]\n",
        "  except IndexError:\n",
        "    continue"
      ],
      "outputs": [],
      "execution_count": null,
      "metadata": {
        "id": "PvPO8nlKOIsP"
      }
    },
    {
      "cell_type": "code",
      "source": [
        "student_info[student_info.imd_band.isnull()]"
      ],
      "outputs": [
        {
          "output_type": "execute_result",
          "execution_count": 48,
          "data": {
            "text/plain": "Empty DataFrame\nColumns: [code_module, code_presentation, id_student, gender, region, highest_education, imd_band, age_band, num_of_prev_attempts, studied_credits, disability]\nIndex: []",
            "text/html": "\n  <div id=\"df-5dc6335d-7d91-487c-ad35-3d4fb1042ad8\">\n    <div class=\"colab-df-container\">\n      <div>\n<style scoped>\n    .dataframe tbody tr th:only-of-type {\n        vertical-align: middle;\n    }\n\n    .dataframe tbody tr th {\n        vertical-align: top;\n    }\n\n    .dataframe thead th {\n        text-align: right;\n    }\n</style>\n<table border=\"1\" class=\"dataframe\">\n  <thead>\n    <tr style=\"text-align: right;\">\n      <th></th>\n      <th>code_module</th>\n      <th>code_presentation</th>\n      <th>id_student</th>\n      <th>gender</th>\n      <th>region</th>\n      <th>highest_education</th>\n      <th>imd_band</th>\n      <th>age_band</th>\n      <th>num_of_prev_attempts</th>\n      <th>studied_credits</th>\n      <th>disability</th>\n    </tr>\n  </thead>\n  <tbody>\n  </tbody>\n</table>\n</div>\n      <button class=\"colab-df-convert\" onclick=\"convertToInteractive('df-5dc6335d-7d91-487c-ad35-3d4fb1042ad8')\"\n              title=\"Convert this dataframe to an interactive table.\"\n              style=\"display:none;\">\n        \n  <svg xmlns=\"http://www.w3.org/2000/svg\" height=\"24px\"viewBox=\"0 0 24 24\"\n       width=\"24px\">\n    <path d=\"M0 0h24v24H0V0z\" fill=\"none\"/>\n    <path d=\"M18.56 5.44l.94 2.06.94-2.06 2.06-.94-2.06-.94-.94-2.06-.94 2.06-2.06.94zm-11 1L8.5 8.5l.94-2.06 2.06-.94-2.06-.94L8.5 2.5l-.94 2.06-2.06.94zm10 10l.94 2.06.94-2.06 2.06-.94-2.06-.94-.94-2.06-.94 2.06-2.06.94z\"/><path d=\"M17.41 7.96l-1.37-1.37c-.4-.4-.92-.59-1.43-.59-.52 0-1.04.2-1.43.59L10.3 9.45l-7.72 7.72c-.78.78-.78 2.05 0 2.83L4 21.41c.39.39.9.59 1.41.59.51 0 1.02-.2 1.41-.59l7.78-7.78 2.81-2.81c.8-.78.8-2.07 0-2.86zM5.41 20L4 18.59l7.72-7.72 1.47 1.35L5.41 20z\"/>\n  </svg>\n      </button>\n      \n  <style>\n    .colab-df-container {\n      display:flex;\n      flex-wrap:wrap;\n      gap: 12px;\n    }\n\n    .colab-df-convert {\n      background-color: #E8F0FE;\n      border: none;\n      border-radius: 50%;\n      cursor: pointer;\n      display: none;\n      fill: #1967D2;\n      height: 32px;\n      padding: 0 0 0 0;\n      width: 32px;\n    }\n\n    .colab-df-convert:hover {\n      background-color: #E2EBFA;\n      box-shadow: 0px 1px 2px rgba(60, 64, 67, 0.3), 0px 1px 3px 1px rgba(60, 64, 67, 0.15);\n      fill: #174EA6;\n    }\n\n    [theme=dark] .colab-df-convert {\n      background-color: #3B4455;\n      fill: #D2E3FC;\n    }\n\n    [theme=dark] .colab-df-convert:hover {\n      background-color: #434B5C;\n      box-shadow: 0px 1px 3px 1px rgba(0, 0, 0, 0.15);\n      filter: drop-shadow(0px 1px 2px rgba(0, 0, 0, 0.3));\n      fill: #FFFFFF;\n    }\n  </style>\n\n      <script>\n        const buttonEl =\n          document.querySelector('#df-5dc6335d-7d91-487c-ad35-3d4fb1042ad8 button.colab-df-convert');\n        buttonEl.style.display =\n          google.colab.kernel.accessAllowed ? 'block' : 'none';\n\n        async function convertToInteractive(key) {\n          const element = document.querySelector('#df-5dc6335d-7d91-487c-ad35-3d4fb1042ad8');\n          const dataTable =\n            await google.colab.kernel.invokeFunction('convertToInteractive',\n                                                     [key], {});\n          if (!dataTable) return;\n\n          const docLinkHtml = 'Like what you see? Visit the ' +\n            '<a target=\"_blank\" href=https://colab.research.google.com/notebooks/data_table.ipynb>data table notebook</a>'\n            + ' to learn more about interactive tables.';\n          element.innerHTML = '';\n          dataTable['output_type'] = 'display_data';\n          await google.colab.output.renderOutput(dataTable, element);\n          const docLink = document.createElement('div');\n          docLink.innerHTML = docLinkHtml;\n          element.appendChild(docLink);\n        }\n      </script>\n    </div>\n  </div>\n  "
          },
          "metadata": {}
        }
      ],
      "execution_count": null,
      "metadata": {
        "colab": {
          "base_uri": "https://localhost:8080/"
        },
        "id": "evYjxIPETvX9",
        "outputId": "f399e7f3-69c9-412f-f883-f573d30daf61"
      }
    },
    {
      "cell_type": "markdown",
      "source": [
        "Наны в student_info побеждены"
      ],
      "metadata": {
        "id": "gOoVcMreT4BN"
      }
    },
    {
      "cell_type": "markdown",
      "source": [
        "## student_registration"
      ],
      "metadata": {
        "id": "w94u03U5XkUR"
      }
    },
    {
      "cell_type": "code",
      "source": [
        "student_registration.info()"
      ],
      "outputs": [
        {
          "output_type": "stream",
          "name": "stdout",
          "text": "<class 'pandas.core.frame.DataFrame'>\nRangeIndex: 32593 entries, 0 to 32592\nData columns (total 4 columns):\n #   Column             Non-Null Count  Dtype  \n---  ------             --------------  -----  \n 0   code_module        32593 non-null  object \n 1   code_presentation  32593 non-null  object \n 2   id_student         32593 non-null  int64  \n 3   date_registration  32548 non-null  float64\ndtypes: float64(1), int64(1), object(2)\nmemory usage: 1018.7+ KB\n"
        }
      ],
      "execution_count": null,
      "metadata": {
        "colab": {
          "base_uri": "https://localhost:8080/"
        },
        "id": "UogEhCTHXl2V",
        "outputId": "f49e68d3-d752-4da0-9fcb-39a103f4e931"
      }
    },
    {
      "cell_type": "markdown",
      "source": [
        "Присутствуют пропуски, посмотрим, можно ли их дропнуть(есть ли наны среди тех, что представлены в тестовой выборке)"
      ],
      "metadata": {
        "id": "HagtIO4LbSTh"
      }
    },
    {
      "cell_type": "code",
      "source": [
        "index_is_null = student_registration[student_registration.date_registration.isnull()].index # вычисляем индексы строк, где date_registration == null\n",
        "index_is_null"
      ],
      "outputs": [
        {
          "output_type": "execute_result",
          "execution_count": 50,
          "data": {
            "text/plain": "Int64Index([ 2344,  2538,  2759,  5356,  5490,  5573,  6295,  6305,  8307,\n             8975,  9523,  9811,  9853, 10388, 11249, 12545, 12893, 13135,\n            13503, 14392, 14393, 14556, 14876, 15214, 15968, 16092, 16862,\n            16911, 17559, 18249, 18433, 19362, 19773, 20413, 22335, 23796,\n            23818, 25790, 26333, 26576, 26803, 26904, 27550, 29974, 30058],\n           dtype='int64')"
          },
          "metadata": {}
        }
      ],
      "execution_count": null,
      "metadata": {
        "colab": {
          "base_uri": "https://localhost:8080/"
        },
        "id": "X8ZjIC1rXswt",
        "outputId": "3430cc95-fe54-412c-8c7d-6d76bc296ba3"
      }
    },
    {
      "cell_type": "code",
      "source": [
        "student_registration.iloc[index_is_null[0]]"
      ],
      "outputs": [
        {
          "output_type": "execute_result",
          "execution_count": 51,
          "data": {
            "text/plain": "code_module             BBB\ncode_presentation     2013B\nid_student           630346\ndate_registration       NaN\nName: 2344, dtype: object"
          },
          "metadata": {}
        }
      ],
      "execution_count": null,
      "metadata": {
        "id": "Piu_EOfUX0xp",
        "colab": {
          "base_uri": "https://localhost:8080/"
        },
        "outputId": "c2a87a96-b124-43e1-ccb5-810816c19f9e"
      }
    },
    {
      "cell_type": "code",
      "source": [
        "def get_student_registration_neighbor_mean(i):\n",
        "  return np.ceil( #округляем\n",
        "      student_registration #Обращаемся к таблице student_registration\n",
        "       [(student_registration.code_module == student_registration.iloc[index_is_null[i]][0]) # вычисляем строки где code_module равен значению, которое есть в передаваемом аргументе series\n",
        "       & (student_registration.code_presentation == student_registration.iloc[index_is_null[i]][1])] # вычисляем строки где code_presentation равен значению, которое есть в передаваемом аргументе series\n",
        "       .date_registration # берем date_registration\n",
        "       .mean()) #берем среднее"
      ],
      "outputs": [],
      "execution_count": null,
      "metadata": {
        "id": "mWuRrK14yUT3"
      }
    },
    {
      "cell_type": "code",
      "source": [
        "get_student_registration_neighbor_mean(2)"
      ],
      "outputs": [
        {
          "output_type": "execute_result",
          "execution_count": 53,
          "data": {
            "text/plain": "-69.0"
          },
          "metadata": {}
        }
      ],
      "execution_count": null,
      "metadata": {
        "colab": {
          "base_uri": "https://localhost:8080/"
        },
        "id": "3itKBU2X2AZi",
        "outputId": "0f4855e3-6374-4953-bcee-6adfe0b07275"
      }
    },
    {
      "cell_type": "code",
      "source": [
        "for i in range(len(index_is_null)):\n",
        "  student_registration.iat[index_is_null[i], 3] = get_student_registration_neighbor_mean(i)"
      ],
      "outputs": [],
      "execution_count": null,
      "metadata": {
        "id": "wci1FAHH1hsq"
      }
    },
    {
      "cell_type": "code",
      "source": [
        "student_registration.info()"
      ],
      "outputs": [
        {
          "output_type": "stream",
          "name": "stdout",
          "text": "<class 'pandas.core.frame.DataFrame'>\nRangeIndex: 32593 entries, 0 to 32592\nData columns (total 4 columns):\n #   Column             Non-Null Count  Dtype  \n---  ------             --------------  -----  \n 0   code_module        32593 non-null  object \n 1   code_presentation  32593 non-null  object \n 2   id_student         32593 non-null  int64  \n 3   date_registration  32593 non-null  float64\ndtypes: float64(1), int64(1), object(2)\nmemory usage: 1018.7+ KB\n"
        }
      ],
      "execution_count": null,
      "metadata": {
        "colab": {
          "base_uri": "https://localhost:8080/"
        },
        "id": "ICnLTtDe2xNE",
        "outputId": "12a5326d-3af8-4470-c396-c4a3a409d8ca"
      }
    },
    {
      "cell_type": "markdown",
      "source": [
        "Наны в student_registration побеждены"
      ],
      "metadata": {
        "id": "cMu-TBJs3NKW"
      }
    },
    {
      "cell_type": "markdown",
      "source": [
        "# Собираем датафрейм, который будем подавать на обучение"
      ],
      "metadata": {
        "id": "Bdoto-D42ntI"
      }
    },
    {
      "cell_type": "code",
      "source": [
        "train = train_who.merge(student_info, on=['id_student','code_module', 'code_presentation'], how = 'inner')\n",
        "test = test_who.merge(student_info, on=['id_student','code_module', 'code_presentation'], how = 'inner')\n",
        "\n",
        "train = train.merge(courses, on=['code_module', 'code_presentation'], how = 'left')\n",
        "test = test.merge(courses, on=['code_module', 'code_presentation'], how = 'left')\n",
        "\n",
        "train = train.merge(student_registration, on=['code_module', 'code_presentation', 'id_student'], how = 'inner')\n",
        "test = test.merge(student_registration, on=['code_module', 'code_presentation', 'id_student'], how = 'inner')"
      ],
      "outputs": [],
      "execution_count": null,
      "metadata": {
        "id": "uPu4YLIODZkk"
      }
    },
    {
      "cell_type": "code",
      "source": [
        "test"
      ],
      "outputs": [
        {
          "output_type": "execute_result",
          "execution_count": 290,
          "data": {
            "text/plain": "         ID  id_student code_module code_presentation gender  \\\n0     26074     2588655         DDD             2014J      M   \n1     26075      543628         CCC             2014B      M   \n2     26076      387276         BBB             2013B      F   \n3     26077      692219         CCC             2014J      M   \n4     26078      516212         BBB             2013J      F   \n...     ...         ...         ...               ...    ...   \n6514  32588      230510         DDD             2013J      M   \n6515  32589      384026         DDD             2013B      F   \n6516  32590     2367155         AAA             2013J      F   \n6517  32591      501444         FFF             2014J      M   \n6518  32592      653452         DDD             2014J      F   \n\n                    region      highest_education imd_band age_band  \\\n0                 Scotland     Lower Than A Level   50-60%     0-35   \n1     North Western Region       HE Qualification    0-10%    35-55   \n2     North Western Region     Lower Than A Level   50-60%    35-55   \n3             South Region  A Level or Equivalent   20-30%     0-35   \n4     East Midlands Region  A Level or Equivalent   20-30%     0-35   \n...                    ...                    ...      ...      ...   \n6514          South Region     Lower Than A Level    10-20     0-35   \n6515      Yorkshire Region  A Level or Equivalent   30-40%     0-35   \n6516   East Anglian Region  A Level or Equivalent   80-90%     0-35   \n6517          South Region     Lower Than A Level    10-20     0-35   \n6518     South West Region  A Level or Equivalent   30-40%     0-35   \n\n      num_of_prev_attempts  studied_credits disability  \\\n0                        2               60          N   \n1                        0               90          N   \n2                        1              180          N   \n3                        0               90          N   \n4                        0               60          N   \n...                    ...              ...        ...   \n6514                     0               60          Y   \n6515                     1              120          N   \n6516                     0              120          N   \n6517                     0               60          N   \n6518                     0              120          N   \n\n      module_presentation_length  date_registration  \n0                            262             -92.00  \n1                            241            -109.00  \n2                            240             -88.00  \n3                            269             -34.00  \n4                            268            -134.00  \n...                          ...                ...  \n6514                         261             -54.00  \n6515                         240             -34.00  \n6516                         268             -22.00  \n6517                         269             -59.00  \n6518                         262            -143.00  \n\n[6519 rows x 14 columns]",
            "text/html": "\n  <div id=\"df-16f5cc38-7888-4768-9825-66f111ae006c\">\n    <div class=\"colab-df-container\">\n      <div>\n<style scoped>\n    .dataframe tbody tr th:only-of-type {\n        vertical-align: middle;\n    }\n\n    .dataframe tbody tr th {\n        vertical-align: top;\n    }\n\n    .dataframe thead th {\n        text-align: right;\n    }\n</style>\n<table border=\"1\" class=\"dataframe\">\n  <thead>\n    <tr style=\"text-align: right;\">\n      <th></th>\n      <th>ID</th>\n      <th>id_student</th>\n      <th>code_module</th>\n      <th>code_presentation</th>\n      <th>gender</th>\n      <th>region</th>\n      <th>highest_education</th>\n      <th>imd_band</th>\n      <th>age_band</th>\n      <th>num_of_prev_attempts</th>\n      <th>studied_credits</th>\n      <th>disability</th>\n      <th>module_presentation_length</th>\n      <th>date_registration</th>\n    </tr>\n  </thead>\n  <tbody>\n    <tr>\n      <th>0</th>\n      <td>26074</td>\n      <td>2588655</td>\n      <td>DDD</td>\n      <td>2014J</td>\n      <td>M</td>\n      <td>Scotland</td>\n      <td>Lower Than A Level</td>\n      <td>50-60%</td>\n      <td>0-35</td>\n      <td>2</td>\n      <td>60</td>\n      <td>N</td>\n      <td>262</td>\n      <td>-92.00</td>\n    </tr>\n    <tr>\n      <th>1</th>\n      <td>26075</td>\n      <td>543628</td>\n      <td>CCC</td>\n      <td>2014B</td>\n      <td>M</td>\n      <td>North Western Region</td>\n      <td>HE Qualification</td>\n      <td>0-10%</td>\n      <td>35-55</td>\n      <td>0</td>\n      <td>90</td>\n      <td>N</td>\n      <td>241</td>\n      <td>-109.00</td>\n    </tr>\n    <tr>\n      <th>2</th>\n      <td>26076</td>\n      <td>387276</td>\n      <td>BBB</td>\n      <td>2013B</td>\n      <td>F</td>\n      <td>North Western Region</td>\n      <td>Lower Than A Level</td>\n      <td>50-60%</td>\n      <td>35-55</td>\n      <td>1</td>\n      <td>180</td>\n      <td>N</td>\n      <td>240</td>\n      <td>-88.00</td>\n    </tr>\n    <tr>\n      <th>3</th>\n      <td>26077</td>\n      <td>692219</td>\n      <td>CCC</td>\n      <td>2014J</td>\n      <td>M</td>\n      <td>South Region</td>\n      <td>A Level or Equivalent</td>\n      <td>20-30%</td>\n      <td>0-35</td>\n      <td>0</td>\n      <td>90</td>\n      <td>N</td>\n      <td>269</td>\n      <td>-34.00</td>\n    </tr>\n    <tr>\n      <th>4</th>\n      <td>26078</td>\n      <td>516212</td>\n      <td>BBB</td>\n      <td>2013J</td>\n      <td>F</td>\n      <td>East Midlands Region</td>\n      <td>A Level or Equivalent</td>\n      <td>20-30%</td>\n      <td>0-35</td>\n      <td>0</td>\n      <td>60</td>\n      <td>N</td>\n      <td>268</td>\n      <td>-134.00</td>\n    </tr>\n    <tr>\n      <th>...</th>\n      <td>...</td>\n      <td>...</td>\n      <td>...</td>\n      <td>...</td>\n      <td>...</td>\n      <td>...</td>\n      <td>...</td>\n      <td>...</td>\n      <td>...</td>\n      <td>...</td>\n      <td>...</td>\n      <td>...</td>\n      <td>...</td>\n      <td>...</td>\n    </tr>\n    <tr>\n      <th>6514</th>\n      <td>32588</td>\n      <td>230510</td>\n      <td>DDD</td>\n      <td>2013J</td>\n      <td>M</td>\n      <td>South Region</td>\n      <td>Lower Than A Level</td>\n      <td>10-20</td>\n      <td>0-35</td>\n      <td>0</td>\n      <td>60</td>\n      <td>Y</td>\n      <td>261</td>\n      <td>-54.00</td>\n    </tr>\n    <tr>\n      <th>6515</th>\n      <td>32589</td>\n      <td>384026</td>\n      <td>DDD</td>\n      <td>2013B</td>\n      <td>F</td>\n      <td>Yorkshire Region</td>\n      <td>A Level or Equivalent</td>\n      <td>30-40%</td>\n      <td>0-35</td>\n      <td>1</td>\n      <td>120</td>\n      <td>N</td>\n      <td>240</td>\n      <td>-34.00</td>\n    </tr>\n    <tr>\n      <th>6516</th>\n      <td>32590</td>\n      <td>2367155</td>\n      <td>AAA</td>\n      <td>2013J</td>\n      <td>F</td>\n      <td>East Anglian Region</td>\n      <td>A Level or Equivalent</td>\n      <td>80-90%</td>\n      <td>0-35</td>\n      <td>0</td>\n      <td>120</td>\n      <td>N</td>\n      <td>268</td>\n      <td>-22.00</td>\n    </tr>\n    <tr>\n      <th>6517</th>\n      <td>32591</td>\n      <td>501444</td>\n      <td>FFF</td>\n      <td>2014J</td>\n      <td>M</td>\n      <td>South Region</td>\n      <td>Lower Than A Level</td>\n      <td>10-20</td>\n      <td>0-35</td>\n      <td>0</td>\n      <td>60</td>\n      <td>N</td>\n      <td>269</td>\n      <td>-59.00</td>\n    </tr>\n    <tr>\n      <th>6518</th>\n      <td>32592</td>\n      <td>653452</td>\n      <td>DDD</td>\n      <td>2014J</td>\n      <td>F</td>\n      <td>South West Region</td>\n      <td>A Level or Equivalent</td>\n      <td>30-40%</td>\n      <td>0-35</td>\n      <td>0</td>\n      <td>120</td>\n      <td>N</td>\n      <td>262</td>\n      <td>-143.00</td>\n    </tr>\n  </tbody>\n</table>\n<p>6519 rows × 14 columns</p>\n</div>\n      <button class=\"colab-df-convert\" onclick=\"convertToInteractive('df-16f5cc38-7888-4768-9825-66f111ae006c')\"\n              title=\"Convert this dataframe to an interactive table.\"\n              style=\"display:none;\">\n        \n  <svg xmlns=\"http://www.w3.org/2000/svg\" height=\"24px\"viewBox=\"0 0 24 24\"\n       width=\"24px\">\n    <path d=\"M0 0h24v24H0V0z\" fill=\"none\"/>\n    <path d=\"M18.56 5.44l.94 2.06.94-2.06 2.06-.94-2.06-.94-.94-2.06-.94 2.06-2.06.94zm-11 1L8.5 8.5l.94-2.06 2.06-.94-2.06-.94L8.5 2.5l-.94 2.06-2.06.94zm10 10l.94 2.06.94-2.06 2.06-.94-2.06-.94-.94-2.06-.94 2.06-2.06.94z\"/><path d=\"M17.41 7.96l-1.37-1.37c-.4-.4-.92-.59-1.43-.59-.52 0-1.04.2-1.43.59L10.3 9.45l-7.72 7.72c-.78.78-.78 2.05 0 2.83L4 21.41c.39.39.9.59 1.41.59.51 0 1.02-.2 1.41-.59l7.78-7.78 2.81-2.81c.8-.78.8-2.07 0-2.86zM5.41 20L4 18.59l7.72-7.72 1.47 1.35L5.41 20z\"/>\n  </svg>\n      </button>\n      \n  <style>\n    .colab-df-container {\n      display:flex;\n      flex-wrap:wrap;\n      gap: 12px;\n    }\n\n    .colab-df-convert {\n      background-color: #E8F0FE;\n      border: none;\n      border-radius: 50%;\n      cursor: pointer;\n      display: none;\n      fill: #1967D2;\n      height: 32px;\n      padding: 0 0 0 0;\n      width: 32px;\n    }\n\n    .colab-df-convert:hover {\n      background-color: #E2EBFA;\n      box-shadow: 0px 1px 2px rgba(60, 64, 67, 0.3), 0px 1px 3px 1px rgba(60, 64, 67, 0.15);\n      fill: #174EA6;\n    }\n\n    [theme=dark] .colab-df-convert {\n      background-color: #3B4455;\n      fill: #D2E3FC;\n    }\n\n    [theme=dark] .colab-df-convert:hover {\n      background-color: #434B5C;\n      box-shadow: 0px 1px 3px 1px rgba(0, 0, 0, 0.15);\n      filter: drop-shadow(0px 1px 2px rgba(0, 0, 0, 0.3));\n      fill: #FFFFFF;\n    }\n  </style>\n\n      <script>\n        const buttonEl =\n          document.querySelector('#df-16f5cc38-7888-4768-9825-66f111ae006c button.colab-df-convert');\n        buttonEl.style.display =\n          google.colab.kernel.accessAllowed ? 'block' : 'none';\n\n        async function convertToInteractive(key) {\n          const element = document.querySelector('#df-16f5cc38-7888-4768-9825-66f111ae006c');\n          const dataTable =\n            await google.colab.kernel.invokeFunction('convertToInteractive',\n                                                     [key], {});\n          if (!dataTable) return;\n\n          const docLinkHtml = 'Like what you see? Visit the ' +\n            '<a target=\"_blank\" href=https://colab.research.google.com/notebooks/data_table.ipynb>data table notebook</a>'\n            + ' to learn more about interactive tables.';\n          element.innerHTML = '';\n          dataTable['output_type'] = 'display_data';\n          await google.colab.output.renderOutput(dataTable, element);\n          const docLink = document.createElement('div');\n          docLink.innerHTML = docLinkHtml;\n          element.appendChild(docLink);\n        }\n      </script>\n    </div>\n  </div>\n  "
          },
          "metadata": {}
        }
      ],
      "execution_count": null,
      "metadata": {
        "colab": {
          "base_uri": "https://localhost:8080/",
          "height": 424
        },
        "id": "U_Cb9zi9PSv5",
        "outputId": "409965dc-b965-4108-be98-49f12d94698b"
      }
    },
    {
      "cell_type": "markdown",
      "source": [
        "Для более точно заполнения пропусков, склеим тестовую и тренировочную выборку в один датафрейм, а разделим уже перед подачей в модель"
      ],
      "metadata": {
        "id": "Y0EQaezXDHFL"
      }
    },
    {
      "cell_type": "code",
      "source": [
        "data = pd.concat([train,test],ignore_index = True)\n",
        "data"
      ],
      "outputs": [
        {
          "output_type": "execute_result",
          "execution_count": 291,
          "data": {
            "text/plain": "          ID  id_student code_module code_presentation gender  \\\n0          0      464685         DDD             2014B      F   \n1          1      606593         DDD             2013J      M   \n2          2     1674799         CCC             2014J      M   \n3          3      195246         FFF             2014J      M   \n4          4      582080         FFF             2013J      M   \n...      ...         ...         ...               ...    ...   \n32588  32588      230510         DDD             2013J      M   \n32589  32589      384026         DDD             2013B      F   \n32590  32590     2367155         AAA             2013J      F   \n32591  32591      501444         FFF             2014J      M   \n32592  32592      653452         DDD             2014J      F   \n\n                     region      highest_education imd_band age_band  \\\n0       East Anglian Region  A Level or Equivalent   50-60%     0-35   \n1                  Scotland  A Level or Equivalent   20-30%     0-35   \n2              South Region       HE Qualification   70-80%     55<=   \n3      West Midlands Region     Lower Than A Level    10-20     0-35   \n4         South East Region     Lower Than A Level    10-20    35-55   \n...                     ...                    ...      ...      ...   \n32588          South Region     Lower Than A Level    10-20     0-35   \n32589      Yorkshire Region  A Level or Equivalent   30-40%     0-35   \n32590   East Anglian Region  A Level or Equivalent   80-90%     0-35   \n32591          South Region     Lower Than A Level    10-20     0-35   \n32592     South West Region  A Level or Equivalent   30-40%     0-35   \n\n       num_of_prev_attempts  studied_credits disability  \\\n0                         1               70          N   \n1                         0              120          N   \n2                         0               60          N   \n3                         0               60          N   \n4                         0               60          N   \n...                     ...              ...        ...   \n32588                     0               60          Y   \n32589                     1              120          N   \n32590                     0              120          N   \n32591                     0               60          N   \n32592                     0              120          N   \n\n       module_presentation_length  date_registration  \n0                             241             -36.00  \n1                             261             -32.00  \n2                             269             -21.00  \n3                             269            -124.00  \n4                             268            -114.00  \n...                           ...                ...  \n32588                         261             -54.00  \n32589                         240             -34.00  \n32590                         268             -22.00  \n32591                         269             -59.00  \n32592                         262            -143.00  \n\n[32593 rows x 14 columns]",
            "text/html": "\n  <div id=\"df-410b39b5-c2f4-4bf1-971a-71551a20ea8c\">\n    <div class=\"colab-df-container\">\n      <div>\n<style scoped>\n    .dataframe tbody tr th:only-of-type {\n        vertical-align: middle;\n    }\n\n    .dataframe tbody tr th {\n        vertical-align: top;\n    }\n\n    .dataframe thead th {\n        text-align: right;\n    }\n</style>\n<table border=\"1\" class=\"dataframe\">\n  <thead>\n    <tr style=\"text-align: right;\">\n      <th></th>\n      <th>ID</th>\n      <th>id_student</th>\n      <th>code_module</th>\n      <th>code_presentation</th>\n      <th>gender</th>\n      <th>region</th>\n      <th>highest_education</th>\n      <th>imd_band</th>\n      <th>age_band</th>\n      <th>num_of_prev_attempts</th>\n      <th>studied_credits</th>\n      <th>disability</th>\n      <th>module_presentation_length</th>\n      <th>date_registration</th>\n    </tr>\n  </thead>\n  <tbody>\n    <tr>\n      <th>0</th>\n      <td>0</td>\n      <td>464685</td>\n      <td>DDD</td>\n      <td>2014B</td>\n      <td>F</td>\n      <td>East Anglian Region</td>\n      <td>A Level or Equivalent</td>\n      <td>50-60%</td>\n      <td>0-35</td>\n      <td>1</td>\n      <td>70</td>\n      <td>N</td>\n      <td>241</td>\n      <td>-36.00</td>\n    </tr>\n    <tr>\n      <th>1</th>\n      <td>1</td>\n      <td>606593</td>\n      <td>DDD</td>\n      <td>2013J</td>\n      <td>M</td>\n      <td>Scotland</td>\n      <td>A Level or Equivalent</td>\n      <td>20-30%</td>\n      <td>0-35</td>\n      <td>0</td>\n      <td>120</td>\n      <td>N</td>\n      <td>261</td>\n      <td>-32.00</td>\n    </tr>\n    <tr>\n      <th>2</th>\n      <td>2</td>\n      <td>1674799</td>\n      <td>CCC</td>\n      <td>2014J</td>\n      <td>M</td>\n      <td>South Region</td>\n      <td>HE Qualification</td>\n      <td>70-80%</td>\n      <td>55&lt;=</td>\n      <td>0</td>\n      <td>60</td>\n      <td>N</td>\n      <td>269</td>\n      <td>-21.00</td>\n    </tr>\n    <tr>\n      <th>3</th>\n      <td>3</td>\n      <td>195246</td>\n      <td>FFF</td>\n      <td>2014J</td>\n      <td>M</td>\n      <td>West Midlands Region</td>\n      <td>Lower Than A Level</td>\n      <td>10-20</td>\n      <td>0-35</td>\n      <td>0</td>\n      <td>60</td>\n      <td>N</td>\n      <td>269</td>\n      <td>-124.00</td>\n    </tr>\n    <tr>\n      <th>4</th>\n      <td>4</td>\n      <td>582080</td>\n      <td>FFF</td>\n      <td>2013J</td>\n      <td>M</td>\n      <td>South East Region</td>\n      <td>Lower Than A Level</td>\n      <td>10-20</td>\n      <td>35-55</td>\n      <td>0</td>\n      <td>60</td>\n      <td>N</td>\n      <td>268</td>\n      <td>-114.00</td>\n    </tr>\n    <tr>\n      <th>...</th>\n      <td>...</td>\n      <td>...</td>\n      <td>...</td>\n      <td>...</td>\n      <td>...</td>\n      <td>...</td>\n      <td>...</td>\n      <td>...</td>\n      <td>...</td>\n      <td>...</td>\n      <td>...</td>\n      <td>...</td>\n      <td>...</td>\n      <td>...</td>\n    </tr>\n    <tr>\n      <th>32588</th>\n      <td>32588</td>\n      <td>230510</td>\n      <td>DDD</td>\n      <td>2013J</td>\n      <td>M</td>\n      <td>South Region</td>\n      <td>Lower Than A Level</td>\n      <td>10-20</td>\n      <td>0-35</td>\n      <td>0</td>\n      <td>60</td>\n      <td>Y</td>\n      <td>261</td>\n      <td>-54.00</td>\n    </tr>\n    <tr>\n      <th>32589</th>\n      <td>32589</td>\n      <td>384026</td>\n      <td>DDD</td>\n      <td>2013B</td>\n      <td>F</td>\n      <td>Yorkshire Region</td>\n      <td>A Level or Equivalent</td>\n      <td>30-40%</td>\n      <td>0-35</td>\n      <td>1</td>\n      <td>120</td>\n      <td>N</td>\n      <td>240</td>\n      <td>-34.00</td>\n    </tr>\n    <tr>\n      <th>32590</th>\n      <td>32590</td>\n      <td>2367155</td>\n      <td>AAA</td>\n      <td>2013J</td>\n      <td>F</td>\n      <td>East Anglian Region</td>\n      <td>A Level or Equivalent</td>\n      <td>80-90%</td>\n      <td>0-35</td>\n      <td>0</td>\n      <td>120</td>\n      <td>N</td>\n      <td>268</td>\n      <td>-22.00</td>\n    </tr>\n    <tr>\n      <th>32591</th>\n      <td>32591</td>\n      <td>501444</td>\n      <td>FFF</td>\n      <td>2014J</td>\n      <td>M</td>\n      <td>South Region</td>\n      <td>Lower Than A Level</td>\n      <td>10-20</td>\n      <td>0-35</td>\n      <td>0</td>\n      <td>60</td>\n      <td>N</td>\n      <td>269</td>\n      <td>-59.00</td>\n    </tr>\n    <tr>\n      <th>32592</th>\n      <td>32592</td>\n      <td>653452</td>\n      <td>DDD</td>\n      <td>2014J</td>\n      <td>F</td>\n      <td>South West Region</td>\n      <td>A Level or Equivalent</td>\n      <td>30-40%</td>\n      <td>0-35</td>\n      <td>0</td>\n      <td>120</td>\n      <td>N</td>\n      <td>262</td>\n      <td>-143.00</td>\n    </tr>\n  </tbody>\n</table>\n<p>32593 rows × 14 columns</p>\n</div>\n      <button class=\"colab-df-convert\" onclick=\"convertToInteractive('df-410b39b5-c2f4-4bf1-971a-71551a20ea8c')\"\n              title=\"Convert this dataframe to an interactive table.\"\n              style=\"display:none;\">\n        \n  <svg xmlns=\"http://www.w3.org/2000/svg\" height=\"24px\"viewBox=\"0 0 24 24\"\n       width=\"24px\">\n    <path d=\"M0 0h24v24H0V0z\" fill=\"none\"/>\n    <path d=\"M18.56 5.44l.94 2.06.94-2.06 2.06-.94-2.06-.94-.94-2.06-.94 2.06-2.06.94zm-11 1L8.5 8.5l.94-2.06 2.06-.94-2.06-.94L8.5 2.5l-.94 2.06-2.06.94zm10 10l.94 2.06.94-2.06 2.06-.94-2.06-.94-.94-2.06-.94 2.06-2.06.94z\"/><path d=\"M17.41 7.96l-1.37-1.37c-.4-.4-.92-.59-1.43-.59-.52 0-1.04.2-1.43.59L10.3 9.45l-7.72 7.72c-.78.78-.78 2.05 0 2.83L4 21.41c.39.39.9.59 1.41.59.51 0 1.02-.2 1.41-.59l7.78-7.78 2.81-2.81c.8-.78.8-2.07 0-2.86zM5.41 20L4 18.59l7.72-7.72 1.47 1.35L5.41 20z\"/>\n  </svg>\n      </button>\n      \n  <style>\n    .colab-df-container {\n      display:flex;\n      flex-wrap:wrap;\n      gap: 12px;\n    }\n\n    .colab-df-convert {\n      background-color: #E8F0FE;\n      border: none;\n      border-radius: 50%;\n      cursor: pointer;\n      display: none;\n      fill: #1967D2;\n      height: 32px;\n      padding: 0 0 0 0;\n      width: 32px;\n    }\n\n    .colab-df-convert:hover {\n      background-color: #E2EBFA;\n      box-shadow: 0px 1px 2px rgba(60, 64, 67, 0.3), 0px 1px 3px 1px rgba(60, 64, 67, 0.15);\n      fill: #174EA6;\n    }\n\n    [theme=dark] .colab-df-convert {\n      background-color: #3B4455;\n      fill: #D2E3FC;\n    }\n\n    [theme=dark] .colab-df-convert:hover {\n      background-color: #434B5C;\n      box-shadow: 0px 1px 3px 1px rgba(0, 0, 0, 0.15);\n      filter: drop-shadow(0px 1px 2px rgba(0, 0, 0, 0.3));\n      fill: #FFFFFF;\n    }\n  </style>\n\n      <script>\n        const buttonEl =\n          document.querySelector('#df-410b39b5-c2f4-4bf1-971a-71551a20ea8c button.colab-df-convert');\n        buttonEl.style.display =\n          google.colab.kernel.accessAllowed ? 'block' : 'none';\n\n        async function convertToInteractive(key) {\n          const element = document.querySelector('#df-410b39b5-c2f4-4bf1-971a-71551a20ea8c');\n          const dataTable =\n            await google.colab.kernel.invokeFunction('convertToInteractive',\n                                                     [key], {});\n          if (!dataTable) return;\n\n          const docLinkHtml = 'Like what you see? Visit the ' +\n            '<a target=\"_blank\" href=https://colab.research.google.com/notebooks/data_table.ipynb>data table notebook</a>'\n            + ' to learn more about interactive tables.';\n          element.innerHTML = '';\n          dataTable['output_type'] = 'display_data';\n          await google.colab.output.renderOutput(dataTable, element);\n          const docLink = document.createElement('div');\n          docLink.innerHTML = docLinkHtml;\n          element.appendChild(docLink);\n        }\n      </script>\n    </div>\n  </div>\n  "
          },
          "metadata": {}
        }
      ],
      "execution_count": null,
      "metadata": {
        "colab": {
          "base_uri": "https://localhost:8080/",
          "height": 424
        },
        "id": "qBlEOkdHGF_I",
        "outputId": "b1a2e77e-0a9d-4b29-f21f-672612369fc2"
      }
    },
    {
      "cell_type": "markdown",
      "source": [
        "## Фича #1 Среднее количество кликов конкретного студента в рамках модуля"
      ],
      "metadata": {
        "id": "VSHC1c76RsZI"
      }
    },
    {
      "cell_type": "code",
      "source": [
        "avg_clicks_by_module = student_vle.groupby(by=['id_student', 'code_module', 'code_presentation']).sum_click.mean()\n",
        "avg_clicks_by_module"
      ],
      "outputs": [
        {
          "output_type": "execute_result",
          "execution_count": 293,
          "data": {
            "text/plain": "id_student  code_module  code_presentation\n6516        AAA          2014J               4.22\n8462        DDD          2013J               2.15\n                         2014J               2.50\n11391       AAA          2013J               4.77\n23629       BBB          2013B               2.73\n                                             ... \n2698257     AAA          2013J               2.84\n2698535     CCC          2014B               4.14\n            EEE          2013J               4.87\n2698577     BBB          2014J               3.03\n2698588     BBB          2014J               2.68\nName: sum_click, Length: 29228, dtype: float64"
          },
          "metadata": {}
        }
      ],
      "execution_count": null,
      "metadata": {
        "colab": {
          "base_uri": "https://localhost:8080/"
        },
        "id": "iGzgq-YaPRac",
        "outputId": "78d07d54-1732-4b71-9e9c-370c6070a124"
      }
    },
    {
      "cell_type": "code",
      "source": [
        "data = data.merge(avg_clicks_by_module.reset_index(), on=['id_student', 'code_module', 'code_presentation'], how = 'left')\n",
        "data"
      ],
      "outputs": [
        {
          "output_type": "execute_result",
          "execution_count": 294,
          "data": {
            "text/plain": "          ID  id_student code_module code_presentation gender  \\\n0          0      464685         DDD             2014B      F   \n1          1      606593         DDD             2013J      M   \n2          2     1674799         CCC             2014J      M   \n3          3      195246         FFF             2014J      M   \n4          4      582080         FFF             2013J      M   \n...      ...         ...         ...               ...    ...   \n32588  32588      230510         DDD             2013J      M   \n32589  32589      384026         DDD             2013B      F   \n32590  32590     2367155         AAA             2013J      F   \n32591  32591      501444         FFF             2014J      M   \n32592  32592      653452         DDD             2014J      F   \n\n                     region      highest_education imd_band age_band  \\\n0       East Anglian Region  A Level or Equivalent   50-60%     0-35   \n1                  Scotland  A Level or Equivalent   20-30%     0-35   \n2              South Region       HE Qualification   70-80%     55<=   \n3      West Midlands Region     Lower Than A Level    10-20     0-35   \n4         South East Region     Lower Than A Level    10-20    35-55   \n...                     ...                    ...      ...      ...   \n32588          South Region     Lower Than A Level    10-20     0-35   \n32589      Yorkshire Region  A Level or Equivalent   30-40%     0-35   \n32590   East Anglian Region  A Level or Equivalent   80-90%     0-35   \n32591          South Region     Lower Than A Level    10-20     0-35   \n32592     South West Region  A Level or Equivalent   30-40%     0-35   \n\n       num_of_prev_attempts  studied_credits disability  \\\n0                         1               70          N   \n1                         0              120          N   \n2                         0               60          N   \n3                         0               60          N   \n4                         0               60          N   \n...                     ...              ...        ...   \n32588                     0               60          Y   \n32589                     1              120          N   \n32590                     0              120          N   \n32591                     0               60          N   \n32592                     0              120          N   \n\n       module_presentation_length  date_registration  sum_click  \n0                             241             -36.00       2.85  \n1                             261             -32.00       2.12  \n2                             269             -21.00       3.06  \n3                             269            -124.00       2.97  \n4                             268            -114.00       2.29  \n...                           ...                ...        ...  \n32588                         261             -54.00       3.55  \n32589                         240             -34.00       2.07  \n32590                         268             -22.00       4.21  \n32591                         269             -59.00       3.69  \n32592                         262            -143.00       2.40  \n\n[32593 rows x 15 columns]",
            "text/html": "\n  <div id=\"df-53eafa93-d945-4c4f-a14f-1c56e4d2724a\">\n    <div class=\"colab-df-container\">\n      <div>\n<style scoped>\n    .dataframe tbody tr th:only-of-type {\n        vertical-align: middle;\n    }\n\n    .dataframe tbody tr th {\n        vertical-align: top;\n    }\n\n    .dataframe thead th {\n        text-align: right;\n    }\n</style>\n<table border=\"1\" class=\"dataframe\">\n  <thead>\n    <tr style=\"text-align: right;\">\n      <th></th>\n      <th>ID</th>\n      <th>id_student</th>\n      <th>code_module</th>\n      <th>code_presentation</th>\n      <th>gender</th>\n      <th>region</th>\n      <th>highest_education</th>\n      <th>imd_band</th>\n      <th>age_band</th>\n      <th>num_of_prev_attempts</th>\n      <th>studied_credits</th>\n      <th>disability</th>\n      <th>module_presentation_length</th>\n      <th>date_registration</th>\n      <th>sum_click</th>\n    </tr>\n  </thead>\n  <tbody>\n    <tr>\n      <th>0</th>\n      <td>0</td>\n      <td>464685</td>\n      <td>DDD</td>\n      <td>2014B</td>\n      <td>F</td>\n      <td>East Anglian Region</td>\n      <td>A Level or Equivalent</td>\n      <td>50-60%</td>\n      <td>0-35</td>\n      <td>1</td>\n      <td>70</td>\n      <td>N</td>\n      <td>241</td>\n      <td>-36.00</td>\n      <td>2.85</td>\n    </tr>\n    <tr>\n      <th>1</th>\n      <td>1</td>\n      <td>606593</td>\n      <td>DDD</td>\n      <td>2013J</td>\n      <td>M</td>\n      <td>Scotland</td>\n      <td>A Level or Equivalent</td>\n      <td>20-30%</td>\n      <td>0-35</td>\n      <td>0</td>\n      <td>120</td>\n      <td>N</td>\n      <td>261</td>\n      <td>-32.00</td>\n      <td>2.12</td>\n    </tr>\n    <tr>\n      <th>2</th>\n      <td>2</td>\n      <td>1674799</td>\n      <td>CCC</td>\n      <td>2014J</td>\n      <td>M</td>\n      <td>South Region</td>\n      <td>HE Qualification</td>\n      <td>70-80%</td>\n      <td>55&lt;=</td>\n      <td>0</td>\n      <td>60</td>\n      <td>N</td>\n      <td>269</td>\n      <td>-21.00</td>\n      <td>3.06</td>\n    </tr>\n    <tr>\n      <th>3</th>\n      <td>3</td>\n      <td>195246</td>\n      <td>FFF</td>\n      <td>2014J</td>\n      <td>M</td>\n      <td>West Midlands Region</td>\n      <td>Lower Than A Level</td>\n      <td>10-20</td>\n      <td>0-35</td>\n      <td>0</td>\n      <td>60</td>\n      <td>N</td>\n      <td>269</td>\n      <td>-124.00</td>\n      <td>2.97</td>\n    </tr>\n    <tr>\n      <th>4</th>\n      <td>4</td>\n      <td>582080</td>\n      <td>FFF</td>\n      <td>2013J</td>\n      <td>M</td>\n      <td>South East Region</td>\n      <td>Lower Than A Level</td>\n      <td>10-20</td>\n      <td>35-55</td>\n      <td>0</td>\n      <td>60</td>\n      <td>N</td>\n      <td>268</td>\n      <td>-114.00</td>\n      <td>2.29</td>\n    </tr>\n    <tr>\n      <th>...</th>\n      <td>...</td>\n      <td>...</td>\n      <td>...</td>\n      <td>...</td>\n      <td>...</td>\n      <td>...</td>\n      <td>...</td>\n      <td>...</td>\n      <td>...</td>\n      <td>...</td>\n      <td>...</td>\n      <td>...</td>\n      <td>...</td>\n      <td>...</td>\n      <td>...</td>\n    </tr>\n    <tr>\n      <th>32588</th>\n      <td>32588</td>\n      <td>230510</td>\n      <td>DDD</td>\n      <td>2013J</td>\n      <td>M</td>\n      <td>South Region</td>\n      <td>Lower Than A Level</td>\n      <td>10-20</td>\n      <td>0-35</td>\n      <td>0</td>\n      <td>60</td>\n      <td>Y</td>\n      <td>261</td>\n      <td>-54.00</td>\n      <td>3.55</td>\n    </tr>\n    <tr>\n      <th>32589</th>\n      <td>32589</td>\n      <td>384026</td>\n      <td>DDD</td>\n      <td>2013B</td>\n      <td>F</td>\n      <td>Yorkshire Region</td>\n      <td>A Level or Equivalent</td>\n      <td>30-40%</td>\n      <td>0-35</td>\n      <td>1</td>\n      <td>120</td>\n      <td>N</td>\n      <td>240</td>\n      <td>-34.00</td>\n      <td>2.07</td>\n    </tr>\n    <tr>\n      <th>32590</th>\n      <td>32590</td>\n      <td>2367155</td>\n      <td>AAA</td>\n      <td>2013J</td>\n      <td>F</td>\n      <td>East Anglian Region</td>\n      <td>A Level or Equivalent</td>\n      <td>80-90%</td>\n      <td>0-35</td>\n      <td>0</td>\n      <td>120</td>\n      <td>N</td>\n      <td>268</td>\n      <td>-22.00</td>\n      <td>4.21</td>\n    </tr>\n    <tr>\n      <th>32591</th>\n      <td>32591</td>\n      <td>501444</td>\n      <td>FFF</td>\n      <td>2014J</td>\n      <td>M</td>\n      <td>South Region</td>\n      <td>Lower Than A Level</td>\n      <td>10-20</td>\n      <td>0-35</td>\n      <td>0</td>\n      <td>60</td>\n      <td>N</td>\n      <td>269</td>\n      <td>-59.00</td>\n      <td>3.69</td>\n    </tr>\n    <tr>\n      <th>32592</th>\n      <td>32592</td>\n      <td>653452</td>\n      <td>DDD</td>\n      <td>2014J</td>\n      <td>F</td>\n      <td>South West Region</td>\n      <td>A Level or Equivalent</td>\n      <td>30-40%</td>\n      <td>0-35</td>\n      <td>0</td>\n      <td>120</td>\n      <td>N</td>\n      <td>262</td>\n      <td>-143.00</td>\n      <td>2.40</td>\n    </tr>\n  </tbody>\n</table>\n<p>32593 rows × 15 columns</p>\n</div>\n      <button class=\"colab-df-convert\" onclick=\"convertToInteractive('df-53eafa93-d945-4c4f-a14f-1c56e4d2724a')\"\n              title=\"Convert this dataframe to an interactive table.\"\n              style=\"display:none;\">\n        \n  <svg xmlns=\"http://www.w3.org/2000/svg\" height=\"24px\"viewBox=\"0 0 24 24\"\n       width=\"24px\">\n    <path d=\"M0 0h24v24H0V0z\" fill=\"none\"/>\n    <path d=\"M18.56 5.44l.94 2.06.94-2.06 2.06-.94-2.06-.94-.94-2.06-.94 2.06-2.06.94zm-11 1L8.5 8.5l.94-2.06 2.06-.94-2.06-.94L8.5 2.5l-.94 2.06-2.06.94zm10 10l.94 2.06.94-2.06 2.06-.94-2.06-.94-.94-2.06-.94 2.06-2.06.94z\"/><path d=\"M17.41 7.96l-1.37-1.37c-.4-.4-.92-.59-1.43-.59-.52 0-1.04.2-1.43.59L10.3 9.45l-7.72 7.72c-.78.78-.78 2.05 0 2.83L4 21.41c.39.39.9.59 1.41.59.51 0 1.02-.2 1.41-.59l7.78-7.78 2.81-2.81c.8-.78.8-2.07 0-2.86zM5.41 20L4 18.59l7.72-7.72 1.47 1.35L5.41 20z\"/>\n  </svg>\n      </button>\n      \n  <style>\n    .colab-df-container {\n      display:flex;\n      flex-wrap:wrap;\n      gap: 12px;\n    }\n\n    .colab-df-convert {\n      background-color: #E8F0FE;\n      border: none;\n      border-radius: 50%;\n      cursor: pointer;\n      display: none;\n      fill: #1967D2;\n      height: 32px;\n      padding: 0 0 0 0;\n      width: 32px;\n    }\n\n    .colab-df-convert:hover {\n      background-color: #E2EBFA;\n      box-shadow: 0px 1px 2px rgba(60, 64, 67, 0.3), 0px 1px 3px 1px rgba(60, 64, 67, 0.15);\n      fill: #174EA6;\n    }\n\n    [theme=dark] .colab-df-convert {\n      background-color: #3B4455;\n      fill: #D2E3FC;\n    }\n\n    [theme=dark] .colab-df-convert:hover {\n      background-color: #434B5C;\n      box-shadow: 0px 1px 3px 1px rgba(0, 0, 0, 0.15);\n      filter: drop-shadow(0px 1px 2px rgba(0, 0, 0, 0.3));\n      fill: #FFFFFF;\n    }\n  </style>\n\n      <script>\n        const buttonEl =\n          document.querySelector('#df-53eafa93-d945-4c4f-a14f-1c56e4d2724a button.colab-df-convert');\n        buttonEl.style.display =\n          google.colab.kernel.accessAllowed ? 'block' : 'none';\n\n        async function convertToInteractive(key) {\n          const element = document.querySelector('#df-53eafa93-d945-4c4f-a14f-1c56e4d2724a');\n          const dataTable =\n            await google.colab.kernel.invokeFunction('convertToInteractive',\n                                                     [key], {});\n          if (!dataTable) return;\n\n          const docLinkHtml = 'Like what you see? Visit the ' +\n            '<a target=\"_blank\" href=https://colab.research.google.com/notebooks/data_table.ipynb>data table notebook</a>'\n            + ' to learn more about interactive tables.';\n          element.innerHTML = '';\n          dataTable['output_type'] = 'display_data';\n          await google.colab.output.renderOutput(dataTable, element);\n          const docLink = document.createElement('div');\n          docLink.innerHTML = docLinkHtml;\n          element.appendChild(docLink);\n        }\n      </script>\n    </div>\n  </div>\n  "
          },
          "metadata": {}
        }
      ],
      "execution_count": null,
      "metadata": {
        "colab": {
          "base_uri": "https://localhost:8080/",
          "height": 424
        },
        "id": "p6XM2vAvNQtR",
        "outputId": "e79d1687-409c-416f-adba-5356da5a9c7f"
      }
    },
    {
      "cell_type": "code",
      "source": [
        "data.info()"
      ],
      "outputs": [
        {
          "output_type": "stream",
          "name": "stdout",
          "text": "<class 'pandas.core.frame.DataFrame'>\nInt64Index: 32593 entries, 0 to 32592\nData columns (total 15 columns):\n #   Column                      Non-Null Count  Dtype  \n---  ------                      --------------  -----  \n 0   ID                          32593 non-null  int64  \n 1   id_student                  32593 non-null  int64  \n 2   code_module                 32593 non-null  object \n 3   code_presentation           32593 non-null  object \n 4   gender                      32593 non-null  object \n 5   region                      32593 non-null  object \n 6   highest_education           32593 non-null  object \n 7   imd_band                    32593 non-null  object \n 8   age_band                    32593 non-null  object \n 9   num_of_prev_attempts        32593 non-null  int64  \n 10  studied_credits             32593 non-null  int64  \n 11  disability                  32593 non-null  object \n 12  module_presentation_length  32593 non-null  int64  \n 13  date_registration           32593 non-null  float64\n 14  sum_click                   29228 non-null  float64\ndtypes: float64(2), int64(5), object(8)\nmemory usage: 4.0+ MB\n"
        }
      ],
      "execution_count": null,
      "metadata": {
        "colab": {
          "base_uri": "https://localhost:8080/"
        },
        "id": "uwHXmJoeTaPq",
        "outputId": "5b55d0fe-d133-4d03-cb72-a8fcaf501854"
      }
    },
    {
      "cell_type": "markdown",
      "source": [
        "Сразу заполним пропуски, по принципу - среднее значение кликов среди всех студентов в рамках одного модуля"
      ],
      "metadata": {
        "id": "7h5G-1TdTsSY"
      }
    },
    {
      "cell_type": "code",
      "source": [
        "indexes_to_fill = data[data.sum_click.isna()].index\n",
        "indexes_to_fill[30:40]"
      ],
      "outputs": [
        {
          "output_type": "execute_result",
          "execution_count": 296,
          "data": {
            "text/plain": "Int64Index([313, 322, 334, 337, 344, 356, 362, 377, 380, 395], dtype='int64')"
          },
          "metadata": {}
        }
      ],
      "execution_count": null,
      "metadata": {
        "colab": {
          "base_uri": "https://localhost:8080/"
        },
        "id": "k-I2FbOkVuRq",
        "outputId": "bb7373bd-123a-4f24-fd60-b7eb14439f72"
      }
    },
    {
      "cell_type": "code",
      "source": [
        "avg_clicks_by_all = data.groupby(by = ['code_module','code_presentation']).sum_click.mean().reset_index()\n",
        "avg_clicks_by_all"
      ],
      "outputs": [
        {
          "output_type": "execute_result",
          "execution_count": 297,
          "data": {
            "text/plain": "   code_module code_presentation  sum_click\n0          AAA             2013J       3.44\n1          AAA             2014J       3.21\n2          BBB             2013B       2.79\n3          BBB             2013J       2.56\n4          BBB             2014B       2.60\n5          BBB             2014J       3.34\n6          CCC             2014B       3.47\n7          CCC             2014J       3.55\n8          DDD             2013B       2.44\n9          DDD             2013J       2.45\n10         DDD             2014B       2.43\n11         DDD             2014J       2.31\n12         EEE             2013J       4.23\n13         EEE             2014B       4.07\n14         EEE             2014J       3.90\n15         FFF             2013B       4.11\n16         FFF             2013J       3.91\n17         FFF             2014B       3.94\n18         FFF             2014J       3.87\n19         GGG             2013J       3.22\n20         GGG             2014B       3.13\n21         GGG             2014J       3.16",
            "text/html": "\n  <div id=\"df-9915114b-e156-4161-b390-f5499485ead4\">\n    <div class=\"colab-df-container\">\n      <div>\n<style scoped>\n    .dataframe tbody tr th:only-of-type {\n        vertical-align: middle;\n    }\n\n    .dataframe tbody tr th {\n        vertical-align: top;\n    }\n\n    .dataframe thead th {\n        text-align: right;\n    }\n</style>\n<table border=\"1\" class=\"dataframe\">\n  <thead>\n    <tr style=\"text-align: right;\">\n      <th></th>\n      <th>code_module</th>\n      <th>code_presentation</th>\n      <th>sum_click</th>\n    </tr>\n  </thead>\n  <tbody>\n    <tr>\n      <th>0</th>\n      <td>AAA</td>\n      <td>2013J</td>\n      <td>3.44</td>\n    </tr>\n    <tr>\n      <th>1</th>\n      <td>AAA</td>\n      <td>2014J</td>\n      <td>3.21</td>\n    </tr>\n    <tr>\n      <th>2</th>\n      <td>BBB</td>\n      <td>2013B</td>\n      <td>2.79</td>\n    </tr>\n    <tr>\n      <th>3</th>\n      <td>BBB</td>\n      <td>2013J</td>\n      <td>2.56</td>\n    </tr>\n    <tr>\n      <th>4</th>\n      <td>BBB</td>\n      <td>2014B</td>\n      <td>2.60</td>\n    </tr>\n    <tr>\n      <th>5</th>\n      <td>BBB</td>\n      <td>2014J</td>\n      <td>3.34</td>\n    </tr>\n    <tr>\n      <th>6</th>\n      <td>CCC</td>\n      <td>2014B</td>\n      <td>3.47</td>\n    </tr>\n    <tr>\n      <th>7</th>\n      <td>CCC</td>\n      <td>2014J</td>\n      <td>3.55</td>\n    </tr>\n    <tr>\n      <th>8</th>\n      <td>DDD</td>\n      <td>2013B</td>\n      <td>2.44</td>\n    </tr>\n    <tr>\n      <th>9</th>\n      <td>DDD</td>\n      <td>2013J</td>\n      <td>2.45</td>\n    </tr>\n    <tr>\n      <th>10</th>\n      <td>DDD</td>\n      <td>2014B</td>\n      <td>2.43</td>\n    </tr>\n    <tr>\n      <th>11</th>\n      <td>DDD</td>\n      <td>2014J</td>\n      <td>2.31</td>\n    </tr>\n    <tr>\n      <th>12</th>\n      <td>EEE</td>\n      <td>2013J</td>\n      <td>4.23</td>\n    </tr>\n    <tr>\n      <th>13</th>\n      <td>EEE</td>\n      <td>2014B</td>\n      <td>4.07</td>\n    </tr>\n    <tr>\n      <th>14</th>\n      <td>EEE</td>\n      <td>2014J</td>\n      <td>3.90</td>\n    </tr>\n    <tr>\n      <th>15</th>\n      <td>FFF</td>\n      <td>2013B</td>\n      <td>4.11</td>\n    </tr>\n    <tr>\n      <th>16</th>\n      <td>FFF</td>\n      <td>2013J</td>\n      <td>3.91</td>\n    </tr>\n    <tr>\n      <th>17</th>\n      <td>FFF</td>\n      <td>2014B</td>\n      <td>3.94</td>\n    </tr>\n    <tr>\n      <th>18</th>\n      <td>FFF</td>\n      <td>2014J</td>\n      <td>3.87</td>\n    </tr>\n    <tr>\n      <th>19</th>\n      <td>GGG</td>\n      <td>2013J</td>\n      <td>3.22</td>\n    </tr>\n    <tr>\n      <th>20</th>\n      <td>GGG</td>\n      <td>2014B</td>\n      <td>3.13</td>\n    </tr>\n    <tr>\n      <th>21</th>\n      <td>GGG</td>\n      <td>2014J</td>\n      <td>3.16</td>\n    </tr>\n  </tbody>\n</table>\n</div>\n      <button class=\"colab-df-convert\" onclick=\"convertToInteractive('df-9915114b-e156-4161-b390-f5499485ead4')\"\n              title=\"Convert this dataframe to an interactive table.\"\n              style=\"display:none;\">\n        \n  <svg xmlns=\"http://www.w3.org/2000/svg\" height=\"24px\"viewBox=\"0 0 24 24\"\n       width=\"24px\">\n    <path d=\"M0 0h24v24H0V0z\" fill=\"none\"/>\n    <path d=\"M18.56 5.44l.94 2.06.94-2.06 2.06-.94-2.06-.94-.94-2.06-.94 2.06-2.06.94zm-11 1L8.5 8.5l.94-2.06 2.06-.94-2.06-.94L8.5 2.5l-.94 2.06-2.06.94zm10 10l.94 2.06.94-2.06 2.06-.94-2.06-.94-.94-2.06-.94 2.06-2.06.94z\"/><path d=\"M17.41 7.96l-1.37-1.37c-.4-.4-.92-.59-1.43-.59-.52 0-1.04.2-1.43.59L10.3 9.45l-7.72 7.72c-.78.78-.78 2.05 0 2.83L4 21.41c.39.39.9.59 1.41.59.51 0 1.02-.2 1.41-.59l7.78-7.78 2.81-2.81c.8-.78.8-2.07 0-2.86zM5.41 20L4 18.59l7.72-7.72 1.47 1.35L5.41 20z\"/>\n  </svg>\n      </button>\n      \n  <style>\n    .colab-df-container {\n      display:flex;\n      flex-wrap:wrap;\n      gap: 12px;\n    }\n\n    .colab-df-convert {\n      background-color: #E8F0FE;\n      border: none;\n      border-radius: 50%;\n      cursor: pointer;\n      display: none;\n      fill: #1967D2;\n      height: 32px;\n      padding: 0 0 0 0;\n      width: 32px;\n    }\n\n    .colab-df-convert:hover {\n      background-color: #E2EBFA;\n      box-shadow: 0px 1px 2px rgba(60, 64, 67, 0.3), 0px 1px 3px 1px rgba(60, 64, 67, 0.15);\n      fill: #174EA6;\n    }\n\n    [theme=dark] .colab-df-convert {\n      background-color: #3B4455;\n      fill: #D2E3FC;\n    }\n\n    [theme=dark] .colab-df-convert:hover {\n      background-color: #434B5C;\n      box-shadow: 0px 1px 3px 1px rgba(0, 0, 0, 0.15);\n      filter: drop-shadow(0px 1px 2px rgba(0, 0, 0, 0.3));\n      fill: #FFFFFF;\n    }\n  </style>\n\n      <script>\n        const buttonEl =\n          document.querySelector('#df-9915114b-e156-4161-b390-f5499485ead4 button.colab-df-convert');\n        buttonEl.style.display =\n          google.colab.kernel.accessAllowed ? 'block' : 'none';\n\n        async function convertToInteractive(key) {\n          const element = document.querySelector('#df-9915114b-e156-4161-b390-f5499485ead4');\n          const dataTable =\n            await google.colab.kernel.invokeFunction('convertToInteractive',\n                                                     [key], {});\n          if (!dataTable) return;\n\n          const docLinkHtml = 'Like what you see? Visit the ' +\n            '<a target=\"_blank\" href=https://colab.research.google.com/notebooks/data_table.ipynb>data table notebook</a>'\n            + ' to learn more about interactive tables.';\n          element.innerHTML = '';\n          dataTable['output_type'] = 'display_data';\n          await google.colab.output.renderOutput(dataTable, element);\n          const docLink = document.createElement('div');\n          docLink.innerHTML = docLinkHtml;\n          element.appendChild(docLink);\n        }\n      </script>\n    </div>\n  </div>\n  "
          },
          "metadata": {}
        }
      ],
      "execution_count": null,
      "metadata": {
        "colab": {
          "base_uri": "https://localhost:8080/",
          "height": 739
        },
        "id": "BgdHzFo5NDET",
        "outputId": "e780de34-08a7-4d5d-ab77-94761f1c6c8f"
      }
    },
    {
      "cell_type": "code",
      "source": [
        "def get_value(index):\n",
        "  return avg_clicks_by_all[(avg_clicks_by_all.code_module == data.iloc[index][2:4][0]) & (avg_clicks_by_all.code_presentation == data.iloc[index][2:4][1])].sum_click # функция, которая возвращает значение sum_click из таблицы avg_clicks_by_all"
      ],
      "outputs": [],
      "execution_count": null,
      "metadata": {
        "id": "yJtJqg6ziTe_"
      }
    },
    {
      "cell_type": "code",
      "source": [
        "get_value(1180)"
      ],
      "outputs": [
        {
          "output_type": "execute_result",
          "execution_count": 300,
          "data": {
            "text/plain": "11   2.31\nName: sum_click, dtype: float64"
          },
          "metadata": {}
        }
      ],
      "execution_count": null,
      "metadata": {
        "colab": {
          "base_uri": "https://localhost:8080/"
        },
        "id": "IeJjvyz2jjQ9",
        "outputId": "9f1d2acc-4f8e-4c94-d602-513cbd1e0353"
      }
    },
    {
      "cell_type": "code",
      "source": [
        "for index in indexes_to_fill:\n",
        "  data.iat[index, -1] = get_value(index)"
      ],
      "outputs": [],
      "execution_count": null,
      "metadata": {
        "id": "rzLmvsrsiKxe"
      }
    },
    {
      "cell_type": "code",
      "source": [
        "data.info()"
      ],
      "outputs": [
        {
          "output_type": "stream",
          "name": "stdout",
          "text": "<class 'pandas.core.frame.DataFrame'>\nInt64Index: 32593 entries, 0 to 32592\nData columns (total 15 columns):\n #   Column                      Non-Null Count  Dtype  \n---  ------                      --------------  -----  \n 0   ID                          32593 non-null  int64  \n 1   id_student                  32593 non-null  int64  \n 2   code_module                 32593 non-null  object \n 3   code_presentation           32593 non-null  object \n 4   gender                      32593 non-null  object \n 5   region                      32593 non-null  object \n 6   highest_education           32593 non-null  object \n 7   imd_band                    32593 non-null  object \n 8   age_band                    32593 non-null  object \n 9   num_of_prev_attempts        32593 non-null  int64  \n 10  studied_credits             32593 non-null  int64  \n 11  disability                  32593 non-null  object \n 12  module_presentation_length  32593 non-null  int64  \n 13  date_registration           32593 non-null  float64\n 14  sum_click                   32593 non-null  float64\ndtypes: float64(2), int64(5), object(8)\nmemory usage: 4.0+ MB\n"
        }
      ],
      "execution_count": null,
      "metadata": {
        "colab": {
          "base_uri": "https://localhost:8080/"
        },
        "id": "N-IUqlarlGFg",
        "outputId": "2d1ed7ae-2cb0-4bde-bb89-44f0a0cde37b"
      }
    },
    {
      "cell_type": "code",
      "source": [
        "data.rename(columns={'sum_click' : 'avg_clicks_by_module'}, inplace= True)"
      ],
      "outputs": [],
      "execution_count": null,
      "metadata": {
        "id": "BAOg1D8FrOOj"
      }
    },
    {
      "cell_type": "markdown",
      "source": [
        "## Разбиваем датафрейм на тестовую и тренировочную"
      ],
      "metadata": {
        "id": "NIcWadpduSPw"
      }
    },
    {
      "cell_type": "code",
      "source": [
        "data"
      ],
      "outputs": [
        {
          "output_type": "execute_result",
          "execution_count": 304,
          "data": {
            "text/plain": "          ID  id_student code_module code_presentation gender  \\\n0          0      464685         DDD             2014B      F   \n1          1      606593         DDD             2013J      M   \n2          2     1674799         CCC             2014J      M   \n3          3      195246         FFF             2014J      M   \n4          4      582080         FFF             2013J      M   \n...      ...         ...         ...               ...    ...   \n32588  32588      230510         DDD             2013J      M   \n32589  32589      384026         DDD             2013B      F   \n32590  32590     2367155         AAA             2013J      F   \n32591  32591      501444         FFF             2014J      M   \n32592  32592      653452         DDD             2014J      F   \n\n                     region      highest_education imd_band age_band  \\\n0       East Anglian Region  A Level or Equivalent   50-60%     0-35   \n1                  Scotland  A Level or Equivalent   20-30%     0-35   \n2              South Region       HE Qualification   70-80%     55<=   \n3      West Midlands Region     Lower Than A Level    10-20     0-35   \n4         South East Region     Lower Than A Level    10-20    35-55   \n...                     ...                    ...      ...      ...   \n32588          South Region     Lower Than A Level    10-20     0-35   \n32589      Yorkshire Region  A Level or Equivalent   30-40%     0-35   \n32590   East Anglian Region  A Level or Equivalent   80-90%     0-35   \n32591          South Region     Lower Than A Level    10-20     0-35   \n32592     South West Region  A Level or Equivalent   30-40%     0-35   \n\n       num_of_prev_attempts  studied_credits disability  \\\n0                         1               70          N   \n1                         0              120          N   \n2                         0               60          N   \n3                         0               60          N   \n4                         0               60          N   \n...                     ...              ...        ...   \n32588                     0               60          Y   \n32589                     1              120          N   \n32590                     0              120          N   \n32591                     0               60          N   \n32592                     0              120          N   \n\n       module_presentation_length  date_registration  avg_clicks_by_module  \n0                             241             -36.00                  2.85  \n1                             261             -32.00                  2.12  \n2                             269             -21.00                  3.06  \n3                             269            -124.00                  2.97  \n4                             268            -114.00                  2.29  \n...                           ...                ...                   ...  \n32588                         261             -54.00                  3.55  \n32589                         240             -34.00                  2.07  \n32590                         268             -22.00                  4.21  \n32591                         269             -59.00                  3.69  \n32592                         262            -143.00                  2.40  \n\n[32593 rows x 15 columns]",
            "text/html": "\n  <div id=\"df-e5ec10cb-8f88-4d0b-b3f9-2195c14e767a\">\n    <div class=\"colab-df-container\">\n      <div>\n<style scoped>\n    .dataframe tbody tr th:only-of-type {\n        vertical-align: middle;\n    }\n\n    .dataframe tbody tr th {\n        vertical-align: top;\n    }\n\n    .dataframe thead th {\n        text-align: right;\n    }\n</style>\n<table border=\"1\" class=\"dataframe\">\n  <thead>\n    <tr style=\"text-align: right;\">\n      <th></th>\n      <th>ID</th>\n      <th>id_student</th>\n      <th>code_module</th>\n      <th>code_presentation</th>\n      <th>gender</th>\n      <th>region</th>\n      <th>highest_education</th>\n      <th>imd_band</th>\n      <th>age_band</th>\n      <th>num_of_prev_attempts</th>\n      <th>studied_credits</th>\n      <th>disability</th>\n      <th>module_presentation_length</th>\n      <th>date_registration</th>\n      <th>avg_clicks_by_module</th>\n    </tr>\n  </thead>\n  <tbody>\n    <tr>\n      <th>0</th>\n      <td>0</td>\n      <td>464685</td>\n      <td>DDD</td>\n      <td>2014B</td>\n      <td>F</td>\n      <td>East Anglian Region</td>\n      <td>A Level or Equivalent</td>\n      <td>50-60%</td>\n      <td>0-35</td>\n      <td>1</td>\n      <td>70</td>\n      <td>N</td>\n      <td>241</td>\n      <td>-36.00</td>\n      <td>2.85</td>\n    </tr>\n    <tr>\n      <th>1</th>\n      <td>1</td>\n      <td>606593</td>\n      <td>DDD</td>\n      <td>2013J</td>\n      <td>M</td>\n      <td>Scotland</td>\n      <td>A Level or Equivalent</td>\n      <td>20-30%</td>\n      <td>0-35</td>\n      <td>0</td>\n      <td>120</td>\n      <td>N</td>\n      <td>261</td>\n      <td>-32.00</td>\n      <td>2.12</td>\n    </tr>\n    <tr>\n      <th>2</th>\n      <td>2</td>\n      <td>1674799</td>\n      <td>CCC</td>\n      <td>2014J</td>\n      <td>M</td>\n      <td>South Region</td>\n      <td>HE Qualification</td>\n      <td>70-80%</td>\n      <td>55&lt;=</td>\n      <td>0</td>\n      <td>60</td>\n      <td>N</td>\n      <td>269</td>\n      <td>-21.00</td>\n      <td>3.06</td>\n    </tr>\n    <tr>\n      <th>3</th>\n      <td>3</td>\n      <td>195246</td>\n      <td>FFF</td>\n      <td>2014J</td>\n      <td>M</td>\n      <td>West Midlands Region</td>\n      <td>Lower Than A Level</td>\n      <td>10-20</td>\n      <td>0-35</td>\n      <td>0</td>\n      <td>60</td>\n      <td>N</td>\n      <td>269</td>\n      <td>-124.00</td>\n      <td>2.97</td>\n    </tr>\n    <tr>\n      <th>4</th>\n      <td>4</td>\n      <td>582080</td>\n      <td>FFF</td>\n      <td>2013J</td>\n      <td>M</td>\n      <td>South East Region</td>\n      <td>Lower Than A Level</td>\n      <td>10-20</td>\n      <td>35-55</td>\n      <td>0</td>\n      <td>60</td>\n      <td>N</td>\n      <td>268</td>\n      <td>-114.00</td>\n      <td>2.29</td>\n    </tr>\n    <tr>\n      <th>...</th>\n      <td>...</td>\n      <td>...</td>\n      <td>...</td>\n      <td>...</td>\n      <td>...</td>\n      <td>...</td>\n      <td>...</td>\n      <td>...</td>\n      <td>...</td>\n      <td>...</td>\n      <td>...</td>\n      <td>...</td>\n      <td>...</td>\n      <td>...</td>\n      <td>...</td>\n    </tr>\n    <tr>\n      <th>32588</th>\n      <td>32588</td>\n      <td>230510</td>\n      <td>DDD</td>\n      <td>2013J</td>\n      <td>M</td>\n      <td>South Region</td>\n      <td>Lower Than A Level</td>\n      <td>10-20</td>\n      <td>0-35</td>\n      <td>0</td>\n      <td>60</td>\n      <td>Y</td>\n      <td>261</td>\n      <td>-54.00</td>\n      <td>3.55</td>\n    </tr>\n    <tr>\n      <th>32589</th>\n      <td>32589</td>\n      <td>384026</td>\n      <td>DDD</td>\n      <td>2013B</td>\n      <td>F</td>\n      <td>Yorkshire Region</td>\n      <td>A Level or Equivalent</td>\n      <td>30-40%</td>\n      <td>0-35</td>\n      <td>1</td>\n      <td>120</td>\n      <td>N</td>\n      <td>240</td>\n      <td>-34.00</td>\n      <td>2.07</td>\n    </tr>\n    <tr>\n      <th>32590</th>\n      <td>32590</td>\n      <td>2367155</td>\n      <td>AAA</td>\n      <td>2013J</td>\n      <td>F</td>\n      <td>East Anglian Region</td>\n      <td>A Level or Equivalent</td>\n      <td>80-90%</td>\n      <td>0-35</td>\n      <td>0</td>\n      <td>120</td>\n      <td>N</td>\n      <td>268</td>\n      <td>-22.00</td>\n      <td>4.21</td>\n    </tr>\n    <tr>\n      <th>32591</th>\n      <td>32591</td>\n      <td>501444</td>\n      <td>FFF</td>\n      <td>2014J</td>\n      <td>M</td>\n      <td>South Region</td>\n      <td>Lower Than A Level</td>\n      <td>10-20</td>\n      <td>0-35</td>\n      <td>0</td>\n      <td>60</td>\n      <td>N</td>\n      <td>269</td>\n      <td>-59.00</td>\n      <td>3.69</td>\n    </tr>\n    <tr>\n      <th>32592</th>\n      <td>32592</td>\n      <td>653452</td>\n      <td>DDD</td>\n      <td>2014J</td>\n      <td>F</td>\n      <td>South West Region</td>\n      <td>A Level or Equivalent</td>\n      <td>30-40%</td>\n      <td>0-35</td>\n      <td>0</td>\n      <td>120</td>\n      <td>N</td>\n      <td>262</td>\n      <td>-143.00</td>\n      <td>2.40</td>\n    </tr>\n  </tbody>\n</table>\n<p>32593 rows × 15 columns</p>\n</div>\n      <button class=\"colab-df-convert\" onclick=\"convertToInteractive('df-e5ec10cb-8f88-4d0b-b3f9-2195c14e767a')\"\n              title=\"Convert this dataframe to an interactive table.\"\n              style=\"display:none;\">\n        \n  <svg xmlns=\"http://www.w3.org/2000/svg\" height=\"24px\"viewBox=\"0 0 24 24\"\n       width=\"24px\">\n    <path d=\"M0 0h24v24H0V0z\" fill=\"none\"/>\n    <path d=\"M18.56 5.44l.94 2.06.94-2.06 2.06-.94-2.06-.94-.94-2.06-.94 2.06-2.06.94zm-11 1L8.5 8.5l.94-2.06 2.06-.94-2.06-.94L8.5 2.5l-.94 2.06-2.06.94zm10 10l.94 2.06.94-2.06 2.06-.94-2.06-.94-.94-2.06-.94 2.06-2.06.94z\"/><path d=\"M17.41 7.96l-1.37-1.37c-.4-.4-.92-.59-1.43-.59-.52 0-1.04.2-1.43.59L10.3 9.45l-7.72 7.72c-.78.78-.78 2.05 0 2.83L4 21.41c.39.39.9.59 1.41.59.51 0 1.02-.2 1.41-.59l7.78-7.78 2.81-2.81c.8-.78.8-2.07 0-2.86zM5.41 20L4 18.59l7.72-7.72 1.47 1.35L5.41 20z\"/>\n  </svg>\n      </button>\n      \n  <style>\n    .colab-df-container {\n      display:flex;\n      flex-wrap:wrap;\n      gap: 12px;\n    }\n\n    .colab-df-convert {\n      background-color: #E8F0FE;\n      border: none;\n      border-radius: 50%;\n      cursor: pointer;\n      display: none;\n      fill: #1967D2;\n      height: 32px;\n      padding: 0 0 0 0;\n      width: 32px;\n    }\n\n    .colab-df-convert:hover {\n      background-color: #E2EBFA;\n      box-shadow: 0px 1px 2px rgba(60, 64, 67, 0.3), 0px 1px 3px 1px rgba(60, 64, 67, 0.15);\n      fill: #174EA6;\n    }\n\n    [theme=dark] .colab-df-convert {\n      background-color: #3B4455;\n      fill: #D2E3FC;\n    }\n\n    [theme=dark] .colab-df-convert:hover {\n      background-color: #434B5C;\n      box-shadow: 0px 1px 3px 1px rgba(0, 0, 0, 0.15);\n      filter: drop-shadow(0px 1px 2px rgba(0, 0, 0, 0.3));\n      fill: #FFFFFF;\n    }\n  </style>\n\n      <script>\n        const buttonEl =\n          document.querySelector('#df-e5ec10cb-8f88-4d0b-b3f9-2195c14e767a button.colab-df-convert');\n        buttonEl.style.display =\n          google.colab.kernel.accessAllowed ? 'block' : 'none';\n\n        async function convertToInteractive(key) {\n          const element = document.querySelector('#df-e5ec10cb-8f88-4d0b-b3f9-2195c14e767a');\n          const dataTable =\n            await google.colab.kernel.invokeFunction('convertToInteractive',\n                                                     [key], {});\n          if (!dataTable) return;\n\n          const docLinkHtml = 'Like what you see? Visit the ' +\n            '<a target=\"_blank\" href=https://colab.research.google.com/notebooks/data_table.ipynb>data table notebook</a>'\n            + ' to learn more about interactive tables.';\n          element.innerHTML = '';\n          dataTable['output_type'] = 'display_data';\n          await google.colab.output.renderOutput(dataTable, element);\n          const docLink = document.createElement('div');\n          docLink.innerHTML = docLinkHtml;\n          element.appendChild(docLink);\n        }\n      </script>\n    </div>\n  </div>\n  "
          },
          "metadata": {}
        }
      ],
      "execution_count": null,
      "metadata": {
        "colab": {
          "base_uri": "https://localhost:8080/",
          "height": 468
        },
        "id": "mdU481ZRufTb",
        "outputId": "296fa03b-88ef-4468-eca9-f5707211d85f"
      }
    },
    {
      "cell_type": "code",
      "source": [
        "data.drop(columns=['id_student'] , axis= 0, inplace = True)"
      ],
      "outputs": [],
      "execution_count": null,
      "metadata": {
        "id": "OCVl2Hzhs8YH"
      }
    },
    {
      "cell_type": "code",
      "source": [
        "train = data[(data.ID.isin(train_who.ID))].reset_index(drop = True)\n",
        "test = data[(data.ID.isin(test_who.ID))].reset_index(drop = True)"
      ],
      "outputs": [],
      "execution_count": null,
      "metadata": {
        "id": "4n_ciK3ywgH-"
      }
    },
    {
      "cell_type": "markdown",
      "source": [
        "# Собираем модель и проводим обучение"
      ],
      "metadata": {
        "id": "qs6Bv1RAR0d1"
      }
    },
    {
      "cell_type": "code",
      "source": [
        "SEED = 137"
      ],
      "outputs": [],
      "execution_count": null,
      "metadata": {
        "id": "So415_qcUzJG"
      }
    },
    {
      "cell_type": "code",
      "source": [
        "df_cat = list(data.select_dtypes(include=['object']).columns)    # категориальные\n",
        "df_num = list(data.select_dtypes(include=['int64', 'float64']).columns)    # числовые"
      ],
      "outputs": [],
      "execution_count": null,
      "metadata": {
        "id": "jfbhk4zkR4pJ"
      }
    },
    {
      "cell_type": "code",
      "source": [
        "target = train_target.final_result\n",
        "target"
      ],
      "outputs": [
        {
          "output_type": "execute_result",
          "execution_count": 361,
          "data": {
            "text/plain": "0        1\n1        0\n2        1\n3        0\n4        0\n        ..\n26069    1\n26070    0\n26071    0\n26072    1\n26073    0\nName: final_result, Length: 26074, dtype: int64"
          },
          "metadata": {}
        }
      ],
      "execution_count": null,
      "metadata": {
        "colab": {
          "base_uri": "https://localhost:8080/"
        },
        "id": "gRvYC6GOXJU9",
        "outputId": "d39e335f-9022-460c-cc18-f5fd759d384b"
      }
    },
    {
      "cell_type": "code",
      "source": [
        "X_train, X_test, y_train, y_test = train_test_split(train, target, random_state = SEED, test_size=0.18)\n",
        "\n",
        "model = CatBoostClassifier(iterations=1000, random_seed=SEED, cat_features = df_cat, verbose = 200, learning_rate= 0.15)\n",
        "model.fit(X_train, y_train, eval_set=(X_test, y_test))\n",
        "\n",
        "print('Accuracy on test set:', round(model.score(X_test, y_test)*100, 2), '%')\n",
        "\n",
        "importances = model.get_feature_importance()\n",
        "names = data.columns\n",
        "plt.barh(names, importances)\n",
        "plt.show()"
      ],
      "outputs": [
        {
          "output_type": "stream",
          "name": "stdout",
          "text": "0:\tlearn: 0.6750505\ttest: 0.6752338\tbest: 0.6752338 (0)\ttotal: 85.8ms\tremaining: 1m 25s\n200:\tlearn: 0.4948319\ttest: 0.5469215\tbest: 0.5467747 (190)\ttotal: 9.93s\tremaining: 39.5s\n400:\tlearn: 0.4512743\ttest: 0.5415487\tbest: 0.5415437 (399)\ttotal: 18.2s\tremaining: 27.2s\n600:\tlearn: 0.4151874\ttest: 0.5414915\tbest: 0.5406325 (503)\ttotal: 27.9s\tremaining: 18.5s\n800:\tlearn: 0.3849732\ttest: 0.5433785\tbest: 0.5406325 (503)\ttotal: 37.9s\tremaining: 9.41s\n999:\tlearn: 0.3590084\ttest: 0.5445047\tbest: 0.5406325 (503)\ttotal: 47.7s\tremaining: 0us\n\nbestTest = 0.5406324856\nbestIteration = 503\n\nShrink model to first 504 iterations.\nAccuracy on test set: 70.88 %\n"
        },
        {
          "output_type": "display_data",
          "data": {
            "text/plain": "<Figure size 640x480 with 1 Axes>",
            "image/png": "[encoded data removed]"
          },
          "metadata": {}
        }
      ],
      "execution_count": null,
      "metadata": {
        "colab": {
          "base_uri": "https://localhost:8080/",
          "height": 638
        },
        "id": "r0XJ3Vf1aDQy",
        "outputId": "cda0b263-3dc5-49e7-cb19-527d14cd35a3"
      }
    },
    {
      "cell_type": "code",
      "source": [
        "predictions = model.predict(test)"
      ],
      "outputs": [],
      "execution_count": null,
      "metadata": {
        "id": "S7FPPRk5iwkA"
      }
    },
    {
      "cell_type": "code",
      "source": [
        "test['final_result'] = predictions\n",
        "test[['ID','final_result']].to_csv('sub_1.csv', index = None)"
      ],
      "outputs": [],
      "execution_count": null,
      "metadata": {
        "id": "669dyikNi5Xp"
      }
    },
    {
      "cell_type": "markdown",
      "source": [
        "![image.png](data:image/png;base64,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)"
      ],
      "metadata": {
        "id": "cjwzX-JDllRv"
      }
    },
    {
      "cell_type": "code",
      "source": [],
      "outputs": [],
      "execution_count": null,
      "metadata": {
        "id": "geYRfhzylpYI"
      }
    }
  ],
  "metadata": {
    "colab": {
      "provenance": [],
      "collapsed_sections": [
        "16_EVYV8xbiI",
        "Xowu9Kcbx93g",
        "FAXLaePryS2B",
        "dvj9rSJLzJYo",
        "I4CdNGIrz1lm",
        "w94u03U5XkUR",
        "VSHC1c76RsZI"
      ]
    },
    "kernelspec": {
      "name": "python3",
      "display_name": "Python 3"
    },
    "language_info": {
      "name": "python"
    },
    "nteract": {
      "version": "nteract-front-end@1.0.0"
    }
  },
  "nbformat": 4,
  "nbformat_minor": 0
}